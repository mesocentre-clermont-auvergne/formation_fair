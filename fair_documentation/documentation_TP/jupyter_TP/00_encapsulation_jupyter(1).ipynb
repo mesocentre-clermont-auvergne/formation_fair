{
 "cells": [
  {
   "cell_type": "markdown",
   "id": "24b5badf-2cd5-4fb6-988f-06a834cd473c",
   "metadata": {},
   "source": [
    "<div align=\"center\"> FAIR 2022 - JupyterLab - practice </div>"
   ]
  },
  {
   "cell_type": "markdown",
   "id": "c2050b64-bd2b-4aa5-892e-53cf0612bc68",
   "metadata": {
    "tags": []
   },
   "source": [
    "# Interface discovery"
   ]
  },
  {
   "cell_type": "markdown",
   "id": "abcd54bb-c42c-43fa-bda6-3eb80227a21b",
   "metadata": {
    "tags": []
   },
   "source": [
    "## Connexion to jupyter-lab \n",
    "\n",
    "1. Go to this adress: https://hub.mesocentre.uca.fr/hpc-jupyter/hub/login\n",
    "\n",
    "    <img src=\"images/jupyter_welcome.png\" alt=\"drawing\" width=\"1000\"/>\n",
    "2. Ask a jupyter session\n",
    "\n",
    "     <img src=\"images/start_server.png\" alt=\"drawing\" width=\"1000\"/>\n",
    "3. Submit the job to open the session\n",
    "\n",
    "     <img src=\"images/job_choice.png\" alt=\"drawing\" width=\"1000\"/>\n",
    "4. Discover your interface    \n",
    "     <img src=\"images/jupyter_page.png\" alt=\"drawing\" width=\"1000\"/>\n",
    "\n"
   ]
  },
  {
   "cell_type": "markdown",
   "id": "d1651dc1-a316-4622-bcb0-baec89a328bc",
   "metadata": {
    "tags": []
   },
   "source": [
    "## Discover toolbox\n",
    "\n",
    "    1. From the github repository of the FAIR practice, import the jupyter session part\n",
    "        - from the web interface\n",
    "        - from the cluster terminal\n",
    "    2. Launch the jupyter.ipynb\n",
    "    3. Launch a console interface\n",
    "    4. Launch a terminal interface"
   ]
  },
  {
   "cell_type": "markdown",
   "id": "c079fe87-bcc5-467d-a6e6-5e9f3a8a8fca",
   "metadata": {
    "tags": []
   },
   "source": []
  },
  {
   "cell_type": "markdown",
   "id": "8eaa0efa-bd45-4651-b5b1-79dd4dc2a2b8",
   "metadata": {
    "tags": []
   },
   "source": [
    "### Magic command a special case\n",
    "\n",
    "Jupyter notebook have special commands : `magic commands` and `magic cells` \\\n",
    "The magic command allow you to interact with your environnement to analyse the data. \\\n",
    "To call it, use the `%` symbol before in a `code cell` \\\n",
    "The list of available magic command is available typing : `%lsmagic`\n",
    "This command is available only on the line where it is write\n",
    "\n",
    "The magic cell are cell with specific behaviour due to the magic cell command in the header of the cell \\\n",
    "It is use for example to use command from another language (ruby, bash, R...)\n",
    "\n",
    "1. List the magic commands"
   ]
  },
  {
   "cell_type": "code",
   "execution_count": null,
   "id": "8621b90a-2e53-4ff0-9e23-810131b5a2c6",
   "metadata": {
    "tags": []
   },
   "outputs": [],
   "source": []
  },
  {
   "cell_type": "markdown",
   "id": "37a0ec63-bd6e-4b01-b4c1-6f5cddddf634",
   "metadata": {
    "tags": []
   },
   "source": [
    "2. List folder content using magic command"
   ]
  },
  {
   "cell_type": "markdown",
   "id": "8fafba00-40d7-46e5-99d4-351e083a624d",
   "metadata": {
    "tags": []
   },
   "source": []
  },
  {
   "cell_type": "markdown",
   "id": "0abd06e0-8f7b-4a1d-90ee-37b83ff3ce2b",
   "metadata": {
    "tags": []
   },
   "source": [
    "3. Make a cell with bash code"
   ]
  },
  {
   "cell_type": "code",
   "execution_count": 1,
   "id": "e234ea59-cab9-4e39-aaba-4c9bc7411a0c",
   "metadata": {
    "tags": []
   },
   "outputs": [
    {
     "name": "stderr",
     "output_type": "stream",
     "text": [
      "sh: 1: module: not found\n"
     ]
    },
    {
     "name": "stdout",
     "output_type": "stream",
     "text": [
      "# conda environments:\n",
      "#\n",
      "base                     /home/pierre/miniconda3\n",
      "                         /home/pierre/miniconda3/bin\n",
      "__bakta@1.5.1            /home/pierre/miniconda3/envs/__bakta@1.5.1\n",
      "__metaphlan@3.0.7        /home/pierre/miniconda3/envs/__metaphlan@3.0.7\n",
      "__ncbi-amrfinderplus@_uv_     /home/pierre/miniconda3/envs/__ncbi-amrfinderplus@_uv_\n",
      "__python@3.10.6          /home/pierre/miniconda3/envs/__python@3.10.6\n",
      "__python@3.7             /home/pierre/miniconda3/envs/__python@3.7\n",
      "__python@3.8             /home/pierre/miniconda3/envs/__python@3.8\n",
      "_galaxy_                 /home/pierre/miniconda3/envs/_galaxy_\n",
      "bakta                    /home/pierre/miniconda3/envs/bakta\n",
      "bakta_1.6.0              /home/pierre/miniconda3/envs/bakta_1.6.0\n",
      "bwa                      /home/pierre/miniconda3/envs/bwa\n",
      "data_manager_build_bakta_database     /home/pierre/miniconda3/envs/data_manager_build_bakta_database\n",
      "ephemeris                /home/pierre/miniconda3/envs/ephemeris\n",
      "jupyter               *  /home/pierre/miniconda3/envs/jupyter\n",
      "kraken                   /home/pierre/miniconda3/envs/kraken\n",
      "metaphlan                /home/pierre/miniconda3/envs/metaphlan\n",
      "mulled-v1-291d48ddc5da033aa2e9d8d6a6b8b666a81ddb69a0ddd688e13e300abb2a3c01     /home/pierre/miniconda3/envs/mulled-v1-291d48ddc5da033aa2e9d8d6a6b8b666a81ddb69a0ddd688e13e300abb2a3c01\n",
      "mulled-v1-3b7f3547cb8b2d996e6baa38cc0f65fe8ec2e40c1b93e8150d846d85c71f2cf6     /home/pierre/miniconda3/envs/mulled-v1-3b7f3547cb8b2d996e6baa38cc0f65fe8ec2e40c1b93e8150d846d85c71f2cf6\n",
      "mulled-v1-5cf059845aba3b45584ee051afaa9bcddd7bc3cf2d485bbde0906cfa31e97a65     /home/pierre/miniconda3/envs/mulled-v1-5cf059845aba3b45584ee051afaa9bcddd7bc3cf2d485bbde0906cfa31e97a65\n",
      "mulled-v1-6eb44b040aa2c9212f868fd16566a5ec45c0ec03be2b4395090c1be2d0a7c6f8     /home/pierre/miniconda3/envs/mulled-v1-6eb44b040aa2c9212f868fd16566a5ec45c0ec03be2b4395090c1be2d0a7c6f8\n",
      "mulled-v1-7e1a29b1f50dec364603184e398c4a80ead428864b506448678e87baa43e17dc     /home/pierre/miniconda3/envs/mulled-v1-7e1a29b1f50dec364603184e398c4a80ead428864b506448678e87baa43e17dc\n",
      "mulled-v1-ae2e8371bd5e82d320f7a00c7d7a8617f57727cbbdd45af189c2ce969d9af164     /home/pierre/miniconda3/envs/mulled-v1-ae2e8371bd5e82d320f7a00c7d7a8617f57727cbbdd45af189c2ce969d9af164\n",
      "mulled-v1-e8d857bc9a09d65ddfcdbaa25f9a24dab7865dc40c6a3d511c6bdef55c0c3518     /home/pierre/miniconda3/envs/mulled-v1-e8d857bc9a09d65ddfcdbaa25f9a24dab7865dc40c6a3d511c6bdef55c0c3518\n",
      "pangolin                 /home/pierre/miniconda3/envs/pangolin\n",
      "planemo                  /home/pierre/miniconda3/envs/planemo\n",
      "pycharm                  /home/pierre/miniconda3/envs/pycharm\n",
      "refseqmasher             /home/pierre/miniconda3/envs/refseqmasher\n",
      "rmd_fair                 /home/pierre/miniconda3/envs/rmd_fair\n",
      "shovill                  /home/pierre/miniconda3/envs/shovill\n",
      "snakemake                /home/pierre/miniconda3/envs/snakemake\n",
      "staramr                  /home/pierre/miniconda3/envs/staramr\n",
      "test1                    /home/pierre/miniconda3/envs/test1\n",
      "test2                    /home/pierre/miniconda3/envs/test2\n",
      "toto                     /home/pierre/miniconda3/envs/toto\n",
      "\n",
      "00_encapsulation_jupyter(1).ipynb\n",
      "00_encapsulation_jupyter.html\n",
      "00_encapsulation_jupyter.ipynb\n",
      "CoolBox\n",
      "images\n",
      "r_data\n",
      "hello world\n"
     ]
    }
   ],
   "source": [
    "%%sh\n",
    "module load conda\n",
    "conda env list\n",
    "ls\n",
    "cd ../\n",
    "echo \"hello world\" > fichier_test_bash\n",
    "cat fichier_test_bash"
   ]
  },
  {
   "cell_type": "markdown",
   "id": "f41add45-9dc7-4dcb-8a24-2d9e6eda0377",
   "metadata": {},
   "source": [
    "<details>\n",
    "  <summary>Magic command solution</summary>\n",
    "    \n",
    "1. ```%lsmagic```\n",
    "2. ```%ls```    \n",
    "</details>\n",
    "    "
   ]
  },
  {
   "cell_type": "markdown",
   "id": "41183b80-8f64-4eb6-9fd8-2b3d468b2643",
   "metadata": {},
   "source": [
    "# Make your own Kernel to work\n",
    "```\n",
    "Follow the guide from the mesocentre to install your kernel: https://hub.mesocentre.uca.fr/docs/cluster/applis/jupyterhub/\n",
    "```\n",
    "1. Install a Python Kernel with python 3.10\n",
    "```\n",
    "mamba install -c conda-forge nb_conda_kernels\n",
    "mamba create -n env_py38 python=3.8 numpy matplotlib pandas scipy dask\n",
    "mamba activate env_py38\n",
    "mamba install ipykernel jupyter_client\n",
    "python -m ipykernel install --user --name env_py38 --display-name \"kernel_python_3.8\"\n",
    "```\n",
    "\n",
    "2. Install a R kernel with r-base 4.2\n",
    "\n",
    "```\n",
    "mamba create --name env-r42 r-base=4.2 r-essentials r-irkernel\n",
    "mamba activate env-r42\n",
    "mamba install python=3.7 jupyter_client\n",
    "R -e \"IRkernel::installspec(name='env-r42', displayname='env_R_4.2', user=TRUE)\"\n",
    "```\n",
    "\n",
    "Test available kernels\n",
    "```\n",
    "conda activate env_py38\n",
    "mamba env list\n",
    "jupyter kernelspec list\n",
    "```"
   ]
  },
  {
   "cell_type": "markdown",
   "id": "59540861-3505-4139-9aa7-9d732e16aebb",
   "metadata": {},
   "source": [
    "# Work with both python and R in the same notebook\n",
    "```\n",
    "Jupyter also to work both with python and R in the same notebook\n",
    "The simple way is to create a conda env with python and R, then install a specific library: rpy2\n",
    "```\n",
    "1. In the previous R 4.2 kernel install rpy2 from conda\n",
    "    - use the terminal interface from jupyter\n",
    "    - activate the conda env containing your R version\n",
    "    - install rpy2 from conda\n",
    "3. Create a new notebook file with the kernel containg R and python\n",
    "4. Call the rpy2 package\n",
    "`%load_ext rpy2.ipython`\n",
    "\n",
    "5. Make a notebook with python and R cells \\\n",
    "`Now to call a R code into a cell use : magic variables %%R`\n"
   ]
  },
  {
   "cell_type": "markdown",
   "id": "da5b75d5-2b99-4676-b6b5-d8c5b5960f63",
   "metadata": {},
   "source": [
    "### Import python libraries"
   ]
  },
  {
   "cell_type": "code",
   "execution_count": 2,
   "id": "714b693a-ade5-4edc-9a52-3480dd1b3b47",
   "metadata": {},
   "outputs": [],
   "source": [
    "%load_ext rpy2.ipython\n",
    "import os\n",
    "import pandas as pd\n",
    "import numpy as np\n",
    "import import_ipynb"
   ]
  },
  {
   "cell_type": "markdown",
   "id": "2f14ebd1-8922-4e7b-bf30-0a0f6f9eb0a7",
   "metadata": {},
   "source": [
    "### Import R libraries"
   ]
  },
  {
   "cell_type": "code",
   "execution_count": 3,
   "id": "7255bcf1-dd89-4d4d-83cb-07c1b5743d55",
   "metadata": {},
   "outputs": [
    {
     "name": "stderr",
     "output_type": "stream",
     "text": [
      "R[write to console]: Registered S3 methods overwritten by 'adegraphics':\n",
      "  method         from\n",
      "  biplot.dudi    ade4\n",
      "  kplot.foucart  ade4\n",
      "  kplot.mcoa     ade4\n",
      "  kplot.mfa      ade4\n",
      "  kplot.pta      ade4\n",
      "  kplot.sepan    ade4\n",
      "  kplot.statis   ade4\n",
      "  scatter.coa    ade4\n",
      "  scatter.dudi   ade4\n",
      "  scatter.nipals ade4\n",
      "  scatter.pco    ade4\n",
      "  score.acm      ade4\n",
      "  score.mix      ade4\n",
      "  score.pca      ade4\n",
      "  screeplot.dudi ade4\n",
      "\n",
      "R[write to console]: \n",
      "Attachement du package : ‘adegraphics’\n",
      "\n",
      "\n",
      "R[write to console]: Les objets suivants sont masqués depuis ‘package:ade4’:\n",
      "\n",
      "    kplotsepan.coa, s.arrow, s.class, s.corcircle, s.distri, s.image,\n",
      "    s.label, s.logo, s.match, s.traject, s.value, table.value,\n",
      "    triangle.class\n",
      "\n",
      "\n"
     ]
    }
   ],
   "source": [
    "%%R\n",
    "# load\n",
    "library(ggplot2)\n",
    "library(knitr)\n",
    "library(ade4)\n",
    "library(kableExtra)\n",
    "library(adegraphics)\n",
    "library(gridExtra)"
   ]
  },
  {
   "cell_type": "markdown",
   "id": "033c4b7d-f5a9-4c0b-9ff3-a4965e7875be",
   "metadata": {},
   "source": [
    "### Import a dataframe with python"
   ]
  },
  {
   "cell_type": "code",
   "execution_count": 4,
   "id": "1c5a2c7d-a987-43a2-b95f-a5b8c1fd353e",
   "metadata": {},
   "outputs": [
    {
     "data": {
      "text/html": [
       "<div>\n",
       "<style scoped>\n",
       "    .dataframe tbody tr th:only-of-type {\n",
       "        vertical-align: middle;\n",
       "    }\n",
       "\n",
       "    .dataframe tbody tr th {\n",
       "        vertical-align: top;\n",
       "    }\n",
       "\n",
       "    .dataframe thead th {\n",
       "        text-align: right;\n",
       "    }\n",
       "</style>\n",
       "<table border=\"1\" class=\"dataframe\">\n",
       "  <thead>\n",
       "    <tr style=\"text-align: right;\">\n",
       "      <th></th>\n",
       "      <th>0</th>\n",
       "      <th>1</th>\n",
       "      <th>2</th>\n",
       "      <th>3</th>\n",
       "      <th>4</th>\n",
       "      <th>5</th>\n",
       "      <th>6</th>\n",
       "      <th>7</th>\n",
       "      <th>8</th>\n",
       "      <th>9</th>\n",
       "    </tr>\n",
       "  </thead>\n",
       "  <tbody>\n",
       "    <tr>\n",
       "      <th>cups_of_coffee</th>\n",
       "      <td>0</td>\n",
       "      <td>1</td>\n",
       "      <td>2</td>\n",
       "      <td>3</td>\n",
       "      <td>4</td>\n",
       "      <td>5</td>\n",
       "      <td>6</td>\n",
       "      <td>7</td>\n",
       "      <td>8</td>\n",
       "      <td>9</td>\n",
       "    </tr>\n",
       "    <tr>\n",
       "      <th>productivity</th>\n",
       "      <td>2</td>\n",
       "      <td>5</td>\n",
       "      <td>6</td>\n",
       "      <td>8</td>\n",
       "      <td>9</td>\n",
       "      <td>8</td>\n",
       "      <td>0</td>\n",
       "      <td>1</td>\n",
       "      <td>0</td>\n",
       "      <td>-1</td>\n",
       "    </tr>\n",
       "  </tbody>\n",
       "</table>\n",
       "</div>"
      ],
      "text/plain": [
       "                0  1  2  3  4  5  6  7  8  9\n",
       "cups_of_coffee  0  1  2  3  4  5  6  7  8  9\n",
       "productivity    2  5  6  8  9  8  0  1  0 -1"
      ]
     },
     "execution_count": 4,
     "metadata": {},
     "output_type": "execute_result"
    }
   ],
   "source": [
    "df = pd.DataFrame({\n",
    "    'cups_of_coffee': [0, 1, 2, 3, 4, 5, 6, 7, 8, 9],\n",
    "    'productivity': [2, 5, 6, 8, 9, 8, 0, 1, 0, -1]\n",
    "})\n",
    "df.transpose()"
   ]
  },
  {
   "cell_type": "markdown",
   "id": "5a51eb3c-660f-4da1-b016-1c797e95a928",
   "metadata": {},
   "source": [
    "### Plot the data with ggplot2"
   ]
  },
  {
   "cell_type": "code",
   "execution_count": 5,
   "id": "cbc11f4f-c8e1-49df-9bef-2d897bb666aa",
   "metadata": {},
   "outputs": [
    {
     "name": "stderr",
     "output_type": "stream",
     "text": [
      "/home/pierre/miniconda3/envs/jupyter/lib/python3.10/site-packages/rpy2/robjects/pandas2ri.py:54: FutureWarning: iteritems is deprecated and will be removed in a future version. Use .items instead.\n",
      "  for name, values in obj.iteritems():\n"
     ]
    },
    {
     "data": {
      "image/png": "[encoded data removed]"
     },
     "metadata": {},
     "output_type": "display_data"
    }
   ],
   "source": [
    "%%R -i df\n",
    "ggplot(df, aes(x=reorder(cups_of_coffee,productivity), y=productivity)) + geom_col() + coord_flip()"
   ]
  },
  {
   "cell_type": "markdown",
   "id": "ddaa21e0-5e67-4f72-bd99-0b7c28825332",
   "metadata": {},
   "source": [
    "### Repeat the rmarkdown code into jupyter\n",
    "We try to make the same exercise as in rmarkdown"
   ]
  },
  {
   "cell_type": "markdown",
   "id": "d79d8f3a-0ab1-4afd-8205-bb9bd70aa7b2",
   "metadata": {},
   "source": [
    "#### Load the required libraries"
   ]
  },
  {
   "cell_type": "code",
   "execution_count": 6,
   "id": "efa2f0d5-10e6-4d46-9a8e-9b8a4c09dc06",
   "metadata": {},
   "outputs": [],
   "source": [
    "%%R\n",
    "# function to automatically install missing libraries from r-cran or biocmanager\n",
    "\n",
    "check_rcran_library <- function(rcran_lib=\"vector of rcran lib required\"){\n",
    " # list of installed packages\n",
    " rcran_lib_require <-  rcran_lib[!(rcran_lib %in% installed.packages()[,\"Package\"])]\n",
    " # installe les librairies manquantes pour R CRAN\n",
    " if(length(rcran_lib_require)) install.packages(rcran_lib_require)\n",
    " suppressMessages(lapply(rcran_lib, require, character.only = TRUE))\n",
    "}\n",
    "\n",
    "check_bioconductor_library <- function(bioconductor_lib=\"vector of rcran lib required\"){\n",
    "  # list of installed packages\n",
    "  bioconductor_lib_require <-  bioconductor_lib[!(bioconductor_lib %in% installed.packages()[,\"Package\"])]\n",
    "  # installe les librairies manquantes pour R CRAN\n",
    "  if(length(bioconductor_lib_require)) install.packages(bioconductor_lib_require)\n",
    "  suppressMessages(lapply(bioconductor_lib, require, character.only = TRUE))\n",
    "}"
   ]
  },
  {
   "cell_type": "code",
   "execution_count": 7,
   "id": "34263281-8e73-4a4a-959d-28cc9c47a80e",
   "metadata": {},
   "outputs": [],
   "source": [
    "%%R\n",
    "# List of libraries\n",
    "cran_lib <- c(\"ggplot2\",\"ade4\",\"kableExtra\",\"adegraphics\",\"gridExtra\",\"IRdisplay\")\n",
    "import_lib = check_rcran_library(rcran_lib = cran_lib)"
   ]
  },
  {
   "cell_type": "code",
   "execution_count": 8,
   "id": "45d58281-1465-46b0-b4c6-84332a6c656c",
   "metadata": {},
   "outputs": [
    {
     "ename": "SyntaxError",
     "evalue": "expression cannot contain assignment, perhaps you meant \"==\"? (2617582166.py, line 5)",
     "output_type": "error",
     "traceback": [
      "\u001b[0;36m  Cell \u001b[0;32mIn [8], line 5\u001b[0;36m\u001b[0m\n\u001b[0;31m    doubs_files <- list.files(path=file_path, full.names = T)\u001b[0m\n\u001b[0m                                              ^\u001b[0m\n\u001b[0;31mSyntaxError\u001b[0m\u001b[0;31m:\u001b[0m expression cannot contain assignment, perhaps you meant \"==\"?\n"
     ]
    }
   ],
   "source": [
    "#### Load the data\n",
    "%%R\n",
    "# Load and check your data\n",
    "file_path <-  \"r_data\"\n",
    "doubs_files <- list.files(path=file_path, full.names = T)\n",
    "doubs <- list()\n",
    "for (doubs_df in doubs_files){\n",
    "    tmp_data <- read.table(doubs_df, h =T, sep=\"\\t\")\n",
    "    doubs[[basename(doubs_df)]] <- tmp_data\n",
    "}"
   ]
  },
  {
   "cell_type": "code",
   "execution_count": null,
   "id": "449ca5a7-8bc1-4a96-b501-74270d213e63",
   "metadata": {},
   "outputs": [],
   "source": [
    "#### Make the PCA and visualize\n",
    "%%R\n",
    "# Analyses\n",
    "acp1 <- dudi.pca(doubs$env, scan =  FALSE)\n",
    "acp2 <- dudi.pca(doubs$fish, scan =  FALSE, scale = FALSE)\n",
    "# Plot the results\n",
    "g1 <- scatter(acp2, plot = FALSE)\n",
    "g2 <- s.value(doubs$xy, acp2$li[,1], plot = FALSE)\n",
    "ADEgS(c(g1, g2), layout = c(1, 2))"
   ]
  },
  {
   "cell_type": "markdown",
   "id": "46f9237e-bb87-4658-9fc9-45fa1bbdb3b8",
   "metadata": {},
   "source": [
    "# Example of genomic visualisation"
   ]
  },
  {
   "cell_type": "code",
   "execution_count": null,
   "id": "73adc2b7-bfc4-45c5-ab64-727465f8c82e",
   "metadata": {},
   "outputs": [],
   "source": [
    "from coolbox.api import *\n",
    "\n",
    "DATA_DIR = f\"CoolBox/tests/test_data\"\n",
    "test_interval = \"chr9:4000000-6000000\"\n",
    "test_itv = test_interval.replace(':', '_').replace('-', '_')\n",
    "\n",
    "cool1 = Cool(f\"{DATA_DIR}/cool_{test_itv}.mcool\", cmap=\"JuiceBoxLike\", style='window', color_bar='vertical')\n",
    "with TrackHeight(2):\n",
    "    frame = XAxis() + \\\n",
    "        cool1 + Title(\"Hi-C(.cool)\") + \\\n",
    "        TADCoverage(f\"{DATA_DIR}/tad_{test_itv}.bed\", border_only=True, alpha=1) + Title(\"HIC with TADs\") + \\\n",
    "        Spacer(0.1) + \\\n",
    "        BED(f\"{DATA_DIR}/tad_{test_itv}.bed\", border_only=True, alpha=1) + Title(\"TADs\") + \\\n",
    "        DiScore(cool1, window_size=30) + Feature(title=\"Directionality index\") + \\\n",
    "        InsuScore(cool1, window_size=30) + Title(\"Insulation score\") + \\\n",
    "        Virtual4C(cool1, \"chr9:4986000-4986000\") + Title(\"Virtual4C\") + \\\n",
    "        BAMCov(f\"{DATA_DIR}/bam_{test_itv}.bam\") + Title(\"BAM Coverage\") +\\\n",
    "        Spacer(0.1) + \\\n",
    "        Arcs(f\"{DATA_DIR}/bedpe_{test_itv}.bedpe\", line_width=1.5) + Title(\"Arcs(BEDPE)\") + \\\n",
    "        Arcs(f\"{DATA_DIR}/pairs_{test_itv}.pairs\", line_width=1.5) + Inverted() + Title(\"Arcs(Pairs)\") + \\\n",
    "        GTF(f\"{DATA_DIR}/gtf_{test_itv}.gtf\", length_ratio_thresh=0.005) + TrackHeight(6) + Title(\"GTF Annotation\") + \\\n",
    "        Spacer(0.1) + \\\n",
    "        BigWig(f\"{DATA_DIR}/bigwig_{test_itv}.bw\") + Title(\"BigWig\") + \\\n",
    "        BedGraph(f\"{DATA_DIR}/bedgraph_{test_itv}.bg\") + Title(\"BedGraph\") + \\\n",
    "        Spacer(0.1) + \\\n",
    "        BED(f\"{DATA_DIR}/bed_{test_itv}.bed\") + Feature(height=10, title=\"BED Annotation\")\n",
    "frame.properties['width'] = 45\n",
    "frame.goto(test_interval)\n",
    "frame.show()"
   ]
  },
  {
   "cell_type": "markdown",
   "id": "08ac0aea-d4fa-4903-8766-115c823dfcb2",
   "metadata": {},
   "source": [
    "# Example of interactive genome visualisation"
   ]
  },
  {
   "cell_type": "code",
   "execution_count": null,
   "id": "caeade24-2b63-442d-bf89-446f9032acce",
   "metadata": {},
   "outputs": [],
   "source": [
    "from igv_jupyterlab import IGV\n",
    "\n",
    "# At minimum, IGV requires a single argument, genome.\n",
    "\n",
    "# For supported genomes, a simple name may be supplied.\n",
    "IGV(genome=\"hg19\")\n",
    "\n",
    "# For all other genomes, we must construct a configuration object.\n",
    "# A helper method supplied to make this easier.\n",
    "genome = IGV.create_genome(\n",
    "    name=\"Human (GRCh38/hg38)\",\n",
    "    fasta_url=\"https://s3.amazonaws.com/igv.broadinstitute.org/genomes/seq/hg38/hg38.fa\",\n",
    "    index_url=\"https://s3.amazonaws.com/igv.broadinstitute.org/genomes/seq/hg38/hg38.fa.fai\",\n",
    "    cytoband_url=\"https://s3.amazonaws.com/igv.broadinstitute.org/annotations/hg38/cytoBandIdeo.txt\",\n",
    ")\n",
    "\n",
    "igv = IGV(genome=genome)\n",
    "\n",
    "display(igv)"
   ]
  },
  {
   "cell_type": "code",
   "execution_count": null,
   "id": "f423aaa7-2ff6-4290-9998-02a61db6ce13",
   "metadata": {},
   "outputs": [
    {
     "name": "stdout",
     "output_type": "stream",
     "text": [
      "\n",
      "                  __    __    __    __\n",
      "                 /  \\  /  \\  /  \\  /  \\\n",
      "                /    \\/    \\/    \\/    \\\n",
      "███████████████/  /██/  /██/  /██/  /████████████████████████\n",
      "              /  / \\   / \\   / \\   / \\  \\____\n",
      "             /  /   \\_/   \\_/   \\_/   \\    o \\__,\n",
      "            / _/                       \\_____/  `\n",
      "            |/\n",
      "        ███╗   ███╗ █████╗ ███╗   ███╗██████╗  █████╗\n",
      "        ████╗ ████║██╔══██╗████╗ ████║██╔══██╗██╔══██╗\n",
      "        ██╔████╔██║███████║██╔████╔██║██████╔╝███████║\n",
      "        ██║╚██╔╝██║██╔══██║██║╚██╔╝██║██╔══██╗██╔══██║\n",
      "        ██║ ╚═╝ ██║██║  ██║██║ ╚═╝ ██║██████╔╝██║  ██║\n",
      "        ╚═╝     ╚═╝╚═╝  ╚═╝╚═╝     ╚═╝╚═════╝ ╚═╝  ╚═╝\n",
      "\n",
      "        mamba (0.26.0) supported by @QuantStack\n",
      "\n",
      "        GitHub:  https://github.com/mamba-org/mamba\n",
      "        Twitter: https://twitter.com/QuantStack\n",
      "\n",
      "█████████████████████████████████████████████████████████████\n",
      "\n",
      "\n",
      "Looking for: ['env', 'list']\n",
      "\n",
      "\u001b[?25l\u001b[2K\u001b[0G[+] 0.0s\n",
      "bioconda/linux-64    \u001b[33m━━━━━━━━━━━━━╸\u001b[0m\u001b[90m━━━━━━━━━\u001b[0m   0.0 B /  ??.?MB @  ??.?MB/s  0.0s\n",
      "bioconda/noarch      \u001b[90m━━━╸\u001b[0m\u001b[33m━━━━━━━━━━━━━━━╸\u001b[0m\u001b[90m━━━\u001b[0m   0.0 B /  ??.?MB @  ??.?MB/s  0.0s\n",
      "conda-forge/linux-64 \u001b[33m━━━━━━━━━━╸\u001b[0m\u001b[90m━━━━━━━━━━━━\u001b[0m   0.0 B /  ??.?MB @  ??.?MB/s  0.0s\n",
      "conda-forge/noarch   \u001b[90m━━━━━━━━━╸\u001b[0m\u001b[33m━━━━━━━━━━━━━\u001b[0m   0.0 B /  ??.?MB @  ??.?MB/s  0.0s\u001b[2K\u001b[1A\u001b[2K\u001b[1A\u001b[2K\u001b[1A\u001b[2K\u001b[1A\u001b[2K\u001b[0G[+] 0.1s\n",
      "bioconda/linux-64    \u001b[33m━━━━━━━━━━━━━╸\u001b[0m\u001b[90m━━━━━━━━━\u001b[0m   0.0 B /  ??.?MB @  ??.?MB/s  0.1s\n",
      "bioconda/noarch      \u001b[90m━━━╸\u001b[0m\u001b[33m━━━━━━━━━━━━━━━╸\u001b[0m\u001b[90m━━━\u001b[0m   0.0 B /  ??.?MB @  ??.?MB/s  0.1s\n",
      "conda-forge/linux-64 \u001b[33m━━━━━━━━━━╸\u001b[0m\u001b[90m━━━━━━━━━━━━\u001b[0m   0.0 B /  ??.?MB @  ??.?MB/s  0.1s\n",
      "conda-forge/noarch   \u001b[90m━━━━━━━━━╸\u001b[0m\u001b[33m━━━━━━━━━━━━━\u001b[0m   0.0 B /  ??.?MB @  ??.?MB/s  0.1s\n",
      "pkgs/main/linux-64   \u001b[90m━━━━━━━━━━╸\u001b[0m\u001b[33m━━━━━━━━━━━━\u001b[0m   0.0 B /  ??.?MB @  ??.?MB/s  0.1s\u001b[2K\u001b[1A\u001b[2K\u001b[1A\u001b[2K\u001b[1A\u001b[2K\u001b[1A\u001b[2K\u001b[1A\u001b[2K\u001b[0G[+] 0.2s\n",
      "bioconda/linux-64    \u001b[90m╸\u001b[0m\u001b[33m━━━━━━━━━━━━━━━╸\u001b[0m\u001b[90m━━━━━━\u001b[0m   0.0 B /  ??.?MB @  ??.?MB/s  0.2s\n",
      "bioconda/noarch      \u001b[90m━━━━━╸\u001b[0m\u001b[33m━━━━━━━━━━━━━━━╸\u001b[0m\u001b[90m━\u001b[0m   0.0 B /  ??.?MB @  ??.?MB/s  0.2s\n",
      "conda-forge/linux-64 \u001b[33m━━━━━━━━━━━━╸\u001b[0m\u001b[90m━━━━━━━━━━\u001b[0m   0.0 B /  ??.?MB @  ??.?MB/s  0.2s\n",
      "conda-forge/noarch   \u001b[90m━━━━━━━━━━━━╸\u001b[0m\u001b[33m━━━━━━━━━━\u001b[0m   0.0 B /  ??.?MB @  ??.?MB/s  0.2s\n",
      "pkgs/main/linux-64   \u001b[90m━━━━━━━━━━━━╸\u001b[0m\u001b[33m━━━━━━━━━━\u001b[0m   0.0 B /  ??.?MB @  ??.?MB/s  0.2s\u001b[2K\u001b[1A\u001b[2K\u001b[1A\u001b[2K\u001b[1A\u001b[2K\u001b[1A\u001b[2K\u001b[1A\u001b[2K\u001b[0G[+] 0.3s\n",
      "bioconda/linux-64    \u001b[90m╸\u001b[0m\u001b[33m━━━━━━━━━━━━━━━╸\u001b[0m\u001b[90m━━━━━━\u001b[0m   0.0 B /  ??.?MB @  ??.?MB/s  0.3s\n",
      "bioconda/noarch      \u001b[90m━━━━━╸\u001b[0m\u001b[33m━━━━━━━━━━━━━━━╸\u001b[0m\u001b[90m━\u001b[0m   0.0 B /  ??.?MB @  ??.?MB/s  0.3s\n",
      "conda-forge/linux-64 \u001b[33m━━━━━━━━━━━━╸\u001b[0m\u001b[90m━━━━━━━━━━\u001b[0m   0.0 B /  ??.?MB @  ??.?MB/s  0.3s\n",
      "conda-forge/noarch   \u001b[90m━━━━━━━━━━━━╸\u001b[0m\u001b[33m━━━━━━━━━━\u001b[0m   0.0 B /  ??.?MB @  ??.?MB/s  0.3s\n",
      "pkgs/main/linux-64   \u001b[90m━━━━━━━━━━━━╸\u001b[0m\u001b[33m━━━━━━━━━━\u001b[0m   0.0 B /  ??.?MB @  ??.?MB/s  0.3s\u001b[2K\u001b[1A\u001b[2K\u001b[1A\u001b[2K\u001b[1A\u001b[2K\u001b[1A\u001b[2K\u001b[1A\u001b[2K\u001b[0G[+] 0.4s\n",
      "bioconda/linux-64    \u001b[90m━━╸\u001b[0m\u001b[33m━━━━━━━━━━━━━━━╸\u001b[0m\u001b[90m━━━━\u001b[0m 159.7kB /  ??.?MB @ 441.5kB/s  0.4s\n",
      "bioconda/noarch      \u001b[90m━━━━━━━╸\u001b[0m\u001b[33m━━━━━━━━━━━━━━━\u001b[0m 155.6kB /  ??.?MB @ 429.9kB/s  0.4s\n",
      "conda-forge/linux-64 \u001b[33m━━━━━━━━━━━━━━╸\u001b[0m\u001b[90m━━━━━━━━\u001b[0m 150.3kB /  ??.?MB @ 415.1kB/s  0.4s\n",
      "conda-forge/noarch   \u001b[33m━━━━━━━━╸\u001b[0m\u001b[90m━━━━━━━━━━━━━━\u001b[0m 124.3kB /  ??.?MB @ 343.5kB/s  0.4s\n",
      "pkgs/main/linux-64   \u001b[33m━━━━━━━━╸\u001b[0m\u001b[90m━━━━━━━━━━━━━━\u001b[0m 262.1kB /  ??.?MB @ 723.8kB/s  0.4s\u001b[2K\u001b[1A\u001b[2K\u001b[1A\u001b[2K\u001b[1A\u001b[2K\u001b[1A\u001b[2K\u001b[1A\u001b[2K\u001b[0G[+] 0.5s\n",
      "bioconda/linux-64    \u001b[90m━━━━╸\u001b[0m\u001b[33m━━━━━━━━━━━━━━━╸\u001b[0m\u001b[90m━━\u001b[0m 798.9kB /  ??.?MB @   1.7MB/s  0.5s\n",
      "bioconda/noarch      \u001b[90m━━━━━━━━━╸\u001b[0m\u001b[33m━━━━━━━━━━━━━\u001b[0m 893.3kB /  ??.?MB @   1.9MB/s  0.5s\n",
      "conda-forge/linux-64 \u001b[90m━╸\u001b[0m\u001b[33m━━━━━━━━━━━━━━━╸\u001b[0m\u001b[90m━━━━━\u001b[0m 854.6kB /  ??.?MB @   1.8MB/s  0.5s\n",
      "conda-forge/noarch   \u001b[33m━━━━━━━━━━╸\u001b[0m\u001b[90m━━━━━━━━━━━━\u001b[0m 883.5kB /  ??.?MB @   1.9MB/s  0.5s\n",
      "pkgs/main/linux-64   \u001b[33m━━━━━━━━━━╸\u001b[0m\u001b[90m━━━━━━━━━━━━\u001b[0m   1.0MB /  ??.?MB @   2.2MB/s  0.5s\u001b[2K\u001b[1A\u001b[2K\u001b[1A\u001b[2K\u001b[1A\u001b[2K\u001b[1A\u001b[2K\u001b[1A\u001b[2K\u001b[0G[+] 0.6s\n",
      "bioconda/linux-64    \u001b[90m━━━━━━╸\u001b[0m\u001b[33m━━━━━━━━━━━━━━━━\u001b[0m   1.2MB /  ??.?MB @   2.2MB/s  0.6s\n",
      "bioconda/noarch      \u001b[90m━━━━━━━━━━━╸\u001b[0m\u001b[33m━━━━━━━━━━━\u001b[0m   1.3MB /  ??.?MB @   2.4MB/s  0.6s\n",
      "conda-forge/linux-64 \u001b[90m━━━╸\u001b[0m\u001b[33m━━━━━━━━━━━━━━━╸\u001b[0m\u001b[90m━━━\u001b[0m   1.2MB /  ??.?MB @   2.0MB/s  0.6s\n",
      "conda-forge/noarch   \u001b[33m━━━━━━━━━━━━╸\u001b[0m\u001b[90m━━━━━━━━━━\u001b[0m   1.3MB /  ??.?MB @   2.4MB/s  0.6s\n",
      "pkgs/main/linux-64   \u001b[33m━━━━━━━━━━━━━╸\u001b[0m\u001b[90m━━━━━━━━━\u001b[0m   1.6MB /  ??.?MB @   2.9MB/s  0.6s\u001b[2K\u001b[1A\u001b[2K\u001b[1A\u001b[2K\u001b[1A\u001b[2K\u001b[1A\u001b[2K\u001b[1A\u001b[2K\u001b[0G[+] 0.7s\n",
      "bioconda/linux-64    \u001b[90m━━━━━━━━╸\u001b[0m\u001b[33m━━━━━━━━━━━━━━\u001b[0m   1.8MB /  ??.?MB @   2.7MB/s  0.7s\n",
      "bioconda/noarch      \u001b[33m━━━━━━━━╸\u001b[0m\u001b[90m━━━━━━━━━━━━━━\u001b[0m   1.9MB /  ??.?MB @   2.9MB/s  0.7s\n",
      "conda-forge/linux-64 \u001b[90m━━━━━╸\u001b[0m\u001b[33m━━━━━━━━━━━━━━━╸\u001b[0m\u001b[90m━\u001b[0m   2.0MB /  ??.?MB @   3.0MB/s  0.7s\n",
      "conda-forge/noarch   \u001b[33m━━━━━━━━━━━━━━╸\u001b[0m\u001b[90m━━━━━━━━\u001b[0m   1.9MB /  ??.?MB @   2.8MB/s  0.7s\n",
      "pkgs/main/linux-64   \u001b[33m━━━━━━━━━━━━━━━╸\u001b[0m\u001b[90m━━━━━━━\u001b[0m   2.2MB /  ??.?MB @   3.3MB/s  0.7s\u001b[2K\u001b[1A\u001b[2K\u001b[1A\u001b[2K\u001b[1A\u001b[2K\u001b[1A\u001b[2K\u001b[1A\u001b[2K\u001b[0G[+] 0.8s\n",
      "bioconda/linux-64    \u001b[90m━━━━━━━━━━━╸\u001b[0m\u001b[33m━━━━━━━━━━━\u001b[0m   2.4MB /  ??.?MB @   3.1MB/s  0.8s\n",
      "bioconda/noarch      \u001b[33m━━━━━━━━━━╸\u001b[0m\u001b[90m━━━━━━━━━━━━\u001b[0m   2.4MB /  ??.?MB @   3.1MB/s  0.8s\n",
      "conda-forge/linux-64 \u001b[90m━━━━━━━╸\u001b[0m\u001b[33m━━━━━━━━━━━━━━━\u001b[0m   2.5MB /  ??.?MB @   3.2MB/s  0.8s\n",
      "conda-forge/noarch   \u001b[90m━╸\u001b[0m\u001b[33m━━━━━━━━━━━━━━━╸\u001b[0m\u001b[90m━━━━━\u001b[0m   2.4MB /  ??.?MB @   3.1MB/s  0.8s\n",
      "pkgs/main/linux-64   \u001b[90m━╸\u001b[0m\u001b[33m━━━━━━━━━━━━━━━╸\u001b[0m\u001b[90m━━━━━\u001b[0m   2.8MB /  ??.?MB @   3.6MB/s  0.8s\u001b[2K\u001b[1A\u001b[2K\u001b[1A\u001b[2K\u001b[1A\u001b[2K\u001b[1A\u001b[2K\u001b[1A\u001b[2K\u001b[0G[+] 0.9s\n",
      "bioconda/linux-64    \u001b[90m━━━━━━━━━━━━━╸\u001b[0m\u001b[33m━━━━━━━━━\u001b[0m   2.9MB /  ??.?MB @   3.3MB/s  0.9s\n",
      "bioconda/noarch      \u001b[33m━━━━━━━━━━━━╸\u001b[0m\u001b[90m━━━━━━━━━━\u001b[0m   2.9MB /  ??.?MB @   3.4MB/s  0.9s\n",
      "conda-forge/linux-64 \u001b[90m━━━━━━━━━╸\u001b[0m\u001b[33m━━━━━━━━━━━━━\u001b[0m   3.0MB /  ??.?MB @   3.5MB/s  0.9s\n",
      "conda-forge/noarch   \u001b[90m━━━╸\u001b[0m\u001b[33m━━━━━━━━━━━━━━━╸\u001b[0m\u001b[90m━━━\u001b[0m   2.8MB /  ??.?MB @   3.3MB/s  0.9s\n",
      "pkgs/main/linux-64   \u001b[90m━━━╸\u001b[0m\u001b[33m━━━━━━━━━━━━━━━╸\u001b[0m\u001b[90m━━━\u001b[0m   3.3MB /  ??.?MB @   3.8MB/s  0.9s\u001b[2K\u001b[1A\u001b[2K\u001b[1A\u001b[2K\u001b[1A\u001b[2K\u001b[1A\u001b[2K\u001b[1A\u001b[2K\u001b[0G[+] 1.0s\n",
      "bioconda/linux-64    \u001b[33m━━━━━━━━━╸\u001b[0m\u001b[90m━━━━━━━━━━━━━\u001b[0m   3.4MB /  ??.?MB @   3.5MB/s  1.0s\n",
      "bioconda/noarch      \u001b[33m━━━━━━━━━━━━━━╸\u001b[0m\u001b[90m━━━━━━━━\u001b[0m   3.4MB /  ??.?MB @   3.5MB/s  1.0s\n",
      "conda-forge/linux-64 \u001b[90m━━━━━━━━━━━━╸\u001b[0m\u001b[33m━━━━━━━━━━\u001b[0m   3.5MB /  ??.?MB @   3.6MB/s  1.0s\n",
      "conda-forge/noarch   \u001b[90m━━━━━╸\u001b[0m\u001b[33m━━━━━━━━━━━━━━━╸\u001b[0m\u001b[90m━\u001b[0m   3.3MB /  ??.?MB @   3.4MB/s  1.0s\n",
      "pkgs/main/linux-64   \u001b[90m━━━━━╸\u001b[0m\u001b[33m━━━━━━━━━━━━━━━╸\u001b[0m\u001b[90m━\u001b[0m   3.9MB /  ??.?MB @   4.0MB/s  1.0s\u001b[2K\u001b[1A\u001b[2K\u001b[1A\u001b[2K\u001b[1A\u001b[2K\u001b[1A\u001b[2K\u001b[1A\u001b[2K\u001b[0G[+] 1.1s\n",
      "bioconda/linux-64    \u001b[33m━━━━━━━━━━━╸\u001b[0m\u001b[90m━━━━━━━━━━━\u001b[0m   3.9MB /  ??.?MB @   3.6MB/s  1.1s\n",
      "bioconda/noarch      \u001b[90m╸\u001b[0m\u001b[33m━━━━━━━━━━━━━━━╸\u001b[0m\u001b[90m━━━━━━\u001b[0m   3.9MB /  ??.?MB @   3.6MB/s  1.1s\n",
      "conda-forge/linux-64 \u001b[33m━━━━━━━━╸\u001b[0m\u001b[90m━━━━━━━━━━━━━━\u001b[0m   4.1MB /  ??.?MB @   3.8MB/s  1.1s\n",
      "conda-forge/noarch   \u001b[90m━━━━━━━╸\u001b[0m\u001b[33m━━━━━━━━━━━━━━━\u001b[0m   3.8MB /  ??.?MB @   3.5MB/s  1.1s\n",
      "pkgs/main/linux-64   \u001b[90m━━━━━━━━╸\u001b[0m\u001b[33m━━━━━━━━━━━━━━\u001b[0m   4.4MB /  ??.?MB @   4.1MB/s  1.1s\u001b[2K\u001b[1A\u001b[2K\u001b[1A\u001b[2K\u001b[1A\u001b[2K\u001b[1A\u001b[2K\u001b[1A\u001b[2K\u001b[0G[+] 1.2s\n",
      "bioconda/linux-64    \u001b[33m━━━━━━━━━━━━╸\u001b[0m\u001b[90m━━━━━━━━━\u001b[0m   4.1MB @   3.7MB/s             1.2s\n",
      "bioconda/noarch      ━━━━━━━━━━━━━━━━━━━━━━   4.2MB @   3.7MB/s Finalizing  1.2s\n",
      "conda-forge/linux-64 \u001b[33m━━━━━━━━━╸\u001b[0m\u001b[90m━━━━━━━━━━━━\u001b[0m   4.4MB @   3.9MB/s             1.2s\n",
      "conda-forge/noarch   \u001b[90m━━━━━━━━╸\u001b[0m\u001b[33m━━━━━━━━━━━━━\u001b[0m   4.0MB @   3.6MB/s             1.2s\n",
      "pkgs/main/linux-64   \u001b[90m━━━━━━━━╸\u001b[0m\u001b[33m━━━━━━━━━━━━━\u001b[0m   4.7MB @   4.2MB/s             1.2s\n",
      "pkgs/r/noarch        \u001b[33m━━━━━━━━╸\u001b[0m\u001b[90m━━━━━━━━━━━━━\u001b[0m   0.0 B @  ??.?MB/s             0.1s\u001b[2K\u001b[1A\u001b[2K\u001b[1A\u001b[2K\u001b[1A\u001b[2K\u001b[1A\u001b[2K\u001b[1A\u001b[2K\u001b[1A\u001b[2K\u001b[0Gbioconda/noarch                                    @   3.7MB/s  1.3s\n",
      "[+] 1.3s\n",
      "bioconda/linux-64    \u001b[33m━━━━━━━━━━━━━╸\u001b[0m\u001b[90m━━━━━━━━━\u001b[0m   4.3MB /  ??.?MB @   3.3MB/s  1.3s\n",
      "conda-forge/linux-64 \u001b[33m━━━━━━━━━━╸\u001b[0m\u001b[90m━━━━━━━━━━━━\u001b[0m   4.5MB /  ??.?MB @   3.5MB/s  1.3s\n",
      "conda-forge/noarch   \u001b[90m━━━━━━━━━╸\u001b[0m\u001b[33m━━━━━━━━━━━━━\u001b[0m   4.2MB /  ??.?MB @   3.3MB/s  1.3s\n",
      "pkgs/main/linux-64   \u001b[90m━━━━━━━━━━╸\u001b[0m\u001b[33m━━━━━━━━━━━━\u001b[0m   4.9MB /  ??.?MB @   3.8MB/s  1.3s\n"
     ]
    },
    {
     "name": "stdout",
     "output_type": "stream",
     "text": [
      "pkgs/r/noarch        \u001b[33m━━━━━━━━━╸\u001b[0m\u001b[90m━━━━━━━━━━━━━\u001b[0m   0.0 B /  ??.?MB @  ??.?MB/s  0.2s\u001b[2K\u001b[1A\u001b[2K\u001b[1A\u001b[2K\u001b[1A\u001b[2K\u001b[1A\u001b[2K\u001b[1A\u001b[2K\u001b[0G[+] 1.4s\n",
      "bioconda/linux-64    \u001b[33m━━━━━━━━━━━━━━╸\u001b[0m\u001b[90m━━━━━━━\u001b[0m   4.5MB @   3.4MB/s             1.4s\n",
      "conda-forge/linux-64 \u001b[33m━━━━━━━━━━━╸\u001b[0m\u001b[90m━━━━━━━━━━\u001b[0m   4.7MB @   3.5MB/s             1.4s\n",
      "conda-forge/noarch   \u001b[90m━━━━━━━━━━╸\u001b[0m\u001b[33m━━━━━━━━━━━\u001b[0m   4.5MB @   3.3MB/s             1.4s\n",
      "pkgs/main/linux-64   ━━━━━━━━━━━━━━━━━━━━━━   5.5MB @   4.1MB/s Finalizing  1.4s\n",
      "pkgs/r/linux-64      \u001b[33m━━━━━━━━━━╸\u001b[0m\u001b[90m━━━━━━━━━━━\u001b[0m   0.0 B @  ??.?MB/s             0.1s\n",
      "pkgs/r/noarch        \u001b[33m━━━━━━━━━━╸\u001b[0m\u001b[90m━━━━━━━━━━━\u001b[0m   0.0 B @  ??.?MB/s             0.3s\u001b[2K\u001b[1A\u001b[2K\u001b[1A\u001b[2K\u001b[1A\u001b[2K\u001b[1A\u001b[2K\u001b[1A\u001b[2K\u001b[1A\u001b[2K\u001b[0Gpkgs/main/linux-64                                 @   4.1MB/s  1.4s\n",
      "pkgs/r/linux-64                                               No change\n",
      "pkgs/r/noarch                                                 No change\n",
      "[+] 1.5s\n",
      "bioconda/linux-64    ━━━━━━━━━━━━━━━━━━━━━━   4.6MB @   3.1MB/s Finalizing  1.5s\n",
      "conda-forge/linux-64 \u001b[33m━━━━━━━━━━━━╸\u001b[0m\u001b[90m━━━━━━━━━\u001b[0m   4.7MB @   3.2MB/s             1.5s\n",
      "conda-forge/noarch   \u001b[90m━━━━━━━━━━━╸\u001b[0m\u001b[33m━━━━━━━━━━\u001b[0m   4.5MB @   3.1MB/s             1.5s\n",
      "pkgs/main/noarch     \u001b[33m━━━━━━━━━━━━━━━╸\u001b[0m\u001b[90m━━━━━━\u001b[0m   0.0 B @  ??.?MB/s             0.0s\u001b[2K\u001b[1A\u001b[2K\u001b[1A\u001b[2K\u001b[1A\u001b[2K\u001b[1A\u001b[2K\u001b[0Gbioconda/linux-64                                  @   3.1MB/s  1.6s\n",
      "pkgs/main/noarch                                              No change\n",
      "[+] 1.6s\n",
      "conda-forge/linux-64 \u001b[33m━━━━━━━━━━━━━╸\u001b[0m\u001b[90m━━━━━━━━━\u001b[0m   4.8MB /  ??.?MB @   3.0MB/s  1.6s\n",
      "conda-forge/noarch   \u001b[90m━━━━━━━━━━━━━╸\u001b[0m\u001b[33m━━━━━━━━━\u001b[0m   4.5MB /  ??.?MB @   2.8MB/s  1.6s\u001b[2K\u001b[1A\u001b[2K\u001b[1A\u001b[2K\u001b[0G[+] 1.7s\n",
      "conda-forge/linux-64 \u001b[90m╸\u001b[0m\u001b[33m━━━━━━━━━━━━━━━╸\u001b[0m\u001b[90m━━━━━━\u001b[0m   6.4MB /  ??.?MB @   3.8MB/s  1.7s\n",
      "conda-forge/noarch   \u001b[33m━━━━━━━━━╸\u001b[0m\u001b[90m━━━━━━━━━━━━━\u001b[0m   6.4MB /  ??.?MB @   3.8MB/s  1.7s\u001b[2K\u001b[1A\u001b[2K\u001b[1A\u001b[2K\u001b[0G[+] 1.8s\n",
      "conda-forge/linux-64 \u001b[90m━━╸\u001b[0m\u001b[33m━━━━━━━━━━━━━━━╸\u001b[0m\u001b[90m━━━━\u001b[0m   7.6MB /  ??.?MB @   4.3MB/s  1.8s\n",
      "conda-forge/noarch   \u001b[33m━━━━━━━━━━━╸\u001b[0m\u001b[90m━━━━━━━━━━━\u001b[0m   6.9MB /  ??.?MB @   3.9MB/s  1.8s\u001b[2K\u001b[1A\u001b[2K\u001b[1A\u001b[2K\u001b[0G[+] 1.9s\n",
      "conda-forge/linux-64 \u001b[90m━━━━╸\u001b[0m\u001b[33m━━━━━━━━━━━━━━━╸\u001b[0m\u001b[90m━━\u001b[0m   8.2MB /  ??.?MB @   4.3MB/s  1.9s\n",
      "conda-forge/noarch   \u001b[33m━━━━━━━━━━━━━╸\u001b[0m\u001b[90m━━━━━━━━━\u001b[0m   7.5MB /  ??.?MB @   4.0MB/s  1.9s\u001b[2K\u001b[1A\u001b[2K\u001b[1A\u001b[2K\u001b[0G[+] 2.0s\n",
      "conda-forge/linux-64 \u001b[90m━━━━━━╸\u001b[0m\u001b[33m━━━━━━━━━━━━━━━━\u001b[0m   8.8MB /  ??.?MB @   4.4MB/s  2.0s\n",
      "conda-forge/noarch   \u001b[90m╸\u001b[0m\u001b[33m━━━━━━━━━━━━━━━╸\u001b[0m\u001b[90m━━━━━━\u001b[0m   7.9MB /  ??.?MB @   4.0MB/s  2.0s\u001b[2K\u001b[1A\u001b[2K\u001b[1A\u001b[2K\u001b[0G[+] 2.1s\n",
      "conda-forge/linux-64 \u001b[90m━━━━━━━━╸\u001b[0m\u001b[33m━━━━━━━━━━━━━━\u001b[0m   9.3MB /  ??.?MB @   4.4MB/s  2.1s\n",
      "conda-forge/noarch   \u001b[90m━━╸\u001b[0m\u001b[33m━━━━━━━━━━━━━━━╸\u001b[0m\u001b[90m━━━━\u001b[0m   8.4MB /  ??.?MB @   4.0MB/s  2.1s\u001b[2K\u001b[1A\u001b[2K\u001b[1A\u001b[2K\u001b[0G[+] 2.2s\n",
      "conda-forge/linux-64 \u001b[90m━━━━━━━━━━━╸\u001b[0m\u001b[33m━━━━━━━━━━━\u001b[0m   9.8MB /  ??.?MB @   4.5MB/s  2.2s\n",
      "conda-forge/noarch   \u001b[90m━━━━╸\u001b[0m\u001b[33m━━━━━━━━━━━━━━━╸\u001b[0m\u001b[90m━━\u001b[0m   9.0MB /  ??.?MB @   4.1MB/s  2.2s\u001b[2K\u001b[1A\u001b[2K\u001b[1A\u001b[2K\u001b[0G[+] 2.3s\n",
      "conda-forge/linux-64 \u001b[90m━━━━━━━━━━━━━╸\u001b[0m\u001b[33m━━━━━━━━━\u001b[0m  10.4MB /  ??.?MB @   4.5MB/s  2.3s\n",
      "conda-forge/noarch   \u001b[90m━━━━━━╸\u001b[0m\u001b[33m━━━━━━━━━━━━━━━━\u001b[0m   9.5MB /  ??.?MB @   4.1MB/s  2.3s\u001b[2K\u001b[1A\u001b[2K\u001b[1A\u001b[2K\u001b[0G[+] 2.4s\n",
      "conda-forge/linux-64 \u001b[33m━━━━━━━━━╸\u001b[0m\u001b[90m━━━━━━━━━━━━━\u001b[0m  10.9MB /  ??.?MB @   4.6MB/s  2.4s\n",
      "conda-forge/noarch   \u001b[90m━━━━━━━━╸\u001b[0m\u001b[33m━━━━━━━━━━━━━━\u001b[0m  10.0MB /  ??.?MB @   4.2MB/s  2.4s\u001b[2K\u001b[1A\u001b[2K\u001b[1A\u001b[2K\u001b[0G[+] 2.5s\n",
      "conda-forge/linux-64 \u001b[33m━━━━━━━━━━━╸\u001b[0m\u001b[90m━━━━━━━━━━━\u001b[0m  11.5MB /  ??.?MB @   4.6MB/s  2.5s\n",
      "conda-forge/noarch   \u001b[90m━━━━━━━━━━━╸\u001b[0m\u001b[33m━━━━━━━━━━━\u001b[0m  10.5MB /  ??.?MB @   4.2MB/s  2.5s\u001b[2K\u001b[1A\u001b[2K\u001b[1A\u001b[2K\u001b[0G[+] 2.6s\n",
      "conda-forge/linux-64 \u001b[33m━━━━━━━━━━━━━╸\u001b[0m\u001b[90m━━━━━━━━━\u001b[0m  12.0MB /  ??.?MB @   4.6MB/s  2.6s\n",
      "conda-forge/noarch   \u001b[90m━━━━━━━━━━━━━╸\u001b[0m\u001b[33m━━━━━━━━━\u001b[0m  11.0MB /  ??.?MB @   4.2MB/s  2.6s\u001b[2K\u001b[1A\u001b[2K\u001b[1A\u001b[2K\u001b[0G[+] 2.7s\n",
      "conda-forge/linux-64 \u001b[90m╸\u001b[0m\u001b[33m━━━━━━━━━━━━━━━╸\u001b[0m\u001b[90m━━━━━━\u001b[0m  12.5MB /  ??.?MB @   4.6MB/s  2.7s\n",
      "conda-forge/noarch   \u001b[33m━━━━━━━━━╸\u001b[0m\u001b[90m━━━━━━━━━━━━━\u001b[0m  11.5MB /  ??.?MB @   4.2MB/s  2.7s\u001b[2K\u001b[1A\u001b[2K\u001b[1A\u001b[2K\u001b[0G[+] 2.8s\n",
      "conda-forge/linux-64 \u001b[33m━━━━━━━━━━━━━━━╸\u001b[0m\u001b[90m━━━━━━\u001b[0m  12.5MB @   4.6MB/s             2.8s\n",
      "conda-forge/noarch   ━━━━━━━━━━━━━━━━━━━━━━  11.7MB @   4.3MB/s Finalizing  2.8s\u001b[2K\u001b[1A\u001b[2K\u001b[1A\u001b[2K\u001b[0G[+] 2.9s\n",
      "conda-forge/linux-64 \u001b[33m━━━━━━━━━━━━━━━╸\u001b[0m\u001b[90m━━━━━━\u001b[0m  12.5MB @   4.6MB/s             2.9s\n",
      "conda-forge/noarch   ━━━━━━━━━━━━━━━━━━━━━━  11.7MB @   4.3MB/s Finalizing  2.9s\u001b[2K\u001b[1A\u001b[2K\u001b[1A\u001b[2K\u001b[0G[+] 3.0s\n",
      "conda-forge/linux-64 \u001b[33m━━━━━━━━━━━━━━━╸\u001b[0m\u001b[90m━━━━━━\u001b[0m  12.5MB @   4.6MB/s             3.0s\n",
      "conda-forge/noarch   ━━━━━━━━━━━━━━━━━━━━━━  11.7MB @   4.3MB/s Finalizing  3.0s\u001b[2K\u001b[1A\u001b[2K\u001b[1A\u001b[2K\u001b[0Gconda-forge/noarch                                 @   4.3MB/s  3.1s\n",
      "[+] 3.1s\n",
      "conda-forge/linux-64 \u001b[90m━╸\u001b[0m\u001b[33m━━━━━━━━━━━━━━━╸\u001b[0m\u001b[90m━━━━━\u001b[0m  12.7MB /  ??.?MB @   4.1MB/s  3.1s\u001b[2K\u001b[1A\u001b[2K\u001b[0G[+] 3.2s\n",
      "conda-forge/linux-64 \u001b[90m━━━╸\u001b[0m\u001b[33m━━━━━━━━━━━━━━━╸\u001b[0m\u001b[90m━━━\u001b[0m  14.8MB /  ??.?MB @   4.7MB/s  3.2s\u001b[2K\u001b[1A\u001b[2K\u001b[0G[+] 3.3s\n",
      "conda-forge/linux-64 \u001b[90m━━━━━╸\u001b[0m\u001b[33m━━━━━━━━━━━━━━━╸\u001b[0m\u001b[90m━\u001b[0m  15.3MB /  ??.?MB @   4.7MB/s  3.3s\u001b[2K\u001b[1A\u001b[2K\u001b[0G[+] 3.4s\n",
      "conda-forge/linux-64 \u001b[90m━━━━━━━╸\u001b[0m\u001b[33m━━━━━━━━━━━━━━━\u001b[0m  15.7MB /  ??.?MB @   4.7MB/s  3.4s\u001b[2K\u001b[1A\u001b[2K\u001b[0G[+] 3.5s\n",
      "conda-forge/linux-64 \u001b[90m━━━━━━━━━╸\u001b[0m\u001b[33m━━━━━━━━━━━━━\u001b[0m  16.3MB /  ??.?MB @   4.7MB/s  3.5s\u001b[2K\u001b[1A\u001b[2K\u001b[0G[+] 3.6s\n",
      "conda-forge/linux-64 \u001b[90m━━━━━━━━━━━━╸\u001b[0m\u001b[33m━━━━━━━━━━\u001b[0m  16.8MB /  ??.?MB @   4.7MB/s  3.6s\u001b[2K\u001b[1A\u001b[2K\u001b[0G[+] 3.7s\n",
      "conda-forge/linux-64 \u001b[33m━━━━━━━━╸\u001b[0m\u001b[90m━━━━━━━━━━━━━━\u001b[0m  17.4MB /  ??.?MB @   4.7MB/s  3.7s\u001b[2K\u001b[1A\u001b[2K\u001b[0G[+] 3.8s\n",
      "conda-forge/linux-64 \u001b[33m━━━━━━━━━━╸\u001b[0m\u001b[90m━━━━━━━━━━━━\u001b[0m  17.9MB /  ??.?MB @   4.7MB/s  3.8s\u001b[2K\u001b[1A\u001b[2K\u001b[0G[+] 3.9s\n",
      "conda-forge/linux-64 \u001b[33m━━━━━━━━━━━━╸\u001b[0m\u001b[90m━━━━━━━━━━\u001b[0m  18.4MB /  ??.?MB @   4.8MB/s  3.9s\u001b[2K\u001b[1A\u001b[2K\u001b[0G[+] 4.0s\n",
      "conda-forge/linux-64 \u001b[33m━━━━━━━━━━━━━━╸\u001b[0m\u001b[90m━━━━━━━━\u001b[0m  19.0MB /  ??.?MB @   4.8MB/s  4.0s\u001b[2K\u001b[1A\u001b[2K\u001b[0G[+] 4.1s\n",
      "conda-forge/linux-64 \u001b[90m━╸\u001b[0m\u001b[33m━━━━━━━━━━━━━━━╸\u001b[0m\u001b[90m━━━━━\u001b[0m  19.5MB /  ??.?MB @   4.8MB/s  4.1s\u001b[2K\u001b[1A\u001b[2K\u001b[0G[+] 4.2s\n",
      "conda-forge/linux-64 \u001b[90m━━━╸\u001b[0m\u001b[33m━━━━━━━━━━━━━━━╸\u001b[0m\u001b[90m━━━\u001b[0m  19.9MB /  ??.?MB @   4.8MB/s  4.2s\u001b[2K\u001b[1A\u001b[2K\u001b[0G[+] 4.3s\n",
      "conda-forge/linux-64 \u001b[90m━━━━━╸\u001b[0m\u001b[33m━━━━━━━━━━━━━━━╸\u001b[0m\u001b[90m━\u001b[0m  20.4MB /  ??.?MB @   4.8MB/s  4.3s\u001b[2K\u001b[1A\u001b[2K\u001b[0G[+] 4.4s\n",
      "conda-forge/linux-64 \u001b[90m━━━━━━━╸\u001b[0m\u001b[33m━━━━━━━━━━━━━━━\u001b[0m  20.9MB /  ??.?MB @   4.8MB/s  4.4s\u001b[2K\u001b[1A\u001b[2K\u001b[0G[+] 4.5s\n",
      "conda-forge/linux-64 \u001b[90m━━━━━━━━━╸\u001b[0m\u001b[33m━━━━━━━━━━━━━\u001b[0m  21.4MB /  ??.?MB @   4.8MB/s  4.5s\u001b[2K\u001b[1A\u001b[2K\u001b[0G[+] 4.6s\n",
      "conda-forge/linux-64 \u001b[90m━━━━━━━━━━━━╸\u001b[0m\u001b[33m━━━━━━━━━━\u001b[0m  21.9MB /  ??.?MB @   4.8MB/s  4.6s\u001b[2K\u001b[1A\u001b[2K\u001b[0G[+] 4.7s\n",
      "conda-forge/linux-64 \u001b[33m━━━━━━━━╸\u001b[0m\u001b[90m━━━━━━━━━━━━━━\u001b[0m  22.4MB /  ??.?MB @   4.8MB/s  4.7s\u001b[2K\u001b[1A\u001b[2K\u001b[0G[+] 4.8s\n",
      "conda-forge/linux-64 \u001b[33m━━━━━━━━━━╸\u001b[0m\u001b[90m━━━━━━━━━━━━\u001b[0m  22.9MB /  ??.?MB @   4.8MB/s  4.8s\u001b[2K\u001b[1A\u001b[2K\u001b[0G[+] 4.9s\n",
      "conda-forge/linux-64 \u001b[33m━━━━━━━━━━━━╸\u001b[0m\u001b[90m━━━━━━━━━━\u001b[0m  23.4MB /  ??.?MB @   4.8MB/s  4.9s\u001b[2K\u001b[1A\u001b[2K\u001b[0G[+] 5.0s\n",
      "conda-forge/linux-64 \u001b[33m━━━━━━━━━━━━━╸\u001b[0m\u001b[90m━━━━━━━━━\u001b[0m  23.7MB /  ??.?MB @   4.8MB/s  5.0s\u001b[2K\u001b[1A\u001b[2K\u001b[0G[+] 5.1s\n",
      "conda-forge/linux-64 \u001b[90m╸\u001b[0m\u001b[33m━━━━━━━━━━━━━━━╸\u001b[0m\u001b[90m━━━━━━\u001b[0m  24.2MB /  ??.?MB @   4.8MB/s  5.1s\u001b[2K\u001b[1A\u001b[2K\u001b[0G[+] 5.2s\n",
      "conda-forge/linux-64 \u001b[90m━━╸\u001b[0m\u001b[33m━━━━━━━━━━━━━━━╸\u001b[0m\u001b[90m━━━━\u001b[0m  24.8MB /  ??.?MB @   4.8MB/s  5.2s\u001b[2K\u001b[1A\u001b[2K\u001b[0G[+] 5.3s\n",
      "conda-forge/linux-64 \u001b[90m━━━━╸\u001b[0m\u001b[33m━━━━━━━━━━━━━━━╸\u001b[0m\u001b[90m━━\u001b[0m  25.3MB /  ??.?MB @   4.8MB/s  5.3s\u001b[2K\u001b[1A\u001b[2K\u001b[0G[+] 5.4s\n",
      "conda-forge/linux-64 \u001b[90m━━━━━━╸\u001b[0m\u001b[33m━━━━━━━━━━━━━━━━\u001b[0m  25.8MB /  ??.?MB @   4.8MB/s  5.4s\u001b[2K\u001b[1A\u001b[2K\u001b[0G[+] 5.5s\n"
     ]
    },
    {
     "name": "stdout",
     "output_type": "stream",
     "text": [
      "conda-forge/linux-64 \u001b[90m━━━━━━━━╸\u001b[0m\u001b[33m━━━━━━━━━━━━━━\u001b[0m  26.3MB /  ??.?MB @   4.8MB/s  5.5s\u001b[2K\u001b[1A\u001b[2K\u001b[0G[+] 5.6s\n",
      "conda-forge/linux-64 \u001b[90m━━━━━━━━━━━╸\u001b[0m\u001b[33m━━━━━━━━━━━\u001b[0m  26.9MB /  ??.?MB @   4.8MB/s  5.6s\u001b[2K\u001b[1A\u001b[2K\u001b[0G[+] 5.7s\n",
      "conda-forge/linux-64 \u001b[90m━━━━━━━━━━━━━╸\u001b[0m\u001b[33m━━━━━━━━━\u001b[0m  27.4MB /  ??.?MB @   4.8MB/s  5.7s\u001b[2K\u001b[1A\u001b[2K\u001b[0G[+] 5.8s\n",
      "conda-forge/linux-64 \u001b[33m━━━━━━━━━╸\u001b[0m\u001b[90m━━━━━━━━━━━━━\u001b[0m  27.9MB /  ??.?MB @   4.8MB/s  5.8s\u001b[2K\u001b[1A\u001b[2K\u001b[0G[+] 5.9s\n",
      "conda-forge/linux-64 \u001b[33m━━━━━━━━━━━╸\u001b[0m\u001b[90m━━━━━━━━━━━\u001b[0m  28.4MB /  ??.?MB @   4.8MB/s  5.9s\u001b[2K\u001b[1A\u001b[2K\u001b[0G[+] 6.0s\n",
      "conda-forge/linux-64 \u001b[33m━━━━━━━━━━━━━╸\u001b[0m\u001b[90m━━━━━━━━━\u001b[0m  28.9MB /  ??.?MB @   4.8MB/s  6.0s\u001b[2K\u001b[1A\u001b[2K\u001b[0G[+] 6.1s\n",
      "conda-forge/linux-64 \u001b[90m╸\u001b[0m\u001b[33m━━━━━━━━━━━━━━━╸\u001b[0m\u001b[90m━━━━━━\u001b[0m  29.4MB /  ??.?MB @   4.8MB/s  6.1s\u001b[2K\u001b[1A\u001b[2K\u001b[0G[+] 6.2s\n",
      "conda-forge/linux-64 \u001b[90m━━╸\u001b[0m\u001b[33m━━━━━━━━━━━━━━━╸\u001b[0m\u001b[90m━━━━\u001b[0m  29.9MB /  ??.?MB @   4.8MB/s  6.2s\u001b[2K\u001b[1A\u001b[2K\u001b[0G[+] 6.3s\n",
      "conda-forge/linux-64 \u001b[90m━━━━╸\u001b[0m\u001b[33m━━━━━━━━━━━━━━━╸\u001b[0m\u001b[90m━━\u001b[0m  30.4MB /  ??.?MB @   4.8MB/s  6.3s\u001b[2K\u001b[1A\u001b[2K\u001b[0G[+] 6.4s\n",
      "conda-forge/linux-64 ━━━━━━━━━━━━━━━━━━━━━━  30.4MB @   4.8MB/s Finalizing  6.4s\u001b[2K\u001b[1A\u001b[2K\u001b[0G[+] 6.5s\n",
      "conda-forge/linux-64 ━━━━━━━━━━━━━━━━━━━━━━  30.4MB @   4.8MB/s Finalizing  6.5s\u001b[2K\u001b[1A\u001b[2K\u001b[0G[+] 6.6s\n",
      "conda-forge/linux-64 ━━━━━━━━━━━━━━━━━━━━━━  30.4MB @   4.8MB/s Finalizing  6.6s\u001b[2K\u001b[1A\u001b[2K\u001b[0G[+] 6.7s\n",
      "conda-forge/linux-64 ━━━━━━━━━━━━━━━━━━━━━━  30.4MB @   4.8MB/s Finalizing  6.7s\u001b[2K\u001b[1A\u001b[2K\u001b[0G[+] 6.8s\n",
      "conda-forge/linux-64 ━━━━━━━━━━━━━━━━━━━━━━  30.4MB @   4.8MB/s Finalizing  6.8s\u001b[2K\u001b[1A\u001b[2K\u001b[0G[+] 6.9s\n",
      "conda-forge/linux-64 ━━━━━━━━━━━━━━━━━━━━━━  30.4MB @   4.8MB/s Finalizing  6.9s\u001b[2K\u001b[1A\u001b[2K\u001b[0Gconda-forge/linux-64                               @   4.8MB/s  7.0s\n",
      "\u001b[?25h\n",
      "Pinned packages:\n",
      "  - python 3.9.*\n",
      "\n",
      "\n"
     ]
    }
   ],
   "source": [
    "%conda env list"
   ]
  },
  {
   "cell_type": "code",
   "execution_count": null,
   "id": "dac8eed4",
   "metadata": {},
   "outputs": [],
   "source": []
  }
 ],
 "metadata": {
  "kernelspec": {
   "display_name": "Python_jupyter",
   "language": "python",
   "name": "jupyter"
  },
  "language_info": {
   "codemirror_mode": {
    "name": "ipython",
    "version": 3
   },
   "file_extension": ".py",
   "mimetype": "text/x-python",
   "name": "python",
   "nbconvert_exporter": "python",
   "pygments_lexer": "ipython3",
   "version": "3.10.6"
  },
  "toc-autonumbering": true
 },
 "nbformat": 4,
 "nbformat_minor": 5
}
