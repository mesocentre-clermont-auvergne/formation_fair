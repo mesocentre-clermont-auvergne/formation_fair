{
 "cells": [
  {
   "cell_type": "markdown",
   "id": "13c74e53-31db-438c-abd6-6c6b5f615177",
   "metadata": {},
   "source": [
    "# <div align=\"center\"> FAIR 2023 - Sphinx documentation - practice </div>"
   ]
  },
  {
   "cell_type": "markdown",
   "id": "ba5c06f5-78a2-4d06-b824-140702ae87d8",
   "metadata": {},
   "source": [
    "# Sphinx installation\n",
    "____"
   ]
  },
  {
   "cell_type": "markdown",
   "id": "92d3b463-1327-472d-ba2e-f62b9c2409d8",
   "metadata": {
    "jp-MarkdownHeadingCollapsed": true,
    "tags": []
   },
   "source": [
    "## basic requirement\n",
    "```bash\n",
    "mamba create -n sphinx_doc -c anaconda sphinx sphinx-rtd-theme python=3.10\n",
    "mamba activate sphinx_doc\n",
    "sphinx-quickstart\n",
    "```"
   ]
  },
  {
   "cell_type": "markdown",
   "id": "d556dca0-c2db-435c-8895-4c56cf4b8e13",
   "metadata": {
    "tags": []
   },
   "source": [
    "## Optional changes"
   ]
  },
  {
   "cell_type": "markdown",
   "id": "be3d4641-5ac5-445c-92dd-1de67d187320",
   "metadata": {},
   "source": [
    "### Change source to doc folder name\n",
    "\n",
    "```bash\n",
    "mv source doc\n",
    "```\n",
    "Update the source name if config files :\n",
    "    \n",
    "```bash\n",
    "Makefile :\n",
    "\n",
    "SOURCEDIR = doc\n",
    "\n",
    "make.bat :\n",
    "\n",
    "set SOURCEDIR=doc\n",
    "```\n",
    "\n",
    "### Add the readthedoc theme\n",
    "update the conf.py file : \n",
    "    \n",
    "```bash\n",
    "html_theme = 'sphinx_rtd_theme'\n",
    "```\n",
    "\n",
    "### Add autodoc extension\n",
    "update the conf.py file : \n",
    "\n",
    "```bash\n",
    "extensions = [\n",
    "    'sphinx.ext.githubpages',\n",
    "    'sphinx.ext.autodoc',\n",
    "]\n",
    "```"
   ]
  },
  {
   "cell_type": "markdown",
   "id": "32ecfb2c-d756-4fbd-b817-b232e8af57ab",
   "metadata": {},
   "source": [
    "# Sphinx folder skeleton\n",
    "\n",
    "A least you need to a index.rst and to each python class a .rst related file\n",
    "\n",
    "```bash\n",
    "build\n",
    "│   ├── doctrees\n",
    "│   └── html\n",
    "├── doc\n",
    "│   ├── conf.py\n",
    "│   ├── fastacheck.rst\n",
    "│   ├── index.rst\n",
    "│   ├── pandascheck.rst\n",
    "│   ├── _static\n",
    "│   └── _templates\n",
    "├── make.bat\n",
    "├── Makefile\n",
    "└── python_tool\n",
    "    ├── fasta.py\n",
    "    └── pandas.py\n",
    "```\n",
    "\n"
   ]
  },
  {
   "cell_type": "markdown",
   "id": "b90fa767-d214-4b56-8371-6c884f18c77c",
   "metadata": {},
   "source": [
    "Into the fastacheck.rst\n",
    "```bash\n",
    "FAIR_TRAINING_FASTA\n",
    "===================\n",
    "\n",
    ".. autoclass:: fasta.FastaCheck\n",
    "    :members:\n",
    "```\n",
    "    \n",
    "Into the index file\n",
    "\n",
    "```bash\n",
    "Welcome to FAIR SPHINX 2023's documentation!\n",
    "============================================\n",
    "\n",
    ".. toctree::\n",
    "   :maxdepth: 2\n",
    "   :caption: Contents:\n",
    "\n",
    "   ./fastacheck.rst\n",
    "   ./pandascheck.rst\n",
    "\n",
    "\n",
    "Indices and tables\n",
    "==================\n",
    "\n",
    "* :ref:`genindex`\n",
    "* :ref:`modindex`\n",
    "* :ref:`search`\n",
    "```"
   ]
  },
  {
   "cell_type": "code",
   "execution_count": null,
   "id": "61d9d11b-46ac-4e77-9860-fd9ae01f6587",
   "metadata": {},
   "outputs": [],
   "source": []
  }
 ],
 "metadata": {
  "kernelspec": {
   "display_name": "Python [conda env:jupyter] *",
   "language": "python",
   "name": "conda-env-jupyter-py"
  },
  "language_info": {
   "codemirror_mode": {
    "name": "ipython",
    "version": 3
   },
   "file_extension": ".py",
   "mimetype": "text/x-python",
   "name": "python",
   "nbconvert_exporter": "python",
   "pygments_lexer": "ipython3",
   "version": "3.11.3"
  }
 },
 "nbformat": 4,
 "nbformat_minor": 5
}
