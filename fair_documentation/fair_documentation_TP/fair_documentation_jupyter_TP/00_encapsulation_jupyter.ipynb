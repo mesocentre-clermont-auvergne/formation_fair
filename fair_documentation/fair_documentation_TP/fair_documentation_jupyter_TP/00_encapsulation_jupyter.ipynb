{
 "cells": [
  {
   "cell_type": "markdown",
   "id": "24b5badf-2cd5-4fb6-988f-06a834cd473c",
   "metadata": {},
   "source": [
    "<font size=\"10\">  <div align=\"center\"> FAIR - JupyterLab - practice </div> </font>  "
   ]
  },
  {
   "cell_type": "markdown",
   "id": "c2050b64-bd2b-4aa5-892e-53cf0612bc68",
   "metadata": {
    "tags": []
   },
   "source": [
    "# Interface discovery"
   ]
  },
  {
   "cell_type": "markdown",
   "id": "abcd54bb-c42c-43fa-bda6-3eb80227a21b",
   "metadata": {
    "tags": []
   },
   "source": [
    "## Connexion to jupyter-lab \n",
    "\n",
    "1. Go to this adress: https://hub.mesocentre.uca.fr/hpc-jupyter/hub/login\n",
    "\n",
    "    <img src=\"images/jupyter_welcome.png\" alt=\"drawing\" width=\"1000\"/>\n",
    "2. Ask a jupyter session\n",
    "\n",
    "     <img src=\"images/start_server.png\" alt=\"drawing\" width=\"1000\"/>\n",
    "3. Submit the job to open the session\n",
    "\n",
    "     <img src=\"images/job_choice.png\" alt=\"drawing\" width=\"1000\"/>\n",
    "4. Discover your interface    \n",
    "     <img src=\"images/jupyter_page.png\" alt=\"drawing\" width=\"1000\"/>\n",
    "\n"
   ]
  },
  {
   "cell_type": "markdown",
   "id": "d1651dc1-a316-4622-bcb0-baec89a328bc",
   "metadata": {
    "tags": []
   },
   "source": [
    "## Discover toolbox\n",
    "\n",
    "    1. From the github repository of the FAIR practice, import the jupyter session part\n",
    "        - from the web interface\n",
    "        - from the cluster terminal\n",
    "    2. Launch the jupyter.ipynb\n",
    "    3. Launch a console interface\n",
    "    4. Launch a terminal interface"
   ]
  },
  {
   "cell_type": "markdown",
   "id": "c079fe87-bcc5-467d-a6e6-5e9f3a8a8fca",
   "metadata": {
    "tags": []
   },
   "source": []
  },
  {
   "cell_type": "markdown",
   "id": "8eaa0efa-bd45-4651-b5b1-79dd4dc2a2b8",
   "metadata": {
    "tags": []
   },
   "source": [
    "### Magic command a special case\n",
    "\n",
    "Jupyter notebook has special commands : `magic commands` and `magic cells` \\\n",
    "The magic commands allow you to interact with your environnement to analyse the data. \\\n",
    "To call it, use the `%` symbol before in a `code cell` \\\n",
    "The list of available magic commands is available typing : `%lsmagic`\n",
    "This command is available only on the line where it is write\n",
    "\n",
    "The magic cells are cells with specific behaviour due to the magic cell command in the header of the cell \\\n",
    "It is use for example to use command from another language (ruby, bash, R...)\n",
    "\n",
    "1. List the magic commands"
   ]
  },
  {
   "cell_type": "code",
   "execution_count": null,
   "id": "8621b90a-2e53-4ff0-9e23-810131b5a2c6",
   "metadata": {
    "tags": []
   },
   "outputs": [],
   "source": []
  },
  {
   "cell_type": "markdown",
   "id": "37a0ec63-bd6e-4b01-b4c1-6f5cddddf634",
   "metadata": {
    "tags": []
   },
   "source": [
    "2. List folder content using magic command"
   ]
  },
  {
   "cell_type": "code",
   "execution_count": null,
   "id": "1553232a-ffd9-4bbc-85de-7ef7040a86f6",
   "metadata": {},
   "outputs": [],
   "source": []
  },
  {
   "cell_type": "markdown",
   "id": "0abd06e0-8f7b-4a1d-90ee-37b83ff3ce2b",
   "metadata": {
    "tags": []
   },
   "source": [
    "3. Make a cell with bash code"
   ]
  },
  {
   "cell_type": "code",
   "execution_count": null,
   "id": "e234ea59-cab9-4e39-aaba-4c9bc7411a0c",
   "metadata": {
    "tags": []
   },
   "outputs": [],
   "source": []
  },
  {
   "cell_type": "markdown",
   "id": "f41add45-9dc7-4dcb-8a24-2d9e6eda0377",
   "metadata": {},
   "source": [
    "<details>\n",
    "  <summary>Magic command solution</summary>\n",
    "    \n",
    "1. ```%lsmagic```\n",
    "2. ```%ls```    \n",
    "3. \\\n",
    "%%bash \\\n",
    "#On the HPC2 cluster, when starting a new session, you need to activate the conda module \\\n",
    "module load conda \\\n",
    "#list environments \\\n",
    "conda env list\n",
    "\n",
    "</details>\n",
    "    "
   ]
  },
  {
   "cell_type": "markdown",
   "id": "41183b80-8f64-4eb6-9fd8-2b3d468b2643",
   "metadata": {},
   "source": [
    "# Make your own Kernel to work\n",
    "Jupyter work with `kernel` as the core of your analysis. You can build your own kernel and customize it with somes tools that you need.\n",
    "The main kernel are build with python or R environment but with the magic commands you can open the world !\n",
    "Here we will first build a kernel to python analysis then a R kernel for statistics.\n",
    "\n",
    "\n",
    "```\n",
    "Follow the guide from the mesocentre to install your kernel: https://hub.mesocentre.uca.fr/docs/cluster/applis/jupyterhub/\n",
    "```\n",
    "1. Install a Python Kernel with python 3.10\n",
    "```\n",
    "conda create -n env_py3.10 python=3.10 numpy ipykernel jupyter_client\n",
    "conda activate env_py3.10\n",
    "python -m ipykernel install --user --name env_py3.10 --display-name \"kernel_python_3.10\"\n",
    "```\n",
    "\n",
    "2. Install a R kernel with r-base 4.2\n",
    "\n",
    "```\n",
    "conda create --name env-r4.2 r-base=4.2 r-essentials r-irkernel jupyter_client\n",
    "conda activate env-r4.2\n",
    "R -e \"IRkernel::installspec(name='env-r4.2', displayname='env_R_4.2', user=TRUE)\"\n",
    "```\n",
    "\n",
    "Test available kernels\n",
    "```\n",
    "conda activate env_py3.10\n",
    "jupyter kernelspec list\n",
    "```"
   ]
  },
  {
   "cell_type": "markdown",
   "id": "59540861-3505-4139-9aa7-9d732e16aebb",
   "metadata": {},
   "source": [
    "# Work with both python and R in the same notebook\n",
    "\n",
    "```\n",
    "Jupyter also to work both with python and R in the same notebook\n",
    "The simple way is to create a conda env with python and R, then install a specific library: rpy2\n",
    "```\n",
    "1. In the previous R 4.2 kernel install rpy2 from conda\n",
    "    - use the terminal interface from jupyter\n",
    "    - activate the conda env containing your R version\n",
    "    - install rpy2 from conda\n",
    "3. Create a new notebook file with the kernel containg R and python\n",
    "4. Call the rpy2 package\n",
    "`%load_ext rpy2.ipython`\n",
    "\n",
    "5. Make a notebook with python and R cells \\\n",
    "`Now to call a R code into a cell use : magic variables %%R`\n"
   ]
  },
  {
   "cell_type": "markdown",
   "id": "da5b75d5-2b99-4676-b6b5-d8c5b5960f63",
   "metadata": {},
   "source": [
    "## Import python libraries"
   ]
  },
  {
   "cell_type": "code",
   "execution_count": null,
   "id": "714b693a-ade5-4edc-9a52-3480dd1b3b47",
   "metadata": {
    "tags": []
   },
   "outputs": [],
   "source": [
    "%load_ext rpy2.ipython\n",
    "import os\n",
    "import pandas as pd\n",
    "import numpy as np\n",
    "import import_ipynb"
   ]
  },
  {
   "cell_type": "markdown",
   "id": "2f14ebd1-8922-4e7b-bf30-0a0f6f9eb0a7",
   "metadata": {},
   "source": [
    "## Import R libraries"
   ]
  },
  {
   "cell_type": "code",
   "execution_count": null,
   "id": "7255bcf1-dd89-4d4d-83cb-07c1b5743d55",
   "metadata": {
    "tags": []
   },
   "outputs": [],
   "source": [
    "%%R\n",
    "# load\n",
    "library(ggplot2)"
   ]
  },
  {
   "cell_type": "markdown",
   "id": "033c4b7d-f5a9-4c0b-9ff3-a4965e7875be",
   "metadata": {},
   "source": [
    "## Import a dataframe with python"
   ]
  },
  {
   "cell_type": "code",
   "execution_count": null,
   "id": "1c5a2c7d-a987-43a2-b95f-a5b8c1fd353e",
   "metadata": {
    "tags": []
   },
   "outputs": [],
   "source": [
    "df = pd.DataFrame({\n",
    "    'cups_of_coffee': [0, 1, 2, 3, 4, 5, 6, 7, 8, 9],\n",
    "    'productivity': [2, 5, 6, 8, 9, 8, 0, 1, 0, -1]\n",
    "})\n",
    "df.transpose()"
   ]
  },
  {
   "cell_type": "markdown",
   "id": "5a51eb3c-660f-4da1-b016-1c797e95a928",
   "metadata": {},
   "source": [
    "## Plot data from python with ggplot2 from R"
   ]
  },
  {
   "cell_type": "code",
   "execution_count": null,
   "id": "cbc11f4f-c8e1-49df-9bef-2d897bb666aa",
   "metadata": {
    "tags": []
   },
   "outputs": [],
   "source": [
    "%%R -i df\n",
    "ggplot(df, aes(x=reorder(cups_of_coffee,productivity), y=productivity)) + geom_col() + coord_flip()"
   ]
  },
  {
   "cell_type": "markdown",
   "id": "500e5086-74e6-4ac2-8522-a67ff56d8440",
   "metadata": {
    "tags": []
   },
   "source": [
    "# Genomic in jupyter notebook\n",
    "\n",
    "```\n",
    "You already know to build python or R kernel, but you can also consider all you analysis to be done in the notebooks.\n",
    "Here we illustrate the interaction of the notebook with your environment, to analyse genomic data using current bioinformatic tools\n",
    "```\n",
    "\n",
    "## Quality assessement of a SARS-COV-2 sample\n",
    "sample file is located here : https://trace.ncbi.nlm.nih.gov/Traces/sra-reads-be/fastq?acc=SRR25109930\n",
    "To download in command line :\n",
    "\n",
    "`wget https://trace.ncbi.nlm.nih.gov/Traces/sra-reads-be/fastq?acc=SRR25109930 -o test_files/SRR25109930.fastq.gz`"
   ]
  },
  {
   "cell_type": "markdown",
   "id": "e7fe024b-e56c-4a4e-aa38-79633587983a",
   "metadata": {},
   "source": [
    " 1. Using the fastQC quality check tool you will control the quality of the sars-cov2 sample SRR25109930.fastq.gz"
   ]
  },
  {
   "cell_type": "code",
   "execution_count": 39,
   "id": "165b8014-b0c1-4828-9ef1-835007ff676a",
   "metadata": {
    "tags": []
   },
   "outputs": [],
   "source": []
  },
  {
   "cell_type": "markdown",
   "id": "c51bd305-cf1d-4e37-be04-86d4b8f8502f",
   "metadata": {},
   "source": [
    "2. Using the fastQC quality check tool you will use the job submission to analyse the sars-cov2 sample"
   ]
  },
  {
   "cell_type": "code",
   "execution_count": null,
   "id": "48c87726-00e4-4130-82af-3462ece5033e",
   "metadata": {},
   "outputs": [],
   "source": []
  },
  {
   "cell_type": "markdown",
   "id": "058bacb4-86a0-4601-a0ec-76d56599f548",
   "metadata": {
    "tags": []
   },
   "source": [
    "<details>\n",
    "  <summary>Quality check solution</summary>\n",
    "    \n",
    "1.\n",
    "`fastqc test_files/SRR25109930.fastq.gz --outdir test_files`\n",
    "\n",
    "2.\n",
    "`sbatch ./test_files/fastqc.sh`\n",
    "\n",
    "</details>\n",
    "    "
   ]
  },
  {
   "cell_type": "markdown",
   "id": "10ad6b44-ad12-4391-b015-a331eb9bc6fe",
   "metadata": {},
   "source": [
    "### Genome alignement of a SARS-COV-2 sample"
   ]
  },
  {
   "cell_type": "markdown",
   "id": "9b46c0c7-c928-4119-acf1-7a327170e0d9",
   "metadata": {},
   "source": [
    "1. Index the Sars-Cov2 reference genome using bwa2"
   ]
  },
  {
   "cell_type": "code",
   "execution_count": null,
   "id": "7f1dba9e-0580-4d61-b4e1-99f0defa721a",
   "metadata": {},
   "outputs": [],
   "source": []
  },
  {
   "cell_type": "markdown",
   "id": "85567b0b-41dc-42ce-85a5-a823ab34dbcd",
   "metadata": {},
   "source": [
    "2. Align raw reads data on the reference genome"
   ]
  },
  {
   "cell_type": "code",
   "execution_count": 54,
   "id": "61452ced-8fc6-4591-abcb-68a023079c8e",
   "metadata": {},
   "outputs": [],
   "source": []
  },
  {
   "cell_type": "markdown",
   "id": "efab5e14-0e63-4787-97cd-b748785485d3",
   "metadata": {},
   "source": [
    "3. Extract statistic of the mapping using samtools stats"
   ]
  },
  {
   "cell_type": "code",
   "execution_count": null,
   "id": "a83900cd-2944-4e33-9dad-2fd16371812f",
   "metadata": {},
   "outputs": [],
   "source": []
  },
  {
   "cell_type": "markdown",
   "id": "e241ffae-448a-42ff-879e-ecc7d293b5ea",
   "metadata": {
    "tags": []
   },
   "source": [
    "<details>\n",
    "  <summary>Genome alignement solutions</summary>\n",
    "    \n",
    "1.\n",
    "`bwa-mem2 index test_files/sars_reference_genome/sequence_sarscov2.fasta`\n",
    "\n",
    "2.\n",
    "`bwa-mem2 mem test_files/sars_reference_genome/sequence_sarscov2.fasta test_files/SRR25109930.fastq.gz -o test_files/sars_alignment.sam`\n",
    "\n",
    "3.\n",
    "`samtools stats test_files/sars_alignment.sam > test_files/sars_map_stats.txt`\n",
    "\n",
    "</details>"
   ]
  },
  {
   "cell_type": "markdown",
   "id": "70d39350-c985-407d-af50-7c3a1cc98f2b",
   "metadata": {},
   "source": [
    "# Transcriptomic analysis from raw data to differential expression results\n",
    "## Transcript count\n",
    "\n",
    "1. Index raw data using kallisto\n",
    "2. Estimate abundance of transcripts in the sample"
   ]
  },
  {
   "cell_type": "code",
   "execution_count": null,
   "id": "679dd72f-eea0-45ec-9d95-2ccabaa701b4",
   "metadata": {
    "tags": []
   },
   "outputs": [],
   "source": []
  },
  {
   "cell_type": "markdown",
   "id": "6754104d-580a-41fd-a613-abe976a7323b",
   "metadata": {
    "tags": []
   },
   "source": [
    "<details>\n",
    "  <summary>Transcriptomic analysis solutions</summary>\n",
    "    \n",
    "1.\n",
    "`kallisto index -i \"test_files/hg38_transcripts.fa\" \"test_files/hg38_F.fq.gz\" \"test_files/hg38_R.fq.gz\"`\n",
    "\n",
    "2.\n",
    "`kallisto quant -i \"test_files/hg38_transcripts.fa\" \"test_files/hg38_F.fq.gz\" \"test_files/hg38_R.fq.gz\" -b 100 -o \"test_files/kallisto_output\"`\n",
    "\n",
    "</details>"
   ]
  },
  {
   "cell_type": "markdown",
   "id": "f694a580-f273-453c-ae60-767b25b183c0",
   "metadata": {},
   "source": [
    "## Differential analysis of counts"
   ]
  },
  {
   "cell_type": "code",
   "execution_count": null,
   "id": "f1e41d23-7309-4e79-857d-f1715c09ffe4",
   "metadata": {
    "tags": []
   },
   "outputs": [],
   "source": [
    "%%R\n",
    "install.packages(\"tximportData\",repos=\"https://pbil.univ-lyon1.fr/CRAN/\")"
   ]
  },
  {
   "cell_type": "code",
   "execution_count": null,
   "id": "5877c736-8c41-4350-90b6-b06772f99046",
   "metadata": {
    "tags": []
   },
   "outputs": [],
   "source": [
    "%%R\n",
    "library(\"DESeq2\")\n",
    "library(\"tximportData\")\n",
    "library(\"tximport\")\n",
    "library(\"readr\")\n",
    "library(\"RColorBrewer\")\n",
    "library(\"pheatmap\")"
   ]
  },
  {
   "cell_type": "code",
   "execution_count": null,
   "id": "1a82adc6-889c-4c22-a0f2-ba618d4ebde8",
   "metadata": {
    "tags": []
   },
   "outputs": [],
   "source": [
    "%%R\n",
    "# import data\n",
    "dir <- system.file(\"extdata\", package=\"tximportData\")\n",
    "samples <- read.table(file.path(dir,\"samples.txt\"), header=TRUE)\n",
    "samples$condition <- factor(rep(c(\"control\",\"treated\"),each=3))\n",
    "rownames(samples) <- samples$run\n",
    "samples[,c(\"pop\",\"assay\",\"condition\")]\n"
   ]
  },
  {
   "cell_type": "code",
   "execution_count": null,
   "id": "75d8f365-2901-4d34-b865-b87169d78067",
   "metadata": {
    "tags": []
   },
   "outputs": [],
   "source": [
    "%%R\n",
    "# transform data\n",
    "files <- file.path(dir,\"salmon\", samples$run, \"quant.sf.gz\")\n",
    "names(files) <- samples$run\n",
    "tx2gene <- read_csv(file.path(dir, \"tx2gene.gencode.v27.csv\"))\n",
    "txi <- tximport(files, type=\"salmon\", tx2gene=tx2gene)"
   ]
  },
  {
   "cell_type": "code",
   "execution_count": null,
   "id": "56191ec5-1324-481d-adc2-4e1ed2313dbc",
   "metadata": {
    "tags": []
   },
   "outputs": [],
   "source": [
    "%%R\n",
    "# translate data as deseq2 input\n",
    "ddsTxi <- DESeqDataSetFromTximport(txi,\n",
    "                                   colData = samples,\n",
    "                                   design = ~ condition)\n",
    "dds <- DESeq(ddsTxi)\n",
    "res <- results(dds)"
   ]
  },
  {
   "cell_type": "code",
   "execution_count": null,
   "id": "5b7c3e23-7ad6-44b0-85c6-1aff0d5083f9",
   "metadata": {
    "tags": []
   },
   "outputs": [],
   "source": [
    "%%R\n",
    "df = as.data.frame(res)\n",
    "head(df)"
   ]
  },
  {
   "cell_type": "code",
   "execution_count": null,
   "id": "9f4ec128-a72b-44b4-8578-e851ec9e2ee2",
   "metadata": {
    "tags": []
   },
   "outputs": [],
   "source": [
    "%%R\n",
    "#Plot DE outputs\n",
    "xlim <- c(1,1e5); ylim <- c(-3,3)\n",
    "plotMA(res, xlim=xlim, ylim=ylim, main=\"normal\")"
   ]
  },
  {
   "cell_type": "code",
   "execution_count": null,
   "id": "9ab4f85d-21e0-4dc9-b5ee-ea69e503112d",
   "metadata": {
    "tags": []
   },
   "outputs": [],
   "source": [
    "%%R\n",
    "vsd <- vst(dds, blind=FALSE)\n",
    "sampleDists <- dist(t(assay(vsd)))"
   ]
  },
  {
   "cell_type": "markdown",
   "id": "968a59b4-acb5-4e2e-9b5a-04feff13adc4",
   "metadata": {},
   "source": [
    "## Distance matrix\n"
   ]
  },
  {
   "cell_type": "code",
   "execution_count": null,
   "id": "96d5665e-121f-4af8-b55d-618cccc52e5e",
   "metadata": {
    "tags": []
   },
   "outputs": [],
   "source": [
    "%%R\n",
    "# Plot of sample distance\n",
    "sampleDistMatrix <- as.matrix(sampleDists)\n",
    "rownames(sampleDistMatrix) <- paste(vsd$condition, vsd$sample, sep=\"-\")\n",
    "colnames(sampleDistMatrix) <- NULL\n",
    "colors <- colorRampPalette( rev(brewer.pal(9, \"Blues\")) )(255)\n",
    "pheatmap(sampleDistMatrix,\n",
    "         clustering_distance_rows=sampleDists,\n",
    "         clustering_distance_cols=sampleDists,\n",
    "         col=colors)\n"
   ]
  },
  {
   "cell_type": "markdown",
   "id": "666b526b-522c-4022-baa6-c42a62ab773d",
   "metadata": {},
   "source": [
    "## Sample PCA"
   ]
  },
  {
   "cell_type": "code",
   "execution_count": null,
   "id": "526f73ee-b43b-4f65-9814-c456286d7f06",
   "metadata": {
    "tags": []
   },
   "outputs": [],
   "source": [
    "%%R\n",
    "plotPCA(vsd, intgroup=c(\"condition\"))"
   ]
  },
  {
   "cell_type": "code",
   "execution_count": null,
   "id": "3aea6914-8147-447f-b732-79123095a2ad",
   "metadata": {},
   "outputs": [],
   "source": []
  },
  {
   "cell_type": "raw",
   "id": "369d7417-c404-4f42-b283-c684d3c2ec7b",
   "metadata": {},
   "source": [
    "######## REMOVE CREATED FILES ################\n",
    "%%bash \n",
    "cd test_files/\n",
    "rm -r *.sam SRR25109930.fastq.gz *.transcript.fa kallisto_output"
   ]
  }
 ],
 "metadata": {
  "kernelspec": {
   "display_name": "Python [conda env:jupyter] *",
   "language": "python",
   "name": "conda-env-jupyter-py"
  },
  "language_info": {
   "codemirror_mode": {
    "name": "ipython",
    "version": 3
   },
   "file_extension": ".py",
   "mimetype": "text/x-python",
   "name": "python",
   "nbconvert_exporter": "python",
   "pygments_lexer": "ipython3",
   "version": "3.11.3"
  },
  "toc-autonumbering": true
 },
 "nbformat": 4,
 "nbformat_minor": 5
}
