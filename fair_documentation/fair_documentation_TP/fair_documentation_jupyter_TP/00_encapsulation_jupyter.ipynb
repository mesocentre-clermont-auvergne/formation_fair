{
 "cells": [
  {
   "cell_type": "code",
   "execution_count": 1,
   "id": "58423c91-48b1-416e-aa77-1a6a74590d75",
   "metadata": {
    "tags": []
   },
   "outputs": [
    {
     "data": {
      "text/html": [
       "<font size=\"10\">  <div align=\"center\"> FAIR - JupyterLab - practice </div> </font>  \n"
      ],
      "text/plain": [
       "<IPython.core.display.HTML object>"
      ]
     },
     "metadata": {},
     "output_type": "display_data"
    }
   ],
   "source": [
    "%%html\n",
    "<font size=\"10\">  <div align=\"center\"> FAIR - JupyterLab - practice </div> </font>  "
   ]
  },
  {
   "cell_type": "markdown",
   "id": "c2050b64-bd2b-4aa5-892e-53cf0612bc68",
   "metadata": {
    "tags": []
   },
   "source": [
    "# Interface discovery"
   ]
  },
  {
   "cell_type": "markdown",
   "id": "abcd54bb-c42c-43fa-bda6-3eb80227a21b",
   "metadata": {
    "tags": []
   },
   "source": [
    "## Connexion to jupyter-lab \n",
    "\n",
    "1. Go to this adress: https://hub.mesocentre.uca.fr/hpc-jupyter/hub/login\n",
    "\n",
    "    <img src=\"images/jupyter_welcome.png\" alt=\"drawing\" width=\"1000\"/>\n",
    "2. Ask a jupyter session\n",
    "\n",
    "     <img src=\"images/start_server.png\" alt=\"drawing\" width=\"1000\"/>\n",
    "3. Submit the job to open the session\n",
    "\n",
    "     <img src=\"images/job_choice.png\" alt=\"drawing\" width=\"1000\"/>\n",
    "4. Discover your interface    \n",
    "     <img src=\"images/jupyter_page.png\" alt=\"drawing\" width=\"1000\"/>\n",
    "\n"
   ]
  },
  {
   "cell_type": "markdown",
   "id": "d1651dc1-a316-4622-bcb0-baec89a328bc",
   "metadata": {
    "tags": []
   },
   "source": [
    "## Discover toolbox\n",
    "\n",
    "    1. From the github repository of the FAIR practice, import the jupyter session part\n",
    "        - from the web interface\n",
    "        - from the cluster terminal\n",
    "    2. Launch the jupyter.ipynb\n",
    "    3. Launch a console interface\n",
    "    4. Launch a terminal interface"
   ]
  },
  {
   "cell_type": "code",
   "execution_count": null,
   "id": "535a383e-b586-4f7e-b7b9-6a492eef3856",
   "metadata": {
    "tags": []
   },
   "outputs": [],
   "source": []
  },
  {
   "cell_type": "markdown",
   "id": "8eaa0efa-bd45-4651-b5b1-79dd4dc2a2b8",
   "metadata": {
    "tags": []
   },
   "source": [
    "### Magic commands a special case\n",
    "\n",
    "Jupyter notebook has special commands : `magic commands` and `magic cells` \\\n",
    "The magic commands allow you to interact with your environnement to analyse the data. \\\n",
    "To call it, use the `%` symbol before in a `code cell` \\\n",
    "The list of available magic commands is available typing : `%lsmagic`\n",
    "This command is available only on the line where it is write\n",
    "\n",
    "The magic cells are cells with specific behaviour due to the magic cell command in the header of the cell \\\n",
    "It is use for example to use command from another language (ruby, bash, R...)\n",
    "\n",
    "1. List the magic commands"
   ]
  },
  {
   "cell_type": "code",
   "execution_count": null,
   "id": "8621b90a-2e53-4ff0-9e23-810131b5a2c6",
   "metadata": {
    "tags": []
   },
   "outputs": [],
   "source": []
  },
  {
   "cell_type": "markdown",
   "id": "37a0ec63-bd6e-4b01-b4c1-6f5cddddf634",
   "metadata": {
    "tags": []
   },
   "source": [
    "2. List folder content using magic command"
   ]
  },
  {
   "cell_type": "code",
   "execution_count": null,
   "id": "1553232a-ffd9-4bbc-85de-7ef7040a86f6",
   "metadata": {},
   "outputs": [],
   "source": []
  },
  {
   "cell_type": "markdown",
   "id": "0abd06e0-8f7b-4a1d-90ee-37b83ff3ce2b",
   "metadata": {
    "tags": []
   },
   "source": [
    "3. Make a cell with bash code"
   ]
  },
  {
   "cell_type": "code",
   "execution_count": null,
   "id": "e234ea59-cab9-4e39-aaba-4c9bc7411a0c",
   "metadata": {
    "tags": []
   },
   "outputs": [],
   "source": []
  },
  {
   "cell_type": "markdown",
   "id": "f41add45-9dc7-4dcb-8a24-2d9e6eda0377",
   "metadata": {},
   "source": [
    "<details>\n",
    "  <summary>Magic command solution</summary>\n",
    "    \n",
    "1. ```%lsmagic```\n",
    "2. ```%ls```\n",
    "3. \n",
    "`%%bash\n",
    "module load conda/23.3.1 && conda env list\n",
    "`\n",
    "</details>\n",
    "    "
   ]
  },
  {
   "cell_type": "markdown",
   "id": "41183b80-8f64-4eb6-9fd8-2b3d468b2643",
   "metadata": {},
   "source": [
    "# Make your own Kernel to work\n",
    "To work with you own tools, you need to make a `kernel`.\n",
    "This is the core of your notebook called when you want to analyse information from cells\n",
    "You can build your own kernel with Python or R and all available conda software you want"
   ]
  },
  {
   "cell_type": "markdown",
   "id": "a48f26a8-2427-4d0b-ba28-b2a44bea5e96",
   "metadata": {},
   "source": [
    "```\n",
    "Follow the guide from the mesocentre to install your kernel: https://hub.mesocentre.uca.fr/docs/cluster/applis/jupyterhub/\n",
    "```\n",
    "1. Install a Python Kernel with python 3.10\n",
    "```\n",
    "mamba install -c conda-forge nb_conda_kernels\n",
    "mamba create -n env_py38 python=3.8 numpy matplotlib pandas scipy dask\n",
    "mamba activate env_py38\n",
    "mamba install ipykernel jupyter_client\n",
    "python -m ipykernel install --user --name env_py38 --display-name \"kernel_python_3.8\"\n",
    "```\n",
    "\n",
    "2. Install a R kernel with r-base 4.2\n",
    "\n",
    "```\n",
    "mamba create --name env-r42 r-base=4.2 r-essentials r-irkernel\n",
    "mamba activate env-r42\n",
    "mamba install python=3.7 jupyter_client\n",
    "R -e \"IRkernel::installspec(name='env-r42', displayname='env_R_4.2', user=TRUE)\"\n",
    "```\n",
    "\n",
    "Test available kernels\n",
    "```\n",
    "conda activate env_py38\n",
    "mamba env list\n",
    "jupyter kernelspec list\n",
    "```"
   ]
  },
  {
   "cell_type": "markdown",
   "id": "59540861-3505-4139-9aa7-9d732e16aebb",
   "metadata": {},
   "source": [
    "# Work with both python and R in the same notebook\n",
    "```\n",
    "Jupyter also to work both with python and R in the same notebook\n",
    "The simple way is to create a conda env with python and R, then install a specific library: rpy2\n",
    "```\n",
    "1. In the previous R 4.2 kernel install rpy2 from conda\n",
    "    - use the terminal interface from jupyter\n",
    "    - activate the conda env containing your R version\n",
    "    - install rpy2 from conda\n",
    "3. Create a new notebook file with the kernel containg R and python\n",
    "4. Call the rpy2 package\n",
    "`%load_ext rpy2.ipython`\n",
    "\n",
    "5. Make a notebook with python and R cells\n",
    "\n",
    "`Now to call a R code into a cell use : magic variables %%R`\n"
   ]
  },
  {
   "cell_type": "markdown",
   "id": "da5b75d5-2b99-4676-b6b5-d8c5b5960f63",
   "metadata": {
    "tags": []
   },
   "source": [
    "### Import python libraries"
   ]
  },
  {
   "cell_type": "code",
   "execution_count": 2,
   "id": "714b693a-ade5-4edc-9a52-3480dd1b3b47",
   "metadata": {
    "tags": []
   },
   "outputs": [],
   "source": [
    "%load_ext rpy2.ipython\n",
    "import os\n",
    "import pandas as pd\n",
    "import numpy as np\n",
    "import import_ipynb"
   ]
  },
  {
   "cell_type": "markdown",
   "id": "2f14ebd1-8922-4e7b-bf30-0a0f6f9eb0a7",
   "metadata": {},
   "source": [
    "### Import R libraries"
   ]
  },
  {
   "cell_type": "code",
   "execution_count": 3,
   "id": "7255bcf1-dd89-4d4d-83cb-07c1b5743d55",
   "metadata": {
    "tags": []
   },
   "outputs": [],
   "source": [
    "%%R\n",
    "# load\n",
    "library(ggplot2)"
   ]
  },
  {
   "cell_type": "markdown",
   "id": "033c4b7d-f5a9-4c0b-9ff3-a4965e7875be",
   "metadata": {},
   "source": [
    "### Import a dataframe with python"
   ]
  },
  {
   "cell_type": "code",
   "execution_count": 4,
   "id": "1c5a2c7d-a987-43a2-b95f-a5b8c1fd353e",
   "metadata": {
    "tags": []
   },
   "outputs": [
    {
     "data": {
      "text/html": [
       "<div>\n",
       "<style scoped>\n",
       "    .dataframe tbody tr th:only-of-type {\n",
       "        vertical-align: middle;\n",
       "    }\n",
       "\n",
       "    .dataframe tbody tr th {\n",
       "        vertical-align: top;\n",
       "    }\n",
       "\n",
       "    .dataframe thead th {\n",
       "        text-align: right;\n",
       "    }\n",
       "</style>\n",
       "<table border=\"1\" class=\"dataframe\">\n",
       "  <thead>\n",
       "    <tr style=\"text-align: right;\">\n",
       "      <th></th>\n",
       "      <th>0</th>\n",
       "      <th>1</th>\n",
       "      <th>2</th>\n",
       "      <th>3</th>\n",
       "      <th>4</th>\n",
       "      <th>5</th>\n",
       "      <th>6</th>\n",
       "      <th>7</th>\n",
       "      <th>8</th>\n",
       "      <th>9</th>\n",
       "    </tr>\n",
       "  </thead>\n",
       "  <tbody>\n",
       "    <tr>\n",
       "      <th>cups_of_coffee</th>\n",
       "      <td>0</td>\n",
       "      <td>1</td>\n",
       "      <td>2</td>\n",
       "      <td>3</td>\n",
       "      <td>4</td>\n",
       "      <td>5</td>\n",
       "      <td>6</td>\n",
       "      <td>7</td>\n",
       "      <td>8</td>\n",
       "      <td>9</td>\n",
       "    </tr>\n",
       "    <tr>\n",
       "      <th>productivity</th>\n",
       "      <td>2</td>\n",
       "      <td>5</td>\n",
       "      <td>6</td>\n",
       "      <td>8</td>\n",
       "      <td>9</td>\n",
       "      <td>8</td>\n",
       "      <td>0</td>\n",
       "      <td>1</td>\n",
       "      <td>0</td>\n",
       "      <td>-1</td>\n",
       "    </tr>\n",
       "  </tbody>\n",
       "</table>\n",
       "</div>"
      ],
      "text/plain": [
       "                0  1  2  3  4  5  6  7  8  9\n",
       "cups_of_coffee  0  1  2  3  4  5  6  7  8  9\n",
       "productivity    2  5  6  8  9  8  0  1  0 -1"
      ]
     },
     "execution_count": 4,
     "metadata": {},
     "output_type": "execute_result"
    }
   ],
   "source": [
    "df = pd.DataFrame({\n",
    "    'cups_of_coffee': [0, 1, 2, 3, 4, 5, 6, 7, 8, 9],\n",
    "    'productivity': [2, 5, 6, 8, 9, 8, 0, 1, 0, -1]\n",
    "})\n",
    "df.transpose()"
   ]
  },
  {
   "cell_type": "markdown",
   "id": "5a51eb3c-660f-4da1-b016-1c797e95a928",
   "metadata": {},
   "source": [
    "### Plot the data with ggplot2"
   ]
  },
  {
   "cell_type": "code",
   "execution_count": 5,
   "id": "cbc11f4f-c8e1-49df-9bef-2d897bb666aa",
   "metadata": {
    "tags": []
   },
   "outputs": [
    {
     "data": {
      "image/png": "[encoded data removed]",
      "text/plain": [
       "<IPython.core.display.Image object>"
      ]
     },
     "metadata": {},
     "output_type": "display_data"
    }
   ],
   "source": [
    "%%R -i df\n",
    "ggplot(df, aes(x=reorder(cups_of_coffee,productivity), y=productivity)) + geom_col() + coord_flip()"
   ]
  },
  {
   "cell_type": "markdown",
   "id": "500e5086-74e6-4ac2-8522-a67ff56d8440",
   "metadata": {
    "tags": []
   },
   "source": [
    "# Genomic in jupyter notebook\n",
    "## Quality assessement of a SARS-COV-2 sample"
   ]
  },
  {
   "cell_type": "markdown",
   "id": "cc46120d-8fc9-4dcb-aa79-6b5711955501",
   "metadata": {},
   "source": [
    "Your kernel based on a conda env could be call also to use some installed tools.\n",
    "Here we added some bioinformatic tools to analyse genomic data.\n",
    "An advantage to bind a notebook to the cluster is to interact with your environment to submit jobs.\n",
    "Steps: use fastQC (raw read quality check) on the SRR25109930.fastq.gz sample of the SARS-COV2\n",
    "1. use fastQC into a jupyter cell and show results\n",
    "2. use fastQC by the job submission of the cluster using the fastqc.sh file"
   ]
  },
  {
   "cell_type": "markdown",
   "id": "3540a5b0-b8d6-4639-a921-d2ac13616aaa",
   "metadata": {},
   "source": [
    "<details>\n",
    "  <summary>Solutions</summary>\n",
    "    \n",
    "1. ```%lsmagic```\n",
    "2. ```%ls```\n",
    "3. \n",
    "`%%bash\n",
    "module load conda/23.3.1 && conda env list\n",
    "`\n",
    "</details>\n",
    "    "
   ]
  },
  {
   "cell_type": "code",
   "execution_count": 6,
   "id": "165b8014-b0c1-4828-9ef1-835007ff676a",
   "metadata": {
    "tags": []
   },
   "outputs": [
    {
     "name": "stdout",
     "output_type": "stream",
     "text": [
      "application/gzip\n"
     ]
    },
    {
     "name": "stderr",
     "output_type": "stream",
     "text": [
      "Started analysis of SRR25109930.fastq.gz\n",
      "Approx 5% complete for SRR25109930.fastq.gz\n",
      "Approx 10% complete for SRR25109930.fastq.gz\n",
      "Approx 15% complete for SRR25109930.fastq.gz\n",
      "Approx 20% complete for SRR25109930.fastq.gz\n",
      "Approx 25% complete for SRR25109930.fastq.gz\n",
      "Approx 30% complete for SRR25109930.fastq.gz\n",
      "Approx 35% complete for SRR25109930.fastq.gz\n",
      "Approx 40% complete for SRR25109930.fastq.gz\n",
      "Approx 45% complete for SRR25109930.fastq.gz\n",
      "Approx 50% complete for SRR25109930.fastq.gz\n",
      "Approx 55% complete for SRR25109930.fastq.gz\n",
      "Approx 60% complete for SRR25109930.fastq.gz\n",
      "Approx 65% complete for SRR25109930.fastq.gz\n",
      "Approx 70% complete for SRR25109930.fastq.gz\n",
      "Approx 75% complete for SRR25109930.fastq.gz\n",
      "Approx 80% complete for SRR25109930.fastq.gz\n",
      "Approx 85% complete for SRR25109930.fastq.gz\n",
      "Approx 90% complete for SRR25109930.fastq.gz\n",
      "Approx 95% complete for SRR25109930.fastq.gz\n"
     ]
    },
    {
     "name": "stdout",
     "output_type": "stream",
     "text": [
      "Analysis complete for SRR25109930.fastq.gz\n"
     ]
    }
   ],
   "source": [
    "%%bash\n",
    "fastqc test_files/SRR25109930.fastq.gz --outdir test_files"
   ]
  },
  {
   "cell_type": "raw",
   "id": "bde20f00-e468-4a77-b347-c564fe216b8a",
   "metadata": {
    "tags": []
   },
   "source": [
    "%%bash\n",
    "sbatch ./test_files/fastqc.sh"
   ]
  },
  {
   "cell_type": "raw",
   "id": "7be16544-741f-46d1-9aa4-275455f519cd",
   "metadata": {},
   "source": [
    "! squeue -u piemari"
   ]
  },
  {
   "cell_type": "markdown",
   "id": "10ad6b44-ad12-4391-b015-a331eb9bc6fe",
   "metadata": {},
   "source": [
    "## Quality alignement of a SARS-COV-2 sample"
   ]
  },
  {
   "cell_type": "code",
   "execution_count": 7,
   "id": "f836339d-c78c-47b6-8a40-372714dd5210",
   "metadata": {
    "tags": []
   },
   "outputs": [
    {
     "name": "stderr",
     "output_type": "stream",
     "text": [
      "Looking to launch executable \"/opt/conda/envs/jupyter/bin/bwa-mem2.avx512bw\", simd = .avx512bw\n",
      "Launching executable \"/opt/conda/envs/jupyter/bin/bwa-mem2.avx512bw\"\n",
      "[bwa_index] Pack FASTA... 0.00 sec\n",
      "* Entering FMI_search\n",
      "init ticks = 7451218\n",
      "ref seq len = 59806\n",
      "binary seq ticks = 5561400\n",
      "build suffix-array ticks = 28749286\n"
     ]
    },
    {
     "name": "stdout",
     "output_type": "stream",
     "text": [
      "ref_seq_len = 59806\n",
      "count = 0, 18548, 29903, 41258, 59806\n",
      "BWT[17048] = 4\n",
      "CP_SHIFT = 6, CP_MASK = 63\n",
      "sizeof CP_OCC = 64\n"
     ]
    },
    {
     "name": "stderr",
     "output_type": "stream",
     "text": [
      "pos: 7476, ref_seq_len__: 7475\n"
     ]
    },
    {
     "name": "stdout",
     "output_type": "stream",
     "text": [
      "max_occ_ind = 934\n"
     ]
    },
    {
     "name": "stderr",
     "output_type": "stream",
     "text": [
      "build fm-index ticks = 7288750\n",
      "Total time taken: 0.0240\n"
     ]
    }
   ],
   "source": [
    "%%bash\n",
    "bwa-mem2 index test_files/sars_reference_genome/sequence_sarscov2.fasta"
   ]
  },
  {
   "cell_type": "code",
   "execution_count": null,
   "id": "4beec8d3-8e13-4f9b-9f58-0a9f608d3f85",
   "metadata": {
    "tags": []
   },
   "outputs": [
    {
     "name": "stdout",
     "output_type": "stream",
     "text": [
      "Looking to launch executable \"/opt/conda/envs/jupyter/bin/bwa-mem2.avx512bw\", simd = .avx512bw\n",
      "Launching executable \"/opt/conda/envs/jupyter/bin/bwa-mem2.avx512bw\"\n",
      "-----------------------------\n",
      "Executing in AVX512 mode!!\n",
      "-----------------------------\n",
      "* SA compression enabled with xfactor: 8\n",
      "* Ref file: test_files/sars_reference_genome/sequence_sarscov2.fasta\n",
      "* Entering FMI_search\n",
      "* Index file found. Loading index from test_files/sars_reference_genome/sequence_sarscov2.fasta.bwt.2bit.64\n",
      "* Reference seq len for bi-index = 59807\n",
      "* sentinel-index: 17048\n",
      "* Count:\n",
      "0,\t1\n",
      "1,\t18549\n",
      "2,\t29904\n",
      "3,\t41259\n",
      "4,\t59807\n",
      "\n",
      "* Reading other elements of the index from files test_files/sars_reference_genome/sequence_sarscov2.fasta\n",
      "* Index prefix: test_files/sars_reference_genome/sequence_sarscov2.fasta\n",
      "* Read 0 ALT contigs\n",
      "* Done reading Index!!\n",
      "* Reading reference genome..\n",
      "* Binary seq file = test_files/sars_reference_genome/sequence_sarscov2.fasta.0123\n",
      "* Reference genome size: 59806 bp\n",
      "* Done reading reference genome !!\n",
      "\n",
      "------------------------------------------\n",
      "1. Memory pre-allocation for Chaining: 139.3584 MB\n",
      "2. Memory pre-allocation for BSW: 239.6170 MB\n",
      "3. Memory pre-allocation for BWT: 77.3142 MB\n",
      "------------------------------------------\n",
      "* Threads used (compute): 1\n",
      "* No. of pipeline threads: 2\n",
      "\n",
      "[0000] read_chunk: 10000000, work_chunk_size: 10000479, nseq: 40214\n",
      "\t[0000][ M::kt_pipeline] read 40214 sequences (10000479 bp)...\n",
      "[0000] Calling mem_process_seqs.., task: 0\n",
      "[0000] 1. Calling kt_for - worker_bwt\n",
      "[0000] read_chunk: 10000000, work_chunk_size: 10000033, nseq: 40092\n",
      "\t[0000][ M::kt_pipeline] read 40092 sequences (10000033 bp)...\n",
      "[0000] 2. Calling kt_for - worker_aln\n",
      "[0000] 3. Calling kt_for - worker_sam\n",
      "\t[0000][ M::mem_process_seqs] Processed 40214 reads in 3.200 CPU sec, 3.108 real sec\n",
      "[0000] Calling mem_process_seqs.., task: 1\n",
      "[0000] 1. Calling kt_for - worker_bwt\n",
      "[0000] read_chunk: 10000000, work_chunk_size: 10000317, nseq: 40286\n",
      "\t[0000][ M::kt_pipeline] read 40286 sequences (10000317 bp)...\n",
      "[0000] 2. Calling kt_for - worker_aln\n",
      "[0000] 3. Calling kt_for - worker_sam\n",
      "\t[0000][ M::mem_process_seqs] Processed 40092 reads in 2.790 CPU sec, 2.638 real sec\n",
      "[0000] Calling mem_process_seqs.., task: 2\n",
      "[0000] 1. Calling kt_for - worker_bwt\n",
      "[0000] read_chunk: 10000000, work_chunk_size: 10000232, nseq: 40246\n",
      "\t[0000][ M::kt_pipeline] read 40246 sequences (10000232 bp)...\n",
      "[0000] 2. Calling kt_for - worker_aln\n",
      "[0000] 3. Calling kt_for - worker_sam\n",
      "\t[0000][ M::mem_process_seqs] Processed 40286 reads in 2.535 CPU sec, 2.395 real sec\n",
      "[0000] Calling mem_process_seqs.., task: 3\n",
      "[0000] 1. Calling kt_for - worker_bwt\n",
      "[0000] read_chunk: 10000000, work_chunk_size: 10000292, nseq: 40080\n",
      "\t[0000][ M::kt_pipeline] read 40080 sequences (10000292 bp)...\n",
      "[0000] 2. Calling kt_for - worker_aln\n",
      "[0000] 3. Calling kt_for - worker_sam\n",
      "\t[0000][ M::mem_process_seqs] Processed 40246 reads in 2.633 CPU sec, 2.496 real sec\n",
      "[0000] Calling mem_process_seqs.., task: 4\n",
      "[0000] 1. Calling kt_for - worker_bwt\n",
      "[0000] read_chunk: 10000000, work_chunk_size: 10000238, nseq: 40218\n",
      "\t[0000][ M::kt_pipeline] read 40218 sequences (10000238 bp)...\n",
      "[0000] 2. Calling kt_for - worker_aln\n",
      "[0000] 3. Calling kt_for - worker_sam\n",
      "\t[0000][ M::mem_process_seqs] Processed 40080 reads in 2.316 CPU sec, 2.179 real sec\n",
      "[0000] Calling mem_process_seqs.., task: 5\n",
      "[0000] 1. Calling kt_for - worker_bwt\n",
      "[0000] read_chunk: 10000000, work_chunk_size: 10000360, nseq: 40642\n",
      "\t[0000][ M::kt_pipeline] read 40642 sequences (10000360 bp)...\n",
      "[0000] 2. Calling kt_for - worker_aln\n",
      "[0000] 3. Calling kt_for - worker_sam\n",
      "\t[0000][ M::mem_process_seqs] Processed 40218 reads in 2.412 CPU sec, 2.269 real sec\n",
      "[0000] Calling mem_process_seqs.., task: 6\n",
      "[0000] 1. Calling kt_for - worker_bwt\n",
      "[0000] read_chunk: 10000000, work_chunk_size: 10000023, nseq: 40540\n",
      "\t[0000][ M::kt_pipeline] read 40540 sequences (10000023 bp)...\n",
      "[0000] 2. Calling kt_for - worker_aln\n",
      "[0000] 3. Calling kt_for - worker_sam\n",
      "\t[0000][ M::mem_process_seqs] Processed 40642 reads in 2.466 CPU sec, 2.294 real sec\n",
      "[0000] Calling mem_process_seqs.., task: 7\n",
      "[0000] 1. Calling kt_for - worker_bwt\n",
      "[0000] read_chunk: 10000000, work_chunk_size: 10000005, nseq: 40984\n",
      "\t[0000][ M::kt_pipeline] read 40984 sequences (10000005 bp)...\n",
      "[0000] 2. Calling kt_for - worker_aln\n",
      "[0000] 3. Calling kt_for - worker_sam\n",
      "\t[0000][ M::mem_process_seqs] Processed 40540 reads in 2.746 CPU sec, 2.598 real sec\n",
      "[0000] Calling mem_process_seqs.., task: 8\n",
      "[0000] 1. Calling kt_for - worker_bwt\n",
      "[0000] read_chunk: 10000000, work_chunk_size: 10000363, nseq: 44428\n",
      "\t[0000][ M::kt_pipeline] read 44428 sequences (10000363 bp)...\n",
      "[0000] 2. Calling kt_for - worker_aln\n",
      "[0000] 3. Calling kt_for - worker_sam\n",
      "\t[0000][ M::mem_process_seqs] Processed 40984 reads in 4.006 CPU sec, 3.862 real sec\n",
      "[0000] Calling mem_process_seqs.., task: 9\n",
      "[0000] 1. Calling kt_for - worker_bwt\n",
      "[0000] read_chunk: 10000000, work_chunk_size: 10000015, nseq: 41842\n",
      "\t[0000][ M::kt_pipeline] read 41842 sequences (10000015 bp)...\n",
      "[0000] 2. Calling kt_for - worker_aln\n",
      "[0000] 3. Calling kt_for - worker_sam\n",
      "\t[0000][ M::mem_process_seqs] Processed 44428 reads in 6.273 CPU sec, 6.139 real sec\n",
      "[0000] Calling mem_process_seqs.., task: 10\n",
      "[0000] 1. Calling kt_for - worker_bwt\n"
     ]
    }
   ],
   "source": [
    "! bwa-mem2 mem test_files/sars_reference_genome/sequence_sarscov2.fasta test_files/SRR25109930.fastq.gz -o test_files/sars_alignment.sam\n",
    "! samtools view -S -b test_files/sars_alignment.sam > test_files/sars_alignment.bam"
   ]
  },
  {
   "cell_type": "markdown",
   "id": "70d39350-c985-407d-af50-7c3a1cc98f2b",
   "metadata": {},
   "source": [
    "## Transcriptomic analysis from raw data to differential expression results\n",
    "### Transcript count"
   ]
  },
  {
   "cell_type": "code",
   "execution_count": null,
   "id": "679dd72f-eea0-45ec-9d95-2ccabaa701b4",
   "metadata": {
    "tags": []
   },
   "outputs": [],
   "source": [
    "! kallisto index -i \"test_files/hg38_transcripts.fa\" \"test_files/hg38_F.fq.gz\" \"test_files/hg38_R.fq.gz\""
   ]
  },
  {
   "cell_type": "code",
   "execution_count": null,
   "id": "e83754ff-3aba-4e83-9312-727f3b82d4ee",
   "metadata": {
    "tags": []
   },
   "outputs": [],
   "source": [
    "! kallisto quant -i \"test_files/hg38_transcripts.fa\" \"test_files/hg38_F.fq.gz\" \"test_files/hg38_R.fq.gz\" -b 100 -o \"test_files/kallisto_output\""
   ]
  },
  {
   "cell_type": "code",
   "execution_count": null,
   "id": "df587cba-7bb1-46e5-9293-b97e6ce4b7c6",
   "metadata": {},
   "outputs": [],
   "source": [
    "## Differential analysis of counts"
   ]
  },
  {
   "cell_type": "code",
   "execution_count": null,
   "id": "5877c736-8c41-4350-90b6-b06772f99046",
   "metadata": {
    "tags": []
   },
   "outputs": [],
   "source": [
    "%%R\n",
    "library(\"DESeq2\")\n",
    "library(\"tximportData\")\n",
    "library(\"tximport\")\n",
    "library(\"readr\")"
   ]
  },
  {
   "cell_type": "code",
   "execution_count": null,
   "id": "1a82adc6-889c-4c22-a0f2-ba618d4ebde8",
   "metadata": {
    "tags": []
   },
   "outputs": [],
   "source": [
    "%%R\n",
    "# import data\n",
    "dir <- system.file(\"extdata\", package=\"tximportData\")\n",
    "samples <- read.table(file.path(dir,\"samples.txt\"), header=TRUE)\n",
    "samples$condition <- factor(rep(c(\"control\",\"treated\"),each=3))\n",
    "rownames(samples) <- samples$run\n",
    "samples[,c(\"pop\",\"center\",\"run\",\"condition\")]\n"
   ]
  },
  {
   "cell_type": "code",
   "execution_count": null,
   "id": "75d8f365-2901-4d34-b865-b87169d78067",
   "metadata": {
    "tags": []
   },
   "outputs": [],
   "source": [
    "%%R\n",
    "# transform data\n",
    "files <- file.path(dir,\"salmon\", samples$run, \"quant.sf.gz\")\n",
    "names(files) <- samples$run\n",
    "tx2gene <- read_csv(file.path(dir, \"tx2gene.gencode.v27.csv\"))\n",
    "txi <- tximport(files, type=\"salmon\", tx2gene=tx2gene)"
   ]
  },
  {
   "cell_type": "code",
   "execution_count": null,
   "id": "56191ec5-1324-481d-adc2-4e1ed2313dbc",
   "metadata": {
    "tags": []
   },
   "outputs": [],
   "source": [
    "%%R\n",
    "# translate data as deseq2 input\n",
    "ddsTxi <- DESeqDataSetFromTximport(txi,\n",
    "                                   colData = samples,\n",
    "                                   design = ~ condition)"
   ]
  },
  {
   "cell_type": "code",
   "execution_count": null,
   "id": "0db3ab62-4eb5-47f5-ac33-b3e41141a889",
   "metadata": {
    "tags": []
   },
   "outputs": [],
   "source": [
    "%%R\n",
    "# Use DESeq2 model\n",
    "dds <- DESeq(ddsTxi)\n",
    "res <- results(dds)"
   ]
  },
  {
   "cell_type": "code",
   "execution_count": null,
   "id": "9f4ec128-a72b-44b4-8578-e851ec9e2ee2",
   "metadata": {
    "tags": []
   },
   "outputs": [],
   "source": [
    "%%R\n",
    "#Plot DE outputs\n",
    "xlim <- c(1,1e5); ylim <- c(-3,3)\n",
    "plotMA(res, xlim=xlim, ylim=ylim, main=\"normal\")"
   ]
  },
  {
   "cell_type": "code",
   "execution_count": null,
   "id": "9ab4f85d-21e0-4dc9-b5ee-ea69e503112d",
   "metadata": {
    "tags": []
   },
   "outputs": [],
   "source": [
    "%%R\n",
    "vsd <- vst(dds, blind=FALSE)\n",
    "sampleDists <- dist(t(assay(vsd)))"
   ]
  },
  {
   "cell_type": "code",
   "execution_count": null,
   "id": "96d5665e-121f-4af8-b55d-618cccc52e5e",
   "metadata": {
    "tags": []
   },
   "outputs": [],
   "source": [
    "%%R\n",
    "# Plot of sample distance\n",
    "library(pheatmap)\n",
    "library(\"RColorBrewer\")\n",
    "library(\"pheatmap\")\n",
    "sampleDistMatrix <- as.matrix(sampleDists)\n",
    "rownames(sampleDistMatrix) <- paste(vsd$condition, vsd$sample, sep=\"-\")\n",
    "colnames(sampleDistMatrix) <- NULL\n",
    "colors <- colorRampPalette( rev(brewer.pal(9, \"Blues\")) )(255)\n",
    "pheatmap(sampleDistMatrix,\n",
    "         clustering_distance_rows=sampleDists,\n",
    "         clustering_distance_cols=sampleDists,\n",
    "         col=colors)\n"
   ]
  },
  {
   "cell_type": "code",
   "execution_count": null,
   "id": "526f73ee-b43b-4f65-9814-c456286d7f06",
   "metadata": {
    "tags": []
   },
   "outputs": [],
   "source": [
    "%%R\n",
    "plotPCA(vsd, intgroup=c(\"condition\"))"
   ]
  }
 ],
 "metadata": {
  "kernelspec": {
   "display_name": "Python [conda env:jupyter] *",
   "language": "python",
   "name": "conda-env-jupyter-py"
  },
  "language_info": {
   "codemirror_mode": {
    "name": "ipython",
    "version": 3
   },
   "file_extension": ".py",
   "mimetype": "text/x-python",
   "name": "python",
   "nbconvert_exporter": "python",
   "pygments_lexer": "ipython3",
   "version": "3.11.3"
  },
  "toc-autonumbering": true
 },
 "nbformat": 4,
 "nbformat_minor": 5
}
