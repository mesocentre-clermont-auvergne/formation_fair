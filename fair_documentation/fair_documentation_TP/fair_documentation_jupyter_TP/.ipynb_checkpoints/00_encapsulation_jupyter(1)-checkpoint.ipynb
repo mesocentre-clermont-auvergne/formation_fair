{
 "cells": [
  {
   "cell_type": "markdown",
   "id": "24b5badf-2cd5-4fb6-988f-06a834cd473c",
   "metadata": {},
   "source": [
    "<font size=\"10\">  <div align=\"center\"> FAIR - JupyterLab - practice </div> </font>  "
   ]
  },
  {
   "cell_type": "markdown",
   "id": "c2050b64-bd2b-4aa5-892e-53cf0612bc68",
   "metadata": {
    "tags": []
   },
   "source": [
    "# Interface discovery"
   ]
  },
  {
   "cell_type": "markdown",
   "id": "abcd54bb-c42c-43fa-bda6-3eb80227a21b",
   "metadata": {
    "tags": []
   },
   "source": [
    "## Connexion to jupyter-lab \n",
    "\n",
    "1. Go to this adress: https://hub.mesocentre.uca.fr/hpc-jupyter/hub/login\n",
    "\n",
    "    <img src=\"images/jupyter_welcome.png\" alt=\"drawing\" width=\"1000\"/>\n",
    "2. Ask a jupyter session\n",
    "\n",
    "     <img src=\"images/start_server.png\" alt=\"drawing\" width=\"1000\"/>\n",
    "3. Submit the job to open the session\n",
    "\n",
    "     <img src=\"images/job_choice.png\" alt=\"drawing\" width=\"1000\"/>\n",
    "4. Discover your interface    \n",
    "     <img src=\"images/jupyter_page.png\" alt=\"drawing\" width=\"1000\"/>\n",
    "\n"
   ]
  },
  {
   "cell_type": "markdown",
   "id": "d1651dc1-a316-4622-bcb0-baec89a328bc",
   "metadata": {
    "tags": []
   },
   "source": [
    "## Discover toolbox\n",
    "\n",
    "    1. From the github repository of the FAIR practice, import the jupyter session part\n",
    "        - from the web interface\n",
    "        - from the cluster terminal\n",
    "    2. Launch the jupyter.ipynb\n",
    "    3. Launch a console interface\n",
    "    4. Launch a terminal interface"
   ]
  },
  {
   "cell_type": "markdown",
   "id": "c079fe87-bcc5-467d-a6e6-5e9f3a8a8fca",
   "metadata": {
    "tags": []
   },
   "source": []
  },
  {
   "cell_type": "markdown",
   "id": "8eaa0efa-bd45-4651-b5b1-79dd4dc2a2b8",
   "metadata": {
    "tags": []
   },
   "source": [
    "### Magic command a special case\n",
    "\n",
    "Jupyter notebook has special commands : `magic commands` and `magic cells` \\\n",
    "The magic commands allow you to interact with your environnement to analyse the data. \\\n",
    "To call it, use the `%` symbol before in a `code cell` \\\n",
    "The list of available magic commands is available typing : `%lsmagic`\n",
    "This command is available only on the line where it is write\n",
    "\n",
    "The magic cells are cells with specific behaviour due to the magic cell command in the header of the cell \\\n",
    "It is use for example to use command from another language (ruby, bash, R...)\n",
    "\n",
    "1. List the magic commands"
   ]
  },
  {
   "cell_type": "code",
   "execution_count": null,
   "id": "8621b90a-2e53-4ff0-9e23-810131b5a2c6",
   "metadata": {
    "tags": []
   },
   "outputs": [],
   "source": []
  },
  {
   "cell_type": "markdown",
   "id": "37a0ec63-bd6e-4b01-b4c1-6f5cddddf634",
   "metadata": {
    "tags": []
   },
   "source": [
    "2. List folder content using magic command"
   ]
  },
  {
   "cell_type": "code",
   "execution_count": null,
   "id": "1553232a-ffd9-4bbc-85de-7ef7040a86f6",
   "metadata": {},
   "outputs": [],
   "source": []
  },
  {
   "cell_type": "markdown",
   "id": "0abd06e0-8f7b-4a1d-90ee-37b83ff3ce2b",
   "metadata": {
    "tags": []
   },
   "source": [
    "3. Make a cell with bash code"
   ]
  },
  {
   "cell_type": "code",
   "execution_count": 1,
   "id": "e234ea59-cab9-4e39-aaba-4c9bc7411a0c",
   "metadata": {
    "tags": []
   },
   "outputs": [
    {
     "name": "stdout",
     "output_type": "stream",
     "text": [
      "# conda environments:\n",
      "#\n",
      "                         /home/pierre/galaxy/database/dependencies/_conda/envs/__abromics_galaxy_json_extractor@_uv_\n",
      "                         /home/pierre/miniconda3\n",
      "base                     /opt/conda\n",
      "__abromics_galaxy_json_extractor@_uv_     /opt/conda/envs/__abromics_galaxy_json_extractor@_uv_\n",
      "__bowtie@1.3.1           /opt/conda/envs/__bowtie@1.3.1\n",
      "__bowtie@_uv_            /opt/conda/envs/__bowtie@_uv_\n",
      "__git-lfs@3.2.0          /opt/conda/envs/__git-lfs@3.2.0\n",
      "__git-lfs@_uv_           /opt/conda/envs/__git-lfs@_uv_\n",
      "__git@2.34.1             /opt/conda/envs/__git@2.34.1\n",
      "__git@2.37.1             /opt/conda/envs/__git@2.37.1\n",
      "__git@_uv_               /opt/conda/envs/__git@_uv_\n",
      "__gitpython@3.1.27       /opt/conda/envs/__gitpython@3.1.27\n",
      "__gitpython@3.1.31       /opt/conda/envs/__gitpython@3.1.31\n",
      "__pip@22.1.2             /opt/conda/envs/__pip@22.1.2\n",
      "__pip@_uv_               /opt/conda/envs/__pip@_uv_\n",
      "__python@3.10            /opt/conda/envs/__python@3.10\n",
      "__python@3.10.8          /opt/conda/envs/__python@3.10.8\n",
      "__python@3.11.3          /opt/conda/envs/__python@3.11.3\n",
      "__python@3.8             /opt/conda/envs/__python@3.8\n",
      "__python@_uv_            /opt/conda/envs/__python@_uv_\n",
      "__requests@2.27.1        /opt/conda/envs/__requests@2.27.1\n",
      "__requests@2.28.1        /opt/conda/envs/__requests@2.28.1\n",
      "__requests@_uv_          /opt/conda/envs/__requests@_uv_\n",
      "_galaxy_                 /opt/conda/envs/_galaxy_\n",
      "abromics_report          /opt/conda/envs/abromics_report\n",
      "amrfinderplus            /opt/conda/envs/amrfinderplus\n",
      "annotation               /opt/conda/envs/annotation\n",
      "assembly                 /opt/conda/envs/assembly\n",
      "bakta_1.8                /opt/conda/envs/bakta_1.8\n",
      "bracken                  /opt/conda/envs/bracken\n",
      "build3_10_8              /opt/conda/envs/build3_10_8\n",
      "confindr                 /opt/conda/envs/confindr\n",
      "ephemeris                /opt/conda/envs/ephemeris\n",
      "hamronization            /opt/conda/envs/hamronization\n",
      "jupyter               *  /opt/conda/envs/jupyter\n",
      "kraken                   /opt/conda/envs/kraken\n",
      "mulled-v1-8bd2e98f030d19606e777fc1ea4291c690fe061cf3a66552eca34c2423241806     /opt/conda/envs/mulled-v1-8bd2e98f030d19606e777fc1ea4291c690fe061cf3a66552eca34c2423241806\n",
      "planemo                  /opt/conda/envs/planemo\n",
      "prokka                   /opt/conda/envs/prokka\n",
      "refseqmasher             /opt/conda/envs/refseqmasher\n",
      "rnaseq                   /opt/conda/envs/rnaseq\n",
      "shovill                  /opt/conda/envs/shovill\n",
      "sphinx_doc               /opt/conda/envs/sphinx_doc\n",
      "staramr                  /opt/conda/envs/staramr\n",
      "taxonomy                 /opt/conda/envs/taxonomy\n",
      "test                     /opt/conda/envs/test\n",
      "test2                    /opt/conda/envs/test2\n",
      "test_staramr             /opt/conda/envs/test_staramr\n",
      "toto                     /opt/conda/envs/toto\n",
      "toto2                    /opt/conda/envs/toto2\n",
      "toto3                    /opt/conda/envs/toto3\n",
      "trimming                 /opt/conda/envs/trimming\n",
      "\n",
      "00_encapsulation_jupyter(1).html\n",
      "00_encapsulation_jupyter(1).ipynb\n",
      "00_encapsulation_jupyter.ipynb\n",
      "images\n",
      "kallisto_output\n",
      "mtcars.csv\n",
      "test_files\n",
      "hello world\n"
     ]
    }
   ],
   "source": [
    "%%bash\n",
    "# On the HPC2 cluster, when starting a new session, you need to activate the conda module\n",
    "#module load conda\n",
    "# list environments\n",
    "conda env list"
   ]
  },
  {
   "cell_type": "markdown",
   "id": "f41add45-9dc7-4dcb-8a24-2d9e6eda0377",
   "metadata": {},
   "source": [
    "<details>\n",
    "  <summary>Magic command solution</summary>\n",
    "    \n",
    "1. ```%lsmagic```\n",
    "2. ```%ls```    \n",
    "</details>\n",
    "    "
   ]
  },
  {
   "cell_type": "markdown",
   "id": "41183b80-8f64-4eb6-9fd8-2b3d468b2643",
   "metadata": {},
   "source": [
    "# Make your own Kernel to work\n",
    "```\n",
    "Follow the guide from the mesocentre to install your kernel: https://hub.mesocentre.uca.fr/docs/cluster/applis/jupyterhub/\n",
    "```\n",
    "1. Install a Python Kernel with python 3.10\n",
    "```\n",
    "mamba install -c conda-forge nb_conda_kernels\n",
    "mamba create -n env_py38 python=3.8 numpy matplotlib pandas scipy dask\n",
    "mamba activate env_py38\n",
    "mamba install ipykernel jupyter_client\n",
    "python -m ipykernel install --user --name env_py38 --display-name \"kernel_python_3.8\"\n",
    "```\n",
    "\n",
    "2. Install a R kernel with r-base 4.2\n",
    "\n",
    "```\n",
    "mamba create --name env-r42 r-base=4.2 r-essentials r-irkernel\n",
    "mamba activate env-r42\n",
    "mamba install python=3.7 jupyter_client\n",
    "R -e \"IRkernel::installspec(name='env-r42', displayname='env_R_4.2', user=TRUE)\"\n",
    "```\n",
    "\n",
    "Test available kernels\n",
    "```\n",
    "conda activate env_py38\n",
    "mamba env list\n",
    "jupyter kernelspec list\n",
    "```"
   ]
  },
  {
   "cell_type": "markdown",
   "id": "59540861-3505-4139-9aa7-9d732e16aebb",
   "metadata": {},
   "source": [
    "# Work with both python and R in the same notebook\n",
    "```\n",
    "Jupyter also to work both with python and R in the same notebook\n",
    "The simple way is to create a conda env with python and R, then install a specific library: rpy2\n",
    "```\n",
    "1. In the previous R 4.2 kernel install rpy2 from conda\n",
    "    - use the terminal interface from jupyter\n",
    "    - activate the conda env containing your R version\n",
    "    - install rpy2 from conda\n",
    "3. Create a new notebook file with the kernel containg R and python\n",
    "4. Call the rpy2 package\n",
    "`%load_ext rpy2.ipython`\n",
    "\n",
    "5. Make a notebook with python and R cells \\\n",
    "`Now to call a R code into a cell use : magic variables %%R`\n"
   ]
  },
  {
   "cell_type": "markdown",
   "id": "da5b75d5-2b99-4676-b6b5-d8c5b5960f63",
   "metadata": {},
   "source": [
    "### Import python libraries"
   ]
  },
  {
   "cell_type": "code",
   "execution_count": 2,
   "id": "0654deb4-1737-47ff-b92a-e36f09317606",
   "metadata": {
    "tags": []
   },
   "outputs": [],
   "source": [
    "%%capture\n",
    "%%bash\n",
    "mamba install -y pandas numpy\n",
    "pip install import-ipynb"
   ]
  },
  {
   "cell_type": "code",
   "execution_count": 3,
   "id": "714b693a-ade5-4edc-9a52-3480dd1b3b47",
   "metadata": {
    "tags": []
   },
   "outputs": [],
   "source": [
    "%%capture\n",
    "%load_ext rpy2.ipython\n",
    "import os\n",
    "import pandas as pd\n",
    "import numpy as np\n",
    "import import_ipynb"
   ]
  },
  {
   "cell_type": "markdown",
   "id": "2f14ebd1-8922-4e7b-bf30-0a0f6f9eb0a7",
   "metadata": {},
   "source": [
    "### Import R libraries"
   ]
  },
  {
   "cell_type": "code",
   "execution_count": 4,
   "id": "0e3699a9-f5b4-487d-bb63-f872bf7b7fbb",
   "metadata": {
    "tags": []
   },
   "outputs": [],
   "source": [
    "%%capture\n",
    "%%bash \n",
    "mamba install -y -c conda-forge r-ggplot2 r-knitr r-ade4 r-kableExtra r-adegraphics r-gridExtra"
   ]
  },
  {
   "cell_type": "code",
   "execution_count": 5,
   "id": "7255bcf1-dd89-4d4d-83cb-07c1b5743d55",
   "metadata": {
    "tags": []
   },
   "outputs": [],
   "source": [
    "%%capture\n",
    "%%R\n",
    "# load\n",
    "library(ggplot2)\n",
    "library(knitr)\n",
    "library(ade4)\n",
    "library(kableExtra)\n",
    "library(adegraphics)\n",
    "library(gridExtra)"
   ]
  },
  {
   "cell_type": "markdown",
   "id": "033c4b7d-f5a9-4c0b-9ff3-a4965e7875be",
   "metadata": {},
   "source": [
    "### Import a dataframe with python"
   ]
  },
  {
   "cell_type": "code",
   "execution_count": 6,
   "id": "1c5a2c7d-a987-43a2-b95f-a5b8c1fd353e",
   "metadata": {
    "tags": []
   },
   "outputs": [
    {
     "data": {
      "text/html": [
       "<div>\n",
       "<style scoped>\n",
       "    .dataframe tbody tr th:only-of-type {\n",
       "        vertical-align: middle;\n",
       "    }\n",
       "\n",
       "    .dataframe tbody tr th {\n",
       "        vertical-align: top;\n",
       "    }\n",
       "\n",
       "    .dataframe thead th {\n",
       "        text-align: right;\n",
       "    }\n",
       "</style>\n",
       "<table border=\"1\" class=\"dataframe\">\n",
       "  <thead>\n",
       "    <tr style=\"text-align: right;\">\n",
       "      <th></th>\n",
       "      <th>0</th>\n",
       "      <th>1</th>\n",
       "      <th>2</th>\n",
       "      <th>3</th>\n",
       "      <th>4</th>\n",
       "      <th>5</th>\n",
       "      <th>6</th>\n",
       "      <th>7</th>\n",
       "      <th>8</th>\n",
       "      <th>9</th>\n",
       "    </tr>\n",
       "  </thead>\n",
       "  <tbody>\n",
       "    <tr>\n",
       "      <th>cups_of_coffee</th>\n",
       "      <td>0</td>\n",
       "      <td>1</td>\n",
       "      <td>2</td>\n",
       "      <td>3</td>\n",
       "      <td>4</td>\n",
       "      <td>5</td>\n",
       "      <td>6</td>\n",
       "      <td>7</td>\n",
       "      <td>8</td>\n",
       "      <td>9</td>\n",
       "    </tr>\n",
       "    <tr>\n",
       "      <th>productivity</th>\n",
       "      <td>2</td>\n",
       "      <td>5</td>\n",
       "      <td>6</td>\n",
       "      <td>8</td>\n",
       "      <td>9</td>\n",
       "      <td>8</td>\n",
       "      <td>0</td>\n",
       "      <td>1</td>\n",
       "      <td>0</td>\n",
       "      <td>-1</td>\n",
       "    </tr>\n",
       "  </tbody>\n",
       "</table>\n",
       "</div>"
      ],
      "text/plain": [
       "                0  1  2  3  4  5  6  7  8  9\n",
       "cups_of_coffee  0  1  2  3  4  5  6  7  8  9\n",
       "productivity    2  5  6  8  9  8  0  1  0 -1"
      ]
     },
     "execution_count": 6,
     "metadata": {},
     "output_type": "execute_result"
    }
   ],
   "source": [
    "df = pd.DataFrame({\n",
    "    'cups_of_coffee': [0, 1, 2, 3, 4, 5, 6, 7, 8, 9],\n",
    "    'productivity': [2, 5, 6, 8, 9, 8, 0, 1, 0, -1]\n",
    "})\n",
    "df.transpose()"
   ]
  },
  {
   "cell_type": "markdown",
   "id": "5a51eb3c-660f-4da1-b016-1c797e95a928",
   "metadata": {},
   "source": [
    "### Plot the data with ggplot2"
   ]
  },
  {
   "cell_type": "code",
   "execution_count": 7,
   "id": "cbc11f4f-c8e1-49df-9bef-2d897bb666aa",
   "metadata": {
    "tags": []
   },
   "outputs": [
    {
     "data": {
      "image/png": "[encoded data removed]",
      "text/plain": [
       "<IPython.core.display.Image object>"
      ]
     },
     "metadata": {},
     "output_type": "display_data"
    }
   ],
   "source": [
    "%%R -i df\n",
    "ggplot(df, aes(x=reorder(cups_of_coffee,productivity), y=productivity)) + geom_col() + coord_flip()"
   ]
  },
  {
   "cell_type": "markdown",
   "id": "500e5086-74e6-4ac2-8522-a67ff56d8440",
   "metadata": {
    "tags": []
   },
   "source": [
    "## Genomic in jupyter notebook\n",
    "### Example of genome alignment with the SARS-COV2"
   ]
  },
  {
   "cell_type": "code",
   "execution_count": 8,
   "id": "165b8014-b0c1-4828-9ef1-835007ff676a",
   "metadata": {
    "tags": []
   },
   "outputs": [
    {
     "name": "stderr",
     "output_type": "stream",
     "text": [
      "Started analysis of SRR25109930.fastq.gz\n",
      "Approx 5% complete for SRR25109930.fastq.gz\n",
      "Approx 10% complete for SRR25109930.fastq.gz\n",
      "Approx 15% complete for SRR25109930.fastq.gz\n",
      "Approx 20% complete for SRR25109930.fastq.gz\n",
      "Approx 25% complete for SRR25109930.fastq.gz\n",
      "Approx 30% complete for SRR25109930.fastq.gz\n",
      "Approx 35% complete for SRR25109930.fastq.gz\n",
      "Approx 40% complete for SRR25109930.fastq.gz\n",
      "Approx 45% complete for SRR25109930.fastq.gz\n",
      "Approx 50% complete for SRR25109930.fastq.gz\n",
      "Approx 55% complete for SRR25109930.fastq.gz\n",
      "Approx 60% complete for SRR25109930.fastq.gz\n",
      "Approx 65% complete for SRR25109930.fastq.gz\n",
      "Approx 70% complete for SRR25109930.fastq.gz\n",
      "Approx 75% complete for SRR25109930.fastq.gz\n",
      "Approx 80% complete for SRR25109930.fastq.gz\n",
      "Approx 85% complete for SRR25109930.fastq.gz\n",
      "Approx 90% complete for SRR25109930.fastq.gz\n",
      "Approx 95% complete for SRR25109930.fastq.gz\n"
     ]
    },
    {
     "name": "stdout",
     "output_type": "stream",
     "text": [
      "Analysis complete for SRR25109930.fastq.gz\n"
     ]
    }
   ],
   "source": [
    "%%bash\n",
    "fastqc test_files/SRR25109930.fastq.gz --outdir test_files"
   ]
  },
  {
   "cell_type": "code",
   "execution_count": 9,
   "id": "4beec8d3-8e13-4f9b-9f58-0a9f608d3f85",
   "metadata": {
    "tags": []
   },
   "outputs": [
    {
     "name": "stderr",
     "output_type": "stream",
     "text": [
      "Looking to launch executable \"/opt/conda/envs/jupyter/bin/bwa-mem2.avx512bw\", simd = .avx512bw\n",
      "Launching executable \"/opt/conda/envs/jupyter/bin/bwa-mem2.avx512bw\"\n",
      "[bwa_index] Pack FASTA... 0.00 sec\n",
      "* Entering FMI_search\n",
      "init ticks = 6822886\n",
      "ref seq len = 59806\n",
      "binary seq ticks = 4354858\n",
      "build suffix-array ticks = 29224808\n"
     ]
    },
    {
     "name": "stdout",
     "output_type": "stream",
     "text": [
      "ref_seq_len = 59806\n",
      "count = 0, 18548, 29903, 41258, 59806\n",
      "BWT[17048] = 4\n",
      "CP_SHIFT = 6, CP_MASK = 63\n",
      "sizeof CP_OCC = 64\n"
     ]
    },
    {
     "name": "stderr",
     "output_type": "stream",
     "text": [
      "pos: 7476, ref_seq_len__: 7475\n",
      "build fm-index ticks = 8561024\n",
      "Total time taken: 0.0243\n"
     ]
    },
    {
     "name": "stdout",
     "output_type": "stream",
     "text": [
      "max_occ_ind = 934\n"
     ]
    },
    {
     "name": "stderr",
     "output_type": "stream",
     "text": [
      "Looking to launch executable \"/opt/conda/envs/jupyter/bin/bwa-mem2.avx512bw\", simd = .avx512bw\n",
      "Launching executable \"/opt/conda/envs/jupyter/bin/bwa-mem2.avx512bw\"\n",
      "-----------------------------\n",
      "Executing in AVX512 mode!!\n",
      "-----------------------------\n",
      "* SA compression enabled with xfactor: 8\n",
      "* Ref file: test_files/sequence_sarscov2.fasta\n",
      "* Entering FMI_search\n",
      "* Index file found. Loading index from test_files/sequence_sarscov2.fasta.bwt.2bit.64\n",
      "* Reference seq len for bi-index = 59807\n",
      "* sentinel-index: 17048\n",
      "* Count:\n",
      "0,\t1\n",
      "1,\t18549\n",
      "2,\t29904\n",
      "3,\t41259\n",
      "4,\t59807\n",
      "\n",
      "* Reading other elements of the index from files test_files/sequence_sarscov2.fasta\n",
      "* Index prefix: test_files/sequence_sarscov2.fasta\n",
      "* Read 0 ALT contigs\n",
      "* Done reading Index!!\n",
      "* Reading reference genome..\n",
      "* Binary seq file = test_files/sequence_sarscov2.fasta.0123\n",
      "* Reference genome size: 59806 bp\n",
      "* Done reading reference genome !!\n",
      "\n",
      "------------------------------------------\n",
      "1. Memory pre-allocation for Chaining: 139.3584 MB\n",
      "2. Memory pre-allocation for BSW: 239.6170 MB\n",
      "3. Memory pre-allocation for BWT: 77.3142 MB\n",
      "------------------------------------------\n",
      "* Threads used (compute): 1\n",
      "* No. of pipeline threads: 2\n",
      "\n",
      "[0000] read_chunk: 10000000, work_chunk_size: 10000479, nseq: 40214\n",
      "\t[0000][ M::kt_pipeline] read 40214 sequences (10000479 bp)...\n",
      "[0000] Calling mem_process_seqs.., task: 0\n",
      "[0000] 1. Calling kt_for - worker_bwt\n",
      "[0000] read_chunk: 10000000, work_chunk_size: 10000033, nseq: 40092\n",
      "\t[0000][ M::kt_pipeline] read 40092 sequences (10000033 bp)...\n",
      "[0000] 2. Calling kt_for - worker_aln\n",
      "[0000] 3. Calling kt_for - worker_sam\n",
      "\t[0000][ M::mem_process_seqs] Processed 40214 reads in 3.638 CPU sec, 3.534 real sec\n",
      "[0000] Calling mem_process_seqs.., task: 1\n",
      "[0000] 1. Calling kt_for - worker_bwt\n",
      "[0000] read_chunk: 10000000, work_chunk_size: 10000317, nseq: 40286\n",
      "\t[0000][ M::kt_pipeline] read 40286 sequences (10000317 bp)...\n",
      "[0000] 2. Calling kt_for - worker_aln\n",
      "[0000] 3. Calling kt_for - worker_sam\n",
      "\t[0000][ M::mem_process_seqs] Processed 40092 reads in 2.764 CPU sec, 2.612 real sec\n",
      "[0000] Calling mem_process_seqs.., task: 2\n",
      "[0000] 1. Calling kt_for - worker_bwt\n",
      "[0000] read_chunk: 10000000, work_chunk_size: 10000232, nseq: 40246\n",
      "\t[0000][ M::kt_pipeline] read 40246 sequences (10000232 bp)...\n",
      "[0000] 2. Calling kt_for - worker_aln\n",
      "[0000] 3. Calling kt_for - worker_sam\n",
      "\t[0000][ M::mem_process_seqs] Processed 40286 reads in 2.588 CPU sec, 2.435 real sec\n",
      "[0000] Calling mem_process_seqs.., task: 3\n",
      "[0000] 1. Calling kt_for - worker_bwt\n",
      "[0000] read_chunk: 10000000, work_chunk_size: 10000292, nseq: 40080\n",
      "\t[0000][ M::kt_pipeline] read 40080 sequences (10000292 bp)...\n",
      "[0000] 2. Calling kt_for - worker_aln\n",
      "[0000] 3. Calling kt_for - worker_sam\n",
      "\t[0000][ M::mem_process_seqs] Processed 40246 reads in 2.812 CPU sec, 2.650 real sec\n",
      "[0000] Calling mem_process_seqs.., task: 4\n",
      "[0000] 1. Calling kt_for - worker_bwt\n",
      "[0000] read_chunk: 10000000, work_chunk_size: 10000238, nseq: 40218\n",
      "\t[0000][ M::kt_pipeline] read 40218 sequences (10000238 bp)...\n",
      "[0000] 2. Calling kt_for - worker_aln\n",
      "[0000] 3. Calling kt_for - worker_sam\n",
      "\t[0000][ M::mem_process_seqs] Processed 40080 reads in 2.634 CPU sec, 2.481 real sec\n",
      "[0000] Calling mem_process_seqs.., task: 5\n",
      "[0000] 1. Calling kt_for - worker_bwt\n",
      "[0000] read_chunk: 10000000, work_chunk_size: 10000360, nseq: 40642\n",
      "\t[0000][ M::kt_pipeline] read 40642 sequences (10000360 bp)...\n",
      "[0000] 2. Calling kt_for - worker_aln\n",
      "[0000] 3. Calling kt_for - worker_sam\n",
      "\t[0000][ M::mem_process_seqs] Processed 40218 reads in 2.704 CPU sec, 2.549 real sec\n",
      "[0000] Calling mem_process_seqs.., task: 6\n",
      "[0000] 1. Calling kt_for - worker_bwt\n",
      "[0000] read_chunk: 10000000, work_chunk_size: 10000023, nseq: 40540\n",
      "\t[0000][ M::kt_pipeline] read 40540 sequences (10000023 bp)...\n",
      "[0000] 2. Calling kt_for - worker_aln\n",
      "[0000] 3. Calling kt_for - worker_sam\n",
      "\t[0000][ M::mem_process_seqs] Processed 40642 reads in 2.776 CPU sec, 2.618 real sec\n",
      "[0000] Calling mem_process_seqs.., task: 7\n",
      "[0000] 1. Calling kt_for - worker_bwt\n",
      "[0000] read_chunk: 10000000, work_chunk_size: 10000005, nseq: 40984\n",
      "\t[0000][ M::kt_pipeline] read 40984 sequences (10000005 bp)...\n",
      "[0000] 2. Calling kt_for - worker_aln\n",
      "[0000] 3. Calling kt_for - worker_sam\n",
      "\t[0000][ M::mem_process_seqs] Processed 40540 reads in 3.100 CPU sec, 2.950 real sec\n",
      "[0000] Calling mem_process_seqs.., task: 8\n",
      "[0000] 1. Calling kt_for - worker_bwt\n",
      "[0000] read_chunk: 10000000, work_chunk_size: 10000363, nseq: 44428\n",
      "\t[0000][ M::kt_pipeline] read 44428 sequences (10000363 bp)...\n",
      "[0000] 2. Calling kt_for - worker_aln\n",
      "[0000] 3. Calling kt_for - worker_sam\n",
      "\t[0000][ M::mem_process_seqs] Processed 40984 reads in 4.534 CPU sec, 4.378 real sec\n",
      "[0000] Calling mem_process_seqs.., task: 9\n",
      "[0000] 1. Calling kt_for - worker_bwt\n",
      "[0000] read_chunk: 10000000, work_chunk_size: 10000015, nseq: 41842\n",
      "\t[0000][ M::kt_pipeline] read 41842 sequences (10000015 bp)...\n",
      "[0000] 2. Calling kt_for - worker_aln\n",
      "[0000] 3. Calling kt_for - worker_sam\n",
      "\t[0000][ M::mem_process_seqs] Processed 44428 reads in 6.865 CPU sec, 6.710 real sec\n",
      "[0000] Calling mem_process_seqs.., task: 10\n",
      "[0000] 1. Calling kt_for - worker_bwt\n",
      "[0000] read_chunk: 10000000, work_chunk_size: 10000055, nseq: 40820\n",
      "\t[0000][ M::kt_pipeline] read 40820 sequences (10000055 bp)...\n",
      "[0000] 2. Calling kt_for - worker_aln\n",
      "[0000] 3. Calling kt_for - worker_sam\n",
      "\t[0000][ M::mem_process_seqs] Processed 41842 reads in 3.984 CPU sec, 3.826 real sec\n",
      "[0000] Calling mem_process_seqs.., task: 11\n",
      "[0000] 1. Calling kt_for - worker_bwt\n",
      "[0000] read_chunk: 10000000, work_chunk_size: 6341350, nseq: 25636\n",
      "\t[0000][ M::kt_pipeline] read 25636 sequences (6341350 bp)...\n",
      "[0000] 2. Calling kt_for - worker_aln\n",
      "[0000] 3. Calling kt_for - worker_sam\n",
      "\t[0000][ M::mem_process_seqs] Processed 40820 reads in 4.934 CPU sec, 4.792 real sec\n",
      "[0000] Calling mem_process_seqs.., task: 12\n",
      "[0000] 1. Calling kt_for - worker_bwt\n",
      "[0000] read_chunk: 10000000, work_chunk_size: 0, nseq: 0\n",
      "[0000] 2. Calling kt_for - worker_aln\n",
      "[0000] 3. Calling kt_for - worker_sam\n",
      "\t[0000][ M::mem_process_seqs] Processed 25636 reads in 4.117 CPU sec, 4.055 real sec\n",
      "[0000] read_chunk: 10000000, work_chunk_size: 0, nseq: 0\n",
      "[0000] Computation ends..\n",
      "No. of OMP threads: 1\n",
      "Processor is running @2995.612050 MHz\n",
      "Runtime profile:\n",
      "\n",
      "\tTime taken for main_mem function: 45.81 sec\n",
      "\n",
      "\tIO times (sec) :\n",
      "\tReading IO time (reads) avg: 1.14, (1.14, 1.14)\n",
      "\tWriting IO time (SAM) avg: 0.95, (0.95, 0.95)\n",
      "\tReading IO time (Reference Genome) avg: 0.00, (0.00, 0.00)\n",
      "\tIndex read time avg: 0.00, (0.00, 0.00)\n",
      "\n",
      "\tOverall time (sec) (Excluding Index reading time):\n",
      "\tPROCESS() (Total compute time + (read + SAM) IO time) : 45.74\n",
      "\tMEM_PROCESS_SEQ() (Total compute time (Kernel + SAM)), avg: 45.58, (45.58, 45.58)\n",
      "\n",
      "\t SAM Processing time (sec):\n",
      "\t--WORKER_SAM avg: 24.67, (24.67, 24.67)\n",
      "\n",
      "\tKernels' compute time (sec):\n",
      "\tTotal kernel (smem+sal+bsw) time avg: 20.91, (20.91, 20.91)\n",
      "\t\tSMEM compute avg: 8.59, (8.59, 8.59)\n",
      "\t\tSAL compute avg: 0.91, (0.91, 0.91)\n",
      "\t\t\t\tMEM_SA avg: 0.53, (0.53, 0.53)\n",
      "\n",
      "\t\tBSW time, avg: 11.19, (11.19, 11.19)\n",
      "\n",
      "Important parameter settings: \n",
      "\tBATCH_SIZE: 512\n",
      "\tMAX_SEQ_LEN_REF: 256\n",
      "\tMAX_SEQ_LEN_QER: 128\n",
      "\tMAX_SEQ_LEN8: 128\n",
      "\tSEEDS_PER_READ: 500\n",
      "\tSIMD_WIDTH8 X: 64\n",
      "\tSIMD_WIDTH16 X: 32\n",
      "\tAVG_SEEDS_PER_READ: 64\n"
     ]
    }
   ],
   "source": [
    "%%bash\n",
    "bwa-mem2 index test_files/sequence_sarscov2.fasta\n",
    "bwa-mem2 mem test_files/sequence_sarscov2.fasta test_files/SRR25109930.fastq.gz -o test_files/sars_alignment.sam\n",
    "samtools view -S -b test_files/sars_alignment.sam > test_files/sars_alignment.bam"
   ]
  },
  {
   "cell_type": "markdown",
   "id": "70d39350-c985-407d-af50-7c3a1cc98f2b",
   "metadata": {},
   "source": [
    "### RNA-seq analysis"
   ]
  },
  {
   "cell_type": "code",
   "execution_count": 10,
   "id": "679dd72f-eea0-45ec-9d95-2ccabaa701b4",
   "metadata": {
    "tags": []
   },
   "outputs": [
    {
     "name": "stdout",
     "output_type": "stream",
     "text": [
      "\n",
      "[build] loading fasta file test_files/hg38_F.fq.gz\n",
      "[build] loading fasta file test_files/hg38_R.fq.gz\n",
      "[build] k-mer length: 31\n",
      "[build] warning: clipped off poly-A tail (longer than 10)\n",
      "        from 6 target sequences\n",
      "[build] warning: replaced 294 non-ACGUT characters in the input sequence\n",
      "        with pseudorandom nucleotides\n",
      "[build] counting k-mers ... done.\n",
      "[build] building target de Bruijn graph ...  done \n",
      "[build] creating equivalence classes ...  done\n",
      "[build] target de Bruijn graph has 2469 contigs and contains 48269 k-mers \n",
      "\n"
     ]
    }
   ],
   "source": [
    "! kallisto index -i \"test_files/hg38_transcripts.fa\" \"test_files/hg38_F.fq.gz\" \"test_files/hg38_R.fq.gz\""
   ]
  },
  {
   "cell_type": "code",
   "execution_count": 11,
   "id": "e83754ff-3aba-4e83-9312-727f3b82d4ee",
   "metadata": {
    "tags": []
   },
   "outputs": [
    {
     "name": "stdout",
     "output_type": "stream",
     "text": [
      "\n",
      "[quant] fragment length distribution will be estimated from the data\n",
      "[index] k-mer length: 31\n",
      "[index] number of targets: 1,488\n",
      "[index] number of k-mers: 48,269\n",
      "[index] number of equivalence classes: 2,871\n",
      "[quant] running in paired-end mode\n",
      "[quant] will process pair 1: test_files/hg38_F.fq.gz\n",
      "                             test_files/hg38_R.fq.gz\n",
      "[quant] finding pseudoalignments for the reads ... done\n",
      "[quant] processed 744 reads, 0 reads pseudoaligned\n",
      "[~warn] no reads pseudoaligned.\n",
      "[quant] estimated average fragment length: 0\n",
      "[   em] quantifying the abundances ... done\n",
      "[   em] the Expectation-Maximization algorithm ran for 52 rounds\n",
      "[~warn] Warning, zero reads pseudoaligned check your input files and index\n",
      "\n"
     ]
    }
   ],
   "source": [
    "!kallisto quant -i \"test_files/hg38_transcripts.fa\" \"test_files/hg38_F.fq.gz\" \"test_files/hg38_R.fq.gz\" -b 100 -o \"test_files/kallisto_output\""
   ]
  },
  {
   "cell_type": "code",
   "execution_count": 12,
   "id": "5877c736-8c41-4350-90b6-b06772f99046",
   "metadata": {
    "tags": []
   },
   "outputs": [
    {
     "name": "stderr",
     "output_type": "stream",
     "text": [
      "R[write to console]: Le chargement a nécessité le package : S4Vectors\n",
      "\n",
      "R[write to console]: Le chargement a nécessité le package : stats4\n",
      "\n",
      "R[write to console]: Le chargement a nécessité le package : BiocGenerics\n",
      "\n",
      "R[write to console]: \n",
      "Attachement du package : ‘BiocGenerics’\n",
      "\n",
      "\n",
      "R[write to console]: L'objet suivant est masqué depuis ‘package:gridExtra’:\n",
      "\n",
      "    combine\n",
      "\n",
      "\n",
      "R[write to console]: L'objet suivant est masqué depuis ‘package:adegraphics’:\n",
      "\n",
      "    score\n",
      "\n",
      "\n",
      "R[write to console]: L'objet suivant est masqué depuis ‘package:ade4’:\n",
      "\n",
      "    score\n",
      "\n",
      "\n",
      "R[write to console]: Les objets suivants sont masqués depuis ‘package:stats’:\n",
      "\n",
      "    IQR, mad, sd, var, xtabs\n",
      "\n",
      "\n",
      "R[write to console]: Les objets suivants sont masqués depuis ‘package:base’:\n",
      "\n",
      "    anyDuplicated, aperm, append, as.data.frame, basename, cbind,\n",
      "    colnames, dirname, do.call, duplicated, eval, evalq, Filter, Find,\n",
      "    get, grep, grepl, intersect, is.unsorted, lapply, Map, mapply,\n",
      "    match, mget, order, paste, pmax, pmax.int, pmin, pmin.int,\n",
      "    Position, rank, rbind, Reduce, rownames, sapply, setdiff, sort,\n",
      "    table, tapply, union, unique, unsplit, which.max, which.min\n",
      "\n",
      "\n",
      "R[write to console]: \n",
      "Attachement du package : ‘S4Vectors’\n",
      "\n",
      "\n",
      "R[write to console]: Les objets suivants sont masqués depuis ‘package:base’:\n",
      "\n",
      "    expand.grid, I, unname\n",
      "\n",
      "\n",
      "R[write to console]: Le chargement a nécessité le package : IRanges\n",
      "\n",
      "R[write to console]: Le chargement a nécessité le package : GenomicRanges\n",
      "\n",
      "R[write to console]: Le chargement a nécessité le package : GenomeInfoDb\n",
      "\n",
      "R[write to console]: Le chargement a nécessité le package : SummarizedExperiment\n",
      "\n",
      "R[write to console]: Le chargement a nécessité le package : MatrixGenerics\n",
      "\n",
      "R[write to console]: Le chargement a nécessité le package : matrixStats\n",
      "\n",
      "R[write to console]: \n",
      "Attachement du package : ‘MatrixGenerics’\n",
      "\n",
      "\n",
      "R[write to console]: Les objets suivants sont masqués depuis ‘package:matrixStats’:\n",
      "\n",
      "    colAlls, colAnyNAs, colAnys, colAvgsPerRowSet, colCollapse,\n",
      "    colCounts, colCummaxs, colCummins, colCumprods, colCumsums,\n",
      "    colDiffs, colIQRDiffs, colIQRs, colLogSumExps, colMadDiffs,\n",
      "    colMads, colMaxs, colMeans2, colMedians, colMins, colOrderStats,\n",
      "    colProds, colQuantiles, colRanges, colRanks, colSdDiffs, colSds,\n",
      "    colSums2, colTabulates, colVarDiffs, colVars, colWeightedMads,\n",
      "    colWeightedMeans, colWeightedMedians, colWeightedSds,\n",
      "    colWeightedVars, rowAlls, rowAnyNAs, rowAnys, rowAvgsPerColSet,\n",
      "    rowCollapse, rowCounts, rowCummaxs, rowCummins, rowCumprods,\n",
      "    rowCumsums, rowDiffs, rowIQRDiffs, rowIQRs, rowLogSumExps,\n",
      "    rowMadDiffs, rowMads, rowMaxs, rowMeans2, rowMedians, rowMins,\n",
      "    rowOrderStats, rowProds, rowQuantiles, rowRanges, rowRanks,\n",
      "    rowSdDiffs, rowSds, rowSums2, rowTabulates, rowVarDiffs, rowVars,\n",
      "    rowWeightedMads, rowWeightedMeans, rowWeightedMedians,\n",
      "    rowWeightedSds, rowWeightedVars\n",
      "\n",
      "\n",
      "R[write to console]: Le chargement a nécessité le package : Biobase\n",
      "\n",
      "R[write to console]: Welcome to Bioconductor\n",
      "\n",
      "    Vignettes contain introductory material; view with\n",
      "    'browseVignettes()'. To cite Bioconductor, see\n",
      "    'citation(\"Biobase\")', and for packages 'citation(\"pkgname\")'.\n",
      "\n",
      "\n",
      "R[write to console]: \n",
      "Attachement du package : ‘Biobase’\n",
      "\n",
      "\n",
      "R[write to console]: L'objet suivant est masqué depuis ‘package:MatrixGenerics’:\n",
      "\n",
      "    rowMedians\n",
      "\n",
      "\n",
      "R[write to console]: Les objets suivants sont masqués depuis ‘package:matrixStats’:\n",
      "\n",
      "    anyMissing, rowMedians\n",
      "\n",
      "\n"
     ]
    }
   ],
   "source": [
    "%%R\n",
    "library(\"DESeq2\")\n",
    "library(\"tximportData\")\n",
    "library(\"tximport\")\n",
    "library(\"readr\")"
   ]
  },
  {
   "cell_type": "code",
   "execution_count": 13,
   "id": "1a82adc6-889c-4c22-a0f2-ba618d4ebde8",
   "metadata": {
    "tags": []
   },
   "outputs": [
    {
     "name": "stdout",
     "output_type": "stream",
     "text": [
      "          pop center       run condition\n",
      "ERR188297 TSI  UNIGE ERR188297   control\n",
      "ERR188088 TSI  UNIGE ERR188088   control\n",
      "ERR188329 TSI  UNIGE ERR188329   control\n",
      "ERR188288 TSI  UNIGE ERR188288   treated\n",
      "ERR188021 TSI  UNIGE ERR188021   treated\n",
      "ERR188356 TSI  UNIGE ERR188356   treated\n"
     ]
    }
   ],
   "source": [
    "%%R\n",
    "dir <- system.file(\"extdata\", package=\"tximportData\")\n",
    "samples <- read.table(file.path(dir,\"samples.txt\"), header=TRUE)\n",
    "samples$condition <- factor(rep(c(\"control\",\"treated\"),each=3))\n",
    "rownames(samples) <- samples$run\n",
    "samples[,c(\"pop\",\"center\",\"run\",\"condition\")]\n"
   ]
  },
  {
   "cell_type": "code",
   "execution_count": 14,
   "id": "75d8f365-2901-4d34-b865-b87169d78067",
   "metadata": {
    "tags": []
   },
   "outputs": [
    {
     "name": "stdout",
     "output_type": "stream",
     "text": [
      "Rows: 200401 Columns: 2\n",
      "── Column specification ────────────────────────────────────────────────────────\n",
      "Delimiter: \",\"\n",
      "chr (2): TXNAME, GENEID\n",
      "\n",
      "ℹ Use `spec()` to retrieve the full column specification for this data.\n",
      "ℹ Specify the column types or set `show_col_types = FALSE` to quiet this message.\n"
     ]
    },
    {
     "name": "stderr",
     "output_type": "stream",
     "text": [
      "R[write to console]: reading in files with read_tsv\n",
      "\n",
      "R[write to console]: 1 \n",
      "R[write to console]: 2 \n",
      "R[write to console]: 3 \n",
      "R[write to console]: 4 \n",
      "R[write to console]: 5 \n",
      "R[write to console]: 6 \n",
      "R[write to console]: \n",
      "\n",
      "R[write to console]: summarizing abundance\n",
      "\n",
      "R[write to console]: summarizing counts\n",
      "\n",
      "R[write to console]: summarizing length\n",
      "\n"
     ]
    }
   ],
   "source": [
    "%%R\n",
    "files <- file.path(dir,\"salmon\", samples$run, \"quant.sf.gz\")\n",
    "names(files) <- samples$run\n",
    "tx2gene <- read_csv(file.path(dir, \"tx2gene.gencode.v27.csv\"))\n",
    "txi <- tximport(files, type=\"salmon\", tx2gene=tx2gene)"
   ]
  },
  {
   "cell_type": "code",
   "execution_count": 15,
   "id": "56191ec5-1324-481d-adc2-4e1ed2313dbc",
   "metadata": {
    "tags": []
   },
   "outputs": [
    {
     "name": "stderr",
     "output_type": "stream",
     "text": [
      "R[write to console]: using counts and average transcript lengths from tximport\n",
      "\n"
     ]
    }
   ],
   "source": [
    "%%R\n",
    "ddsTxi <- DESeqDataSetFromTximport(txi,\n",
    "                                   colData = samples,\n",
    "                                   design = ~ condition)"
   ]
  },
  {
   "cell_type": "code",
   "execution_count": 16,
   "id": "0db3ab62-4eb5-47f5-ac33-b3e41141a889",
   "metadata": {
    "tags": []
   },
   "outputs": [
    {
     "name": "stderr",
     "output_type": "stream",
     "text": [
      "R[write to console]: estimating size factors\n",
      "\n",
      "R[write to console]: using 'avgTxLength' from assays(dds), correcting for library size\n",
      "\n",
      "R[write to console]: estimating dispersions\n",
      "\n",
      "R[write to console]: gene-wise dispersion estimates\n",
      "\n",
      "R[write to console]: mean-dispersion relationship\n",
      "\n",
      "R[write to console]: final dispersion estimates\n",
      "\n",
      "R[write to console]: fitting model and testing\n",
      "\n"
     ]
    }
   ],
   "source": [
    "%%R\n",
    "dds <- DESeq(ddsTxi)\n",
    "res <- results(dds)"
   ]
  },
  {
   "cell_type": "code",
   "execution_count": 17,
   "id": "2ed955e6-c85a-48e9-af5d-dd0d0fb5b780",
   "metadata": {
    "tags": []
   },
   "outputs": [
    {
     "name": "stderr",
     "output_type": "stream",
     "text": [
      "R[write to console]: using 'normal' for LFC shrinkage, the Normal prior from Love et al (2014).\n",
      "\n",
      "Note that type='apeglm' and type='ashr' have shown to have less bias than type='normal'.\n",
      "See ?lfcShrink for more details on shrinkage type, and the DESeq2 vignette.\n",
      "Reference: https://doi.org/10.1093/bioinformatics/bty895\n",
      "\n"
     ]
    }
   ],
   "source": [
    "%%R\n",
    "res\n",
    "resNorm <- lfcShrink(dds, coef=2, type=\"normal\")"
   ]
  },
  {
   "cell_type": "code",
   "execution_count": 23,
   "id": "9f4ec128-a72b-44b4-8578-e851ec9e2ee2",
   "metadata": {
    "tags": []
   },
   "outputs": [
    {
     "data": {
      "image/png": "[encoded data removed]",
      "text/plain": [
       "<IPython.core.display.Image object>"
      ]
     },
     "metadata": {},
     "output_type": "display_data"
    }
   ],
   "source": [
    "%%R\n",
    "xlim <- c(1,1e5); ylim <- c(-3,3)\n",
    "plotMA(res, xlim=xlim, ylim=ylim, main=\"normal\")"
   ]
  },
  {
   "cell_type": "code",
   "execution_count": 19,
   "id": "9ab4f85d-21e0-4dc9-b5ee-ea69e503112d",
   "metadata": {
    "tags": []
   },
   "outputs": [],
   "source": [
    "%%R\n",
    "vsd <- vst(dds, blind=FALSE)\n",
    "sampleDists <- dist(t(assay(vsd)))"
   ]
  },
  {
   "cell_type": "code",
   "execution_count": 20,
   "id": "1558bf55-7402-45b2-9ab1-880f1f57e049",
   "metadata": {
    "tags": []
   },
   "outputs": [],
   "source": [
    "%%R\n",
    "sampleDists <- dist(t(assay(vsd)))"
   ]
  },
  {
   "cell_type": "code",
   "execution_count": 21,
   "id": "96d5665e-121f-4af8-b55d-618cccc52e5e",
   "metadata": {
    "tags": []
   },
   "outputs": [
    {
     "data": {
      "image/png": "[encoded data removed]",
      "text/plain": [
       "<IPython.core.display.Image object>"
      ]
     },
     "metadata": {},
     "output_type": "display_data"
    }
   ],
   "source": [
    "%%R\n",
    "library(pheatmap)\n",
    "library(\"RColorBrewer\")\n",
    "library(\"pheatmap\")\n",
    "sampleDistMatrix <- as.matrix(sampleDists)\n",
    "rownames(sampleDistMatrix) <- paste(vsd$condition, vsd$sample, sep=\"-\")\n",
    "colnames(sampleDistMatrix) <- NULL\n",
    "colors <- colorRampPalette( rev(brewer.pal(9, \"Blues\")) )(255)\n",
    "pheatmap(sampleDistMatrix,\n",
    "         clustering_distance_rows=sampleDists,\n",
    "         clustering_distance_cols=sampleDists,\n",
    "         col=colors)\n"
   ]
  },
  {
   "cell_type": "code",
   "execution_count": 22,
   "id": "526f73ee-b43b-4f65-9814-c456286d7f06",
   "metadata": {
    "tags": []
   },
   "outputs": [
    {
     "data": {
      "image/png": "[encoded data removed]",
      "text/plain": [
       "<IPython.core.display.Image object>"
      ]
     },
     "metadata": {},
     "output_type": "display_data"
    }
   ],
   "source": [
    "%%R\n",
    "plotPCA(vsd, intgroup=c(\"condition\"))"
   ]
  },
  {
   "cell_type": "code",
   "execution_count": null,
   "id": "196a20c5-354c-40a0-9ce8-479ffde2c3f5",
   "metadata": {},
   "outputs": [],
   "source": []
  }
 ],
 "metadata": {
  "kernelspec": {
   "display_name": "Python [conda env:jupyter] *",
   "language": "python",
   "name": "conda-env-jupyter-py"
  },
  "language_info": {
   "codemirror_mode": {
    "name": "ipython",
    "version": 3
   },
   "file_extension": ".py",
   "mimetype": "text/x-python",
   "name": "python",
   "nbconvert_exporter": "python",
   "pygments_lexer": "ipython3",
   "version": "3.11.3"
  },
  "toc-autonumbering": true
 },
 "nbformat": 4,
 "nbformat_minor": 5
}
