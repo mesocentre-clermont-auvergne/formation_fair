{
 "cells": [
  {
   "cell_type": "markdown",
   "id": "e81ae3f0-7800-4976-8c8f-45f67f2a904a",
   "metadata": {},
   "source": [
    "## Part 3 Files and Notebooks\n",
    "\n",
    "\n",
    "More on the suported file formats : \n",
    "https://jupyterlab.readthedocs.io/en/stable/user/file_formats.html\n",
    "\n",
    "### Simple types\n",
    "\n",
    "JupyterLab can act as a file browser and directly display some files.\n",
    "\n",
    "Example files\n",
    "* Image [**`03-1_Example_Image.svg`**](03-1_Example_Image.svg)\n",
    "\n",
    "* Text [**`03-1_Example_Text.txt`**](03-1_Example_Text.txt)\n",
    "\n",
    "* PDF [**`03-2_Example_PDF_Rapport_GT_ELN_v3.2-2022-01-04(FINAL).pdf`**](03-2_Example_PDF_Rapport_GT_ELN_v3.2-2022-01-04(FINAL).pdf)\n",
    "\n",
    "NB: the full PDF report can be found on [HAL](https://hal-lara.archives-ouvertes.fr/hal-03563244).\n",
    "\n",
    "\n",
    "#### Markdown\n",
    "\n",
    "To visualize a Markdown (.md) file in a separate tab, right click on a file in the browser (to your left), and select \"Open with > Markdown Preview\". Note that the two tabs are linked.\n",
    "\n",
    "This is not necessary if the Markdown-formated text is included in a Notebook.\n",
    "\n",
    "Example files\n",
    "* [**`03-2_Example_Markdown.md`**](03-2_Example_Markdown.md)\n",
    "* [**`03-2_Example_Markdown.ipynb`**](03-2_Example_Markdown.ipynb)\n",
    "\n",
    "Access a Markdown Cheat Sheet in the Help menu. More help is also available in the Jupyter [documentation](https://jupyter-notebook.readthedocs.io/en/stable/examples/Notebook/Working%20With%20Markdown%20Cells.html).\n",
    "\n",
    "### Notebooks\n",
    "\n",
    "[Notebooks](https://jupyterlab.readthedocs.io/en/stable/user/notebook.html) are documents combining live runnable code with narrative text (i.e. text, images,...).\n",
    "\n",
    "Notebook consists of a cells list, each cell has a type:\n",
    "* Code: Executable code\n",
    "* Markdown: Markdown formatted text\n",
    "* Raw: Plain text\n",
    "\n",
    "A cell has an input and an output area. This is the input area that you can edit with the proper syntax depending on the type.\n",
    "\n",
    "Hitting the Play button (or pressing Shift+Enter) will execute the cell content.\n",
    "\n",
    "When executing a \"Code\" cell, its code is sent to a execution kernel. Its name and its status are displayed here and in the status bar. The running kernel is listed on this tab's header. It can be used to chenge the current kernel.\n",
    "\n",
    "Notebooks are written using the [JSON format](https://en.wikipedia.org/wiki/JSON), a set of key/value couples separated by commas, inside curly brackets. Right click on one .ipynb file and open it with Editor.\n",
    "\n",
    "The Property Editor (wheels in the upper right corner) allows to visualize the Metadata of a file/cell, and add Tags.\n",
    "\n",
    "\n",
    "Notes : \n",
    "* A contextual menu is accessible by clicking (right button) anywhere in the Notebook.\n",
    "* Cells can be rearranged using drag-and-drop. They can also be moved from one Notebook to another.\n",
    "* If you open a file created with a Kernel that is not installed in your instance of JupyterLab, JupyterLab will ask you which Kernel you want to use. If no alternative is suitable, you can also say \"No Kernel\", but you will not be able to execute Code cells.\n",
    "* How many Jupyter Notebooks on GitHub? https://github.com/parente/nbestimate\n",
    "* Notebooks are displayed in GitHub/[GitLab](https://gitlab.com/ifb-elixirfr/cluster/tutoriel_slurm/-/blob/master/tutoriel.ipynb) repositories.\n",
    "\n",
    "#### Example Notebooks\n",
    "\n",
    "**Python**\n",
    "\n",
    "* [**`03-2_Example_JupyterNB_Intro.ipynb`**](03-2_Example_JupyterNB_Intro.ipynb)\n",
    "\n",
    "**R**\n",
    "\n",
    "* [**`03-2_Example_R_kernel.ipynb`**](03-2_Example_R_kernel.ipynb)\n",
    "\n",
    "**Other**\n",
    "\n",
    "A few other types can be tested on the [JupyterLab test server](https://jupyter.org/try-jupyter/lab/), including a Notebook using Numpy and another one using SQLite.\n",
    "\n",
    "**Slides**\n",
    "\n",
    "By clicking on the wheel symbols on the upper right, you access another menu with informations on the metadata. But you can also convert a cell into a slide or a sub-slide. You will then need to convert the notebook (nbconvert, CLI) to create a slideshow.\n",
    "\n",
    "#### Consoles\n",
    "\n",
    "\"Code consoles enable you to run code interactively in a kernel. The cells of a code console show the order in which code was executed in the kernel, as opposed to the explicit ordering of cells in a notebook document. Code consoles also display rich output, just like notebook cells.\" [More](https://jupyterlab.readthedocs.io/en/stable/user/code_console.html)\n",
    "\n",
    "Right click inside any Notebook and select New console for Notebook to visualize executed code (and order) in a separated tab.\n",
    "\n",
    "#### Magic \n",
    "\n",
    "\"Magic commands are special commands that can help you with running and analyzing data in your notebook. They add a special functionality that is not straight forward to achieve with python code or jupyter notebook interface.\n",
    "\n",
    "Magic commands are easy to spot within the code. They are either proceeded by % if they are on one line of code or by %% if they are written on several lines\"\n",
    "\n",
    "More on that [here](https://www.aboutdatablog.com/post/top-8-magic-commands-in-jupyter-notebook) or in the [documentation](https://ipython.readthedocs.io/en/stable/interactive/magics.html#cell-magics)."
   ]
  },
  {
   "cell_type": "code",
   "execution_count": 1,
   "id": "6546ef13-72b5-4b74-b394-b7772c445ec4",
   "metadata": {},
   "outputs": [
    {
     "name": "stdout",
     "output_type": "stream",
     "text": [
      "/home/jovyan/work/demo\n"
     ]
    }
   ],
   "source": [
    "%%bash \n",
    "# To execute bash commands\n",
    "pwd"
   ]
  },
  {
   "cell_type": "code",
   "execution_count": 2,
   "id": "e18ef90a-7362-471a-97c0-8b1e460e0092",
   "metadata": {},
   "outputs": [
    {
     "data": {
      "application/json": {
       "cell": {
        "!": "OSMagics",
        "HTML": "Other",
        "SVG": "Other",
        "bash": "Other",
        "capture": "ExecutionMagics",
        "debug": "ExecutionMagics",
        "file": "Other",
        "html": "DisplayMagics",
        "javascript": "DisplayMagics",
        "js": "DisplayMagics",
        "latex": "DisplayMagics",
        "markdown": "DisplayMagics",
        "perl": "Other",
        "prun": "ExecutionMagics",
        "pypy": "Other",
        "python": "Other",
        "python2": "Other",
        "python3": "Other",
        "ruby": "Other",
        "script": "ScriptMagics",
        "sh": "Other",
        "svg": "DisplayMagics",
        "sx": "OSMagics",
        "system": "OSMagics",
        "time": "ExecutionMagics",
        "timeit": "ExecutionMagics",
        "writefile": "OSMagics"
       },
       "line": {
        "alias": "OSMagics",
        "alias_magic": "BasicMagics",
        "autoawait": "AsyncMagics",
        "autocall": "AutoMagics",
        "automagic": "AutoMagics",
        "autosave": "KernelMagics",
        "bookmark": "OSMagics",
        "cat": "Other",
        "cd": "OSMagics",
        "clear": "KernelMagics",
        "colors": "BasicMagics",
        "conda": "PackagingMagics",
        "config": "ConfigMagics",
        "connect_info": "KernelMagics",
        "cp": "Other",
        "debug": "ExecutionMagics",
        "dhist": "OSMagics",
        "dirs": "OSMagics",
        "doctest_mode": "BasicMagics",
        "ed": "Other",
        "edit": "KernelMagics",
        "env": "OSMagics",
        "gui": "BasicMagics",
        "hist": "Other",
        "history": "HistoryMagics",
        "killbgscripts": "ScriptMagics",
        "ldir": "Other",
        "less": "KernelMagics",
        "lf": "Other",
        "lk": "Other",
        "ll": "Other",
        "load": "CodeMagics",
        "load_ext": "ExtensionMagics",
        "loadpy": "CodeMagics",
        "logoff": "LoggingMagics",
        "logon": "LoggingMagics",
        "logstart": "LoggingMagics",
        "logstate": "LoggingMagics",
        "logstop": "LoggingMagics",
        "ls": "Other",
        "lsmagic": "BasicMagics",
        "lx": "Other",
        "macro": "ExecutionMagics",
        "magic": "BasicMagics",
        "man": "KernelMagics",
        "matplotlib": "PylabMagics",
        "mkdir": "Other",
        "more": "KernelMagics",
        "mv": "Other",
        "notebook": "BasicMagics",
        "page": "BasicMagics",
        "pastebin": "CodeMagics",
        "pdb": "ExecutionMagics",
        "pdef": "NamespaceMagics",
        "pdoc": "NamespaceMagics",
        "pfile": "NamespaceMagics",
        "pinfo": "NamespaceMagics",
        "pinfo2": "NamespaceMagics",
        "pip": "PackagingMagics",
        "popd": "OSMagics",
        "pprint": "BasicMagics",
        "precision": "BasicMagics",
        "prun": "ExecutionMagics",
        "psearch": "NamespaceMagics",
        "psource": "NamespaceMagics",
        "pushd": "OSMagics",
        "pwd": "OSMagics",
        "pycat": "OSMagics",
        "pylab": "PylabMagics",
        "qtconsole": "KernelMagics",
        "quickref": "BasicMagics",
        "recall": "HistoryMagics",
        "rehashx": "OSMagics",
        "reload_ext": "ExtensionMagics",
        "rep": "Other",
        "rerun": "HistoryMagics",
        "reset": "NamespaceMagics",
        "reset_selective": "NamespaceMagics",
        "rm": "Other",
        "rmdir": "Other",
        "run": "ExecutionMagics",
        "save": "CodeMagics",
        "sc": "OSMagics",
        "set_env": "OSMagics",
        "store": "StoreMagics",
        "sx": "OSMagics",
        "system": "OSMagics",
        "tb": "ExecutionMagics",
        "time": "ExecutionMagics",
        "timeit": "ExecutionMagics",
        "unalias": "OSMagics",
        "unload_ext": "ExtensionMagics",
        "who": "NamespaceMagics",
        "who_ls": "NamespaceMagics",
        "whos": "NamespaceMagics",
        "xdel": "NamespaceMagics",
        "xmode": "BasicMagics"
       }
      },
      "text/plain": [
       "Available line magics:\n",
       "%alias  %alias_magic  %autoawait  %autocall  %automagic  %autosave  %bookmark  %cat  %cd  %clear  %colors  %conda  %config  %connect_info  %cp  %debug  %dhist  %dirs  %doctest_mode  %ed  %edit  %env  %gui  %hist  %history  %killbgscripts  %ldir  %less  %lf  %lk  %ll  %load  %load_ext  %loadpy  %logoff  %logon  %logstart  %logstate  %logstop  %ls  %lsmagic  %lx  %macro  %magic  %man  %matplotlib  %mkdir  %more  %mv  %notebook  %page  %pastebin  %pdb  %pdef  %pdoc  %pfile  %pinfo  %pinfo2  %pip  %popd  %pprint  %precision  %prun  %psearch  %psource  %pushd  %pwd  %pycat  %pylab  %qtconsole  %quickref  %recall  %rehashx  %reload_ext  %rep  %rerun  %reset  %reset_selective  %rm  %rmdir  %run  %save  %sc  %set_env  %store  %sx  %system  %tb  %time  %timeit  %unalias  %unload_ext  %who  %who_ls  %whos  %xdel  %xmode\n",
       "\n",
       "Available cell magics:\n",
       "%%!  %%HTML  %%SVG  %%bash  %%capture  %%debug  %%file  %%html  %%javascript  %%js  %%latex  %%markdown  %%perl  %%prun  %%pypy  %%python  %%python2  %%python3  %%ruby  %%script  %%sh  %%svg  %%sx  %%system  %%time  %%timeit  %%writefile\n",
       "\n",
       "Automagic is ON, % prefix IS NOT needed for line magics."
      ]
     },
     "execution_count": 2,
     "metadata": {},
     "output_type": "execute_result"
    }
   ],
   "source": [
    "%lsmagic\n",
    "# List all magic commands"
   ]
  },
  {
   "cell_type": "code",
   "execution_count": 3,
   "id": "776a3bfa-5ca4-415a-9435-c21355e39cd8",
   "metadata": {},
   "outputs": [
    {
     "data": {
      "text/plain": [
       "{'SHELL': '/bin/bash',\n",
       " 'HOSTNAME': '358d1fd509a2',\n",
       " 'LANGUAGE': 'en_US.UTF-8',\n",
       " 'NB_UID': '1000',\n",
       " 'PWD': '/home/jovyan/work',\n",
       " 'HOME': '/home/jovyan',\n",
       " 'LANG': 'en_US.UTF-8',\n",
       " 'NB_GID': '100',\n",
       " 'SHLVL': '0',\n",
       " 'CONDA_DIR': '/opt/conda',\n",
       " 'NB_USER': 'jovyan',\n",
       " 'LC_ALL': 'en_US.UTF-8',\n",
       " 'PATH': '/opt/conda/bin:/usr/local/sbin:/usr/local/bin:/usr/sbin:/usr/bin:/sbin:/bin',\n",
       " 'DEBIAN_FRONTEND': 'noninteractive',\n",
       " 'PYDEVD_USE_FRAME_EVAL': 'NO',\n",
       " 'JPY_PARENT_PID': '6',\n",
       " 'TERM': 'xterm-color',\n",
       " 'CLICOLOR': '1',\n",
       " 'PAGER': 'cat',\n",
       " 'GIT_PAGER': 'cat',\n",
       " 'MPLBACKEND': 'module://matplotlib_inline.backend_inline'}"
      ]
     },
     "execution_count": 3,
     "metadata": {},
     "output_type": "execute_result"
    }
   ],
   "source": [
    "%env\n",
    "# To list env variables, or to add one"
   ]
  },
  {
   "cell_type": "code",
   "execution_count": 4,
   "id": "57deddb2-5d8a-4d0a-a896-123f26abe7ef",
   "metadata": {},
   "outputs": [
    {
     "name": "stdout",
     "output_type": "stream",
     "text": [
      "CPU times: user 1.27 ms, sys: 54 µs, total: 1.33 ms\n",
      "Wall time: 1.36 ms\n"
     ]
    }
   ],
   "source": [
    "%%time\n",
    "# To evaluate the time of a code execution\n",
    "import random\n",
    "for i in range(0, 10000):\n",
    "    random.random()"
   ]
  },
  {
   "cell_type": "code",
   "execution_count": 5,
   "id": "578dffd5-061d-4542-b197-97ef2e7f07c7",
   "metadata": {},
   "outputs": [],
   "source": [
    "var_1 = 1\n",
    "var_2 = 'hello'\n",
    "var_3 = 100"
   ]
  },
  {
   "cell_type": "code",
   "execution_count": 6,
   "id": "92cbc965-848a-4895-9847-f923024bc73a",
   "metadata": {},
   "outputs": [
    {
     "name": "stdout",
     "output_type": "stream",
     "text": [
      "i\t var_1\t var_3\t \n"
     ]
    }
   ],
   "source": [
    "%who int\n",
    "# Which int variables"
   ]
  },
  {
   "cell_type": "code",
   "execution_count": 7,
   "id": "5af8cf85-677b-448b-ae82-90e6654ef383",
   "metadata": {},
   "outputs": [
    {
     "data": {
      "text/plain": [
       "\u001b[0;31mType:\u001b[0m        int\n",
       "\u001b[0;31mString form:\u001b[0m 1\n",
       "\u001b[0;31mDocstring:\u001b[0m  \n",
       "int([x]) -> integer\n",
       "int(x, base=10) -> integer\n",
       "\n",
       "Convert a number or string to an integer, or return 0 if no arguments\n",
       "are given.  If x is a number, return x.__int__().  For floating point\n",
       "numbers, this truncates towards zero.\n",
       "\n",
       "If x is not a number or if base is given, then x must be a string,\n",
       "bytes, or bytearray instance representing an integer literal in the\n",
       "given base.  The literal can be preceded by '+' or '-' and be surrounded\n",
       "by whitespace.  The base defaults to 10.  Valid bases are 0 and 2-36.\n",
       "Base 0 means to interpret the base from the string as an integer literal.\n",
       ">>> int('0b100', base=0)\n",
       "4\n"
      ]
     },
     "metadata": {},
     "output_type": "display_data"
    }
   ],
   "source": [
    "%pinfo var_1\n",
    "# Information on one variable"
   ]
  },
  {
   "cell_type": "code",
   "execution_count": null,
   "id": "738246c8-b66d-45f6-9df7-ea036c30a616",
   "metadata": {},
   "outputs": [],
   "source": [
    "# Load an external file\n",
    "%load test.py\n",
    "# (here causes an error because the file is absent)"
   ]
  }
 ],
 "metadata": {
  "kernelspec": {
   "display_name": "Python 3 (ipykernel)",
   "language": "python",
   "name": "python3"
  },
  "language_info": {
   "codemirror_mode": {
    "name": "ipython",
    "version": 3
   },
   "file_extension": ".py",
   "mimetype": "text/x-python",
   "name": "python",
   "nbconvert_exporter": "python",
   "pygments_lexer": "ipython3",
   "version": "3.10.4"
  }
 },
 "nbformat": 4,
 "nbformat_minor": 5
}
