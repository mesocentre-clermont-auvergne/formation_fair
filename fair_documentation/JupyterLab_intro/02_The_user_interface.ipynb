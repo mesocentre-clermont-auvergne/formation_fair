{
 "cells": [
  {
   "cell_type": "markdown",
   "id": "7d77d264-7fac-4f93-b190-206cb1008f85",
   "metadata": {
    "tags": []
   },
   "source": [
    "# Discover the user interface"
   ]
  },
  {
   "cell_type": "markdown",
   "id": "9fc5a312-878b-421e-8bf2-c6f6a154b911",
   "metadata": {},
   "source": [
    "## User Interface\n",
    "\n",
    "Explore the different elements of the interface:\n",
    "* *Menu bar*\n",
    "* *Main working area*\n",
    "  \"The main area enables you to arrange documents and activities into panels of tabs that can be resized or subdivided. Drag a tab to the center of a tab panel to move the tab to the panel.\n",
    "  Subdivide a tab panel by dragging a tab to the left, right, top, or bottom of the panel.\n",
    "  The tab for the current activity is marked with a colored top border.\"\n",
    "* *Status bar*\n",
    "  \"Various information are reported on the status bar.\"\n",
    "* *Left Side bar*\n",
    "  \"This sidebar contains a number of tabs: a file browser, a list of tabs, running kernels and terminals... \n",
    "  Tip: The sidebar can be collapsed or expanded by selecting \"Show Left Sidebar\" in the View menu or by clicking on the active sidebar tab.\"\n",
    "  * *File Browser*\n",
    "    \"The file browser enable you to work with files and directories on your system. This includes opening, creating, deleting, renaming, downloading, copying, and sharing files and directories.\"\n",
    "  * *Running Terminals and Kernels*\n",
    "  * *Table of Content*\n",
    "  * *Extension manager*\n",
    "* *Command palette* (see below).\n",
    "\n",
    "NB: text from the Welcome tour."
   ]
  },
  {
   "cell_type": "markdown",
   "id": "b5d82556-4024-4b0d-ae50-22f7c4d84bd4",
   "metadata": {},
   "source": [
    "## The Launcher\n",
    "\n",
    "When you start JupyterLab without any opened file, you will arrive on the default tab, the Launcher.\n",
    "\n",
    "If you want it displayed at any time, click on the **+** sign in the upper left hand side corner.\n",
    "\n",
    "### Documents and Kernels\n",
    "\n",
    "The Launcher shows a selection of documents (raw text, Markdown), and available kernels (Python3). \n",
    "\n",
    "\"In the Jupyter architecture, kernels are separate processes started by the server that run your code in different programming languages and environments.\" [JupyterLab documentation](https://jupyterlab.readthedocs.io/en/stable/user/documents_kernels.html).\n",
    "\n",
    "### Terminals\n",
    "\n",
    "If you want a real bash Terminal, click on the + in the top left corner of the interface to access theLauncher. Then create a new Terminal tab. You can drag and drop it to the bottom (or other part) of the editor panel to have it displayed in parallel of a notebook.\n",
    "\n",
    "Bash commands can also be included in Code cells using \"magic\" (start a cell with %%bash)."
   ]
  },
  {
   "cell_type": "code",
   "execution_count": null,
   "id": "88a3297f-ff6e-4e65-9696-4fa1eef3f40f",
   "metadata": {},
   "outputs": [],
   "source": [
    "%%bash\n",
    "pwd\n",
    "ls"
   ]
  },
  {
   "cell_type": "markdown",
   "id": "4b99cb42-13a4-4fc4-8a31-b34dc5eee5c3",
   "metadata": {},
   "source": [
    "## Command palette\n",
    "\n",
    "\"All user actions in JupyterLab are processed through a centralized command system, called command palette. It provides a keyboard-driven way to search for and run JupyterLab commands.\"\n",
    "\n",
    "All internal commands can be accessed through a unique menu accessible with **Command/Ctrl Shift C**.\n"
   ]
  }
 ],
 "metadata": {
  "kernelspec": {
   "display_name": "Python 3 (ipykernel)",
   "language": "python",
   "name": "python3"
  },
  "language_info": {
   "codemirror_mode": {
    "name": "ipython",
    "version": 3
   },
   "file_extension": ".py",
   "mimetype": "text/x-python",
   "name": "python",
   "nbconvert_exporter": "python",
   "pygments_lexer": "ipython3",
   "version": "3.10.4"
  }
 },
 "nbformat": 4,
 "nbformat_minor": 5
}
