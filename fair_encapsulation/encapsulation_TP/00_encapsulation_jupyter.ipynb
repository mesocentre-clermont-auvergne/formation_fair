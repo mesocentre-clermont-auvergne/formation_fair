{
 "cells": [
  {
   "cell_type": "markdown",
   "id": "24b5badf-2cd5-4fb6-988f-06a834cd473c",
   "metadata": {},
   "source": [
    "# <div align=\"center\"> FAIR 2022 - JupyterLab - practice </div>"
   ]
  },
  {
   "cell_type": "markdown",
   "id": "c2050b64-bd2b-4aa5-892e-53cf0612bc68",
   "metadata": {
    "tags": []
   },
   "source": [
    "# Interface discovery"
   ]
  },
  {
   "cell_type": "markdown",
   "id": "abcd54bb-c42c-43fa-bda6-3eb80227a21b",
   "metadata": {
    "tags": []
   },
   "source": [
    "## Connexion to jupyter-lab \n",
    "\n",
    "1. Go to this adress: https://hub.mesocentre.uca.fr/hpc-jupyter/hub/login\n",
    "\n",
    "    <img src=\"images/jupyter_welcome.png\" alt=\"drawing\" width=\"1000\"/>\n",
    "2. Ask a jupyter session\n",
    "\n",
    "     <img src=\"images/start_server.png\" alt=\"drawing\" width=\"1000\"/>\n",
    "3. Submit on the job queue the session\n",
    "\n",
    "     <img src=\"images/job_choice.png\" alt=\"drawing\" width=\"1000\"/>\n",
    "4. Discover your interface    \n",
    "\n",
    "     <img src=\"images/jupyter_page.png\" alt=\"drawing\" width=\"1000\"/>\n",
    "\n"
   ]
  },
  {
   "cell_type": "markdown",
   "id": "553e88f9-e973-4d15-956f-1bd45dd8fd04",
   "metadata": {
    "tags": []
   },
   "source": [
    "## Discover toolbox\n",
    "\n",
    "    1. From the github repository of the FAIR practice, import the jupyter session part\n",
    "        - from the web interface\n",
    "        - from the cluster terminal\n",
    "    2. Launch the jupyter.ipynb\n",
    "    3. Launch a console interface\n",
    "    4. Launch a terminal interface"
   ]
  },
  {
   "cell_type": "markdown",
   "id": "019365eb-bdd9-45fb-b079-09f7e16e0915",
   "metadata": {},
   "source": [
    "### Magic command a special case\n",
    "\n",
    "Jupyter notebook have special commands : `magic commands` and `magic cells` \\\n",
    "The magic command allow you to interact with your environnement to analyse the data\n",
    "To call it, use the `%` symbol before in a `code cell` \\\n",
    "The list of available magic command is available typing : `%lsmagic`\n",
    "This command is available only on the line where it is write\n",
    "\n",
    "The magic cell are cell with specific behaviour due to the magic cell command in the header of the cell\n",
    "It is use for example to use command from another language (ruby, bash, R...)\n",
    "\n",
    "1. List the magic commands\n",
    "2. List folder content using magic command\n",
    "3. Make a cell with bash code to list conda package in your environment\n"
   ]
  },
  {
   "cell_type": "markdown",
   "id": "f41add45-9dc7-4dcb-8a24-2d9e6eda0377",
   "metadata": {},
   "source": [
    "<details>\n",
    "  <summary>Magic command solution</summary>\n",
    "    \n",
    "1. ```%lsmagic```\n",
    "2. ```%ls```    \n",
    "3. \n",
    "    \n",
    "```\n",
    "%%sh \n",
    "conda list env\n",
    "```\n",
    "</details>\n",
    "    "
   ]
  },
  {
   "cell_type": "markdown",
   "id": "41183b80-8f64-4eb6-9fd8-2b3d468b2643",
   "metadata": {},
   "source": [
    "# Make your own Kernel to work\n",
    "```\n",
    "Follow the guide from the mesocentre to install your kernel: https://hub.mesocentre.uca.fr/docs/cluster/applis/jupyterhub/\n",
    "```\n",
    "1. Install a Python Kernel with python 3.10\n",
    "2. Install a R kernel with r-base 4.2"
   ]
  },
  {
   "cell_type": "markdown",
   "id": "59540861-3505-4139-9aa7-9d732e16aebb",
   "metadata": {},
   "source": [
    "# Work with both python and R in the same notebook\n",
    "```\n",
    "Jupyter also to work both with python and R in the same notebook\n",
    "The simple way is to create a conda env with python and R, then install a specific library: rpy2\n",
    "```\n",
    "1. In the previous R 4.2 kernel install rpy2 from conda\n",
    "    - use the terminal interface from jupyter\n",
    "    - activate the conda env containing your R version\n",
    "    - install rpy2 from conda\n",
    "3. Create a new notebook file with the kernel containg R and python\n",
    "4. Call the rpy2 package\n",
    "`%load_ext rpy2.ipython`\n",
    "\n",
    "5. Make a notebook with python and R cells \\\n",
    "`Now to call a R code into a cell use : magic variables %%R`\n"
   ]
  },
  {
   "cell_type": "markdown",
   "id": "da5b75d5-2b99-4676-b6b5-d8c5b5960f63",
   "metadata": {},
   "source": [
    "### Import python libraries"
   ]
  },
  {
   "cell_type": "code",
   "execution_count": 1,
   "id": "714b693a-ade5-4edc-9a52-3480dd1b3b47",
   "metadata": {},
   "outputs": [],
   "source": [
    "%load_ext rpy2.ipython\n",
    "import os\n",
    "import pandas as pd\n",
    "import numpy as np\n",
    "import import_ipynb"
   ]
  },
  {
   "cell_type": "markdown",
   "id": "2f14ebd1-8922-4e7b-bf30-0a0f6f9eb0a7",
   "metadata": {},
   "source": [
    "### Import R libraries"
   ]
  },
  {
   "cell_type": "code",
   "execution_count": 2,
   "id": "7255bcf1-dd89-4d4d-83cb-07c1b5743d55",
   "metadata": {},
   "outputs": [
    {
     "name": "stderr",
     "output_type": "stream",
     "text": [
      "R[write to console]: Le chargement a nécessité le package : ggplot2\n",
      "\n",
      "R[write to console]: Le chargement a nécessité le package : knitr\n",
      "\n",
      "R[write to console]: Le chargement a nécessité le package : ade4\n",
      "\n",
      "R[write to console]: Le chargement a nécessité le package : kableExtra\n",
      "\n",
      "R[write to console]: Le chargement a nécessité le package : adegraphics\n",
      "\n",
      "R[write to console]: Registered S3 methods overwritten by 'adegraphics':\n",
      "  method         from\n",
      "  biplot.dudi    ade4\n",
      "  kplot.foucart  ade4\n",
      "  kplot.mcoa     ade4\n",
      "  kplot.mfa      ade4\n",
      "  kplot.pta      ade4\n",
      "  kplot.sepan    ade4\n",
      "  kplot.statis   ade4\n",
      "  scatter.coa    ade4\n",
      "  scatter.dudi   ade4\n",
      "  scatter.nipals ade4\n",
      "  scatter.pco    ade4\n",
      "  score.acm      ade4\n",
      "  score.mix      ade4\n",
      "  score.pca      ade4\n",
      "  screeplot.dudi ade4\n",
      "\n",
      "R[write to console]: \n",
      "Attachement du package : ‘adegraphics’\n",
      "\n",
      "\n",
      "R[write to console]: Les objets suivants sont masqués depuis ‘package:ade4’:\n",
      "\n",
      "    kplotsepan.coa, s.arrow, s.class, s.corcircle, s.distri, s.image,\n",
      "    s.label, s.logo, s.match, s.traject, s.value, table.value,\n",
      "    triangle.class\n",
      "\n",
      "\n",
      "R[write to console]: Le chargement a nécessité le package : gridExtra\n",
      "\n"
     ]
    }
   ],
   "source": [
    "%%R\n",
    "# load\n",
    "require(ggplot2)\n",
    "require(knitr)\n",
    "require(ade4)\n",
    "require(kableExtra)\n",
    "require(adegraphics)\n",
    "require(gridExtra)"
   ]
  },
  {
   "cell_type": "markdown",
   "id": "033c4b7d-f5a9-4c0b-9ff3-a4965e7875be",
   "metadata": {},
   "source": [
    "### Import a dataframe with python"
   ]
  },
  {
   "cell_type": "code",
   "execution_count": 3,
   "id": "1c5a2c7d-a987-43a2-b95f-a5b8c1fd353e",
   "metadata": {},
   "outputs": [
    {
     "data": {
      "text/html": [
       "<div>\n",
       "<style scoped>\n",
       "    .dataframe tbody tr th:only-of-type {\n",
       "        vertical-align: middle;\n",
       "    }\n",
       "\n",
       "    .dataframe tbody tr th {\n",
       "        vertical-align: top;\n",
       "    }\n",
       "\n",
       "    .dataframe thead th {\n",
       "        text-align: right;\n",
       "    }\n",
       "</style>\n",
       "<table border=\"1\" class=\"dataframe\">\n",
       "  <thead>\n",
       "    <tr style=\"text-align: right;\">\n",
       "      <th></th>\n",
       "      <th>0</th>\n",
       "      <th>1</th>\n",
       "      <th>2</th>\n",
       "      <th>3</th>\n",
       "      <th>4</th>\n",
       "      <th>5</th>\n",
       "      <th>6</th>\n",
       "      <th>7</th>\n",
       "      <th>8</th>\n",
       "      <th>9</th>\n",
       "    </tr>\n",
       "  </thead>\n",
       "  <tbody>\n",
       "    <tr>\n",
       "      <th>cups_of_coffee</th>\n",
       "      <td>0</td>\n",
       "      <td>1</td>\n",
       "      <td>2</td>\n",
       "      <td>3</td>\n",
       "      <td>4</td>\n",
       "      <td>5</td>\n",
       "      <td>6</td>\n",
       "      <td>7</td>\n",
       "      <td>8</td>\n",
       "      <td>9</td>\n",
       "    </tr>\n",
       "    <tr>\n",
       "      <th>productivity</th>\n",
       "      <td>2</td>\n",
       "      <td>5</td>\n",
       "      <td>6</td>\n",
       "      <td>8</td>\n",
       "      <td>9</td>\n",
       "      <td>8</td>\n",
       "      <td>0</td>\n",
       "      <td>1</td>\n",
       "      <td>0</td>\n",
       "      <td>-1</td>\n",
       "    </tr>\n",
       "  </tbody>\n",
       "</table>\n",
       "</div>"
      ],
      "text/plain": [
       "                0  1  2  3  4  5  6  7  8  9\n",
       "cups_of_coffee  0  1  2  3  4  5  6  7  8  9\n",
       "productivity    2  5  6  8  9  8  0  1  0 -1"
      ]
     },
     "execution_count": 3,
     "metadata": {},
     "output_type": "execute_result"
    }
   ],
   "source": [
    "df = pd.DataFrame({\n",
    "    'cups_of_coffee': [0, 1, 2, 3, 4, 5, 6, 7, 8, 9],\n",
    "    'productivity': [2, 5, 6, 8, 9, 8, 0, 1, 0, -1]\n",
    "})\n",
    "df.transpose()"
   ]
  },
  {
   "cell_type": "markdown",
   "id": "5a51eb3c-660f-4da1-b016-1c797e95a928",
   "metadata": {},
   "source": [
    "### Plot the data with ggplot2"
   ]
  },
  {
   "cell_type": "code",
   "execution_count": 4,
   "id": "cbc11f4f-c8e1-49df-9bef-2d897bb666aa",
   "metadata": {},
   "outputs": [
    {
     "name": "stderr",
     "output_type": "stream",
     "text": [
      "/home/pierre/miniconda3/envs/jupyter/lib/python3.10/site-packages/rpy2/robjects/pandas2ri.py:54: FutureWarning: iteritems is deprecated and will be removed in a future version. Use .items instead.\n",
      "  for name, values in obj.iteritems():\n"
     ]
    },
    {
     "data": {
      "image/png": "[encoded data removed]"
     },
     "metadata": {},
     "output_type": "display_data"
    }
   ],
   "source": [
    "%%R -i df\n",
    "ggplot(df, aes(x=reorder(cups_of_coffee,productivity), y=productivity)) + geom_col() + coord_flip()"
   ]
  },
  {
   "cell_type": "markdown",
   "id": "ddaa21e0-5e67-4f72-bd99-0b7c28825332",
   "metadata": {},
   "source": [
    "### Repeat the rmarkdown code into jupyter\n",
    "We try to make the same exercise as in rmarkdown"
   ]
  },
  {
   "cell_type": "markdown",
   "id": "d79d8f3a-0ab1-4afd-8205-bb9bd70aa7b2",
   "metadata": {},
   "source": [
    "#### Load the required libraries"
   ]
  },
  {
   "cell_type": "code",
   "execution_count": 5,
   "id": "efa2f0d5-10e6-4d46-9a8e-9b8a4c09dc06",
   "metadata": {},
   "outputs": [],
   "source": [
    "%%R\n",
    "# function to automatically install missing libraries from r-cran or biocmanager\n",
    "\n",
    "check_rcran_library <- function(rcran_lib=\"vector of rcran lib required\"){\n",
    " # list of installed packages\n",
    " rcran_lib_require <-  rcran_lib[!(rcran_lib %in% installed.packages()[,\"Package\"])]\n",
    " # installe les librairies manquantes pour R CRAN\n",
    " if(length(rcran_lib_require)) install.packages(rcran_lib_require)\n",
    " suppressMessages(lapply(rcran_lib, require, character.only = TRUE))\n",
    "}\n",
    "\n",
    "check_bioconductor_library <- function(bioconductor_lib=\"vector of rcran lib required\"){\n",
    "  # list of installed packages\n",
    "  bioconductor_lib_require <-  bioconductor_lib[!(bioconductor_lib %in% installed.packages()[,\"Package\"])]\n",
    "  # installe les librairies manquantes pour R CRAN\n",
    "  if(length(bioconductor_lib_require)) install.packages(bioconductor_lib_require)\n",
    "  suppressMessages(lapply(bioconductor_lib, require, character.only = TRUE))\n",
    "}"
   ]
  },
  {
   "cell_type": "code",
   "execution_count": 6,
   "id": "34263281-8e73-4a4a-959d-28cc9c47a80e",
   "metadata": {},
   "outputs": [],
   "source": [
    "%%R\n",
    "# List of libraries\n",
    "cran_lib <- c(\"ggplot2\",\"ade4\",\"kableExtra\",\"adegraphics\",\"gridExtra\",\"IRdisplay\")\n",
    "import_lib = check_rcran_library(rcran_lib = cran_lib)"
   ]
  },
  {
   "cell_type": "code",
   "execution_count": 7,
   "id": "45d58281-1465-46b0-b4c6-84332a6c656c",
   "metadata": {},
   "outputs": [
    {
     "ename": "SyntaxError",
     "evalue": "expression cannot contain assignment, perhaps you meant \"==\"? (2617582166.py, line 5)",
     "output_type": "error",
     "traceback": [
      "\u001b[0;36m  Cell \u001b[0;32mIn [7], line 5\u001b[0;36m\u001b[0m\n\u001b[0;31m    doubs_files <- list.files(path=file_path, full.names = T)\u001b[0m\n\u001b[0m                                              ^\u001b[0m\n\u001b[0;31mSyntaxError\u001b[0m\u001b[0;31m:\u001b[0m expression cannot contain assignment, perhaps you meant \"==\"?\n"
     ]
    }
   ],
   "source": [
    "#### Load the data\n",
    "%%R\n",
    "# Load and check your data\n",
    "file_path <-  \"r_data\"\n",
    "doubs_files <- list.files(path=file_path, full.names = T)\n",
    "doubs <- list()\n",
    "for (doubs_df in doubs_files){\n",
    "    tmp_data <- read.table(doubs_df, h =T, sep=\"\\t\")\n",
    "    doubs[[basename(doubs_df)]] <- tmp_data\n",
    "}"
   ]
  },
  {
   "cell_type": "code",
   "execution_count": null,
   "id": "449ca5a7-8bc1-4a96-b501-74270d213e63",
   "metadata": {},
   "outputs": [],
   "source": [
    "#### Make the PCA and visualize\n",
    "%%R\n",
    "# Analyses\n",
    "acp1 <- dudi.pca(doubs$env, scan =  FALSE)\n",
    "acp2 <- dudi.pca(doubs$fish, scan =  FALSE, scale = FALSE)\n",
    "# Plot the results\n",
    "g1 <- scatter(acp2, plot = FALSE)\n",
    "g2 <- s.value(doubs$xy, acp2$li[,1], plot = FALSE)\n",
    "ADEgS(c(g1, g2), layout = c(1, 2))"
   ]
  },
  {
   "cell_type": "markdown",
   "id": "46f9237e-bb87-4658-9fc9-45fa1bbdb3b8",
   "metadata": {},
   "source": [
    "# Example of genomic visualisation"
   ]
  },
  {
   "cell_type": "code",
   "execution_count": null,
   "id": "73adc2b7-bfc4-45c5-ab64-727465f8c82e",
   "metadata": {},
   "outputs": [],
   "source": [
    "from coolbox.api import *\n",
    "\n",
    "DATA_DIR = f\"CoolBox/tests/test_data\"\n",
    "test_interval = \"chr9:4000000-6000000\"\n",
    "test_itv = test_interval.replace(':', '_').replace('-', '_')\n",
    "\n",
    "cool1 = Cool(f\"{DATA_DIR}/cool_{test_itv}.mcool\", cmap=\"JuiceBoxLike\", style='window', color_bar='vertical')\n",
    "with TrackHeight(2):\n",
    "    frame = XAxis() + \\\n",
    "        cool1 + Title(\"Hi-C(.cool)\") + \\\n",
    "        TADCoverage(f\"{DATA_DIR}/tad_{test_itv}.bed\", border_only=True, alpha=1) + Title(\"HIC with TADs\") + \\\n",
    "        Spacer(0.1) + \\\n",
    "        BED(f\"{DATA_DIR}/tad_{test_itv}.bed\", border_only=True, alpha=1) + Title(\"TADs\") + \\\n",
    "        DiScore(cool1, window_size=30) + Feature(title=\"Directionality index\") + \\\n",
    "        InsuScore(cool1, window_size=30) + Title(\"Insulation score\") + \\\n",
    "        Virtual4C(cool1, \"chr9:4986000-4986000\") + Title(\"Virtual4C\") + \\\n",
    "        BAMCov(f\"{DATA_DIR}/bam_{test_itv}.bam\") + Title(\"BAM Coverage\") +\\\n",
    "        Spacer(0.1) + \\\n",
    "        Arcs(f\"{DATA_DIR}/bedpe_{test_itv}.bedpe\", line_width=1.5) + Title(\"Arcs(BEDPE)\") + \\\n",
    "        Arcs(f\"{DATA_DIR}/pairs_{test_itv}.pairs\", line_width=1.5) + Inverted() + Title(\"Arcs(Pairs)\") + \\\n",
    "        GTF(f\"{DATA_DIR}/gtf_{test_itv}.gtf\", length_ratio_thresh=0.005) + TrackHeight(6) + Title(\"GTF Annotation\") + \\\n",
    "        Spacer(0.1) + \\\n",
    "        BigWig(f\"{DATA_DIR}/bigwig_{test_itv}.bw\") + Title(\"BigWig\") + \\\n",
    "        BedGraph(f\"{DATA_DIR}/bedgraph_{test_itv}.bg\") + Title(\"BedGraph\") + \\\n",
    "        Spacer(0.1) + \\\n",
    "        BED(f\"{DATA_DIR}/bed_{test_itv}.bed\") + Feature(height=10, title=\"BED Annotation\")\n",
    "frame.properties['width'] = 45\n",
    "frame.goto(test_interval)\n",
    "frame.show()"
   ]
  },
  {
   "cell_type": "markdown",
   "id": "08ac0aea-d4fa-4903-8766-115c823dfcb2",
   "metadata": {},
   "source": [
    "# Example of interactive genome visualisation"
   ]
  },
  {
   "cell_type": "code",
   "execution_count": null,
   "id": "caeade24-2b63-442d-bf89-446f9032acce",
   "metadata": {},
   "outputs": [],
   "source": [
    "from igv_jupyterlab import IGV\n",
    "\n",
    "# At minimum, IGV requires a single argument, genome.\n",
    "\n",
    "# For supported genomes, a simple name may be supplied.\n",
    "IGV(genome=\"hg19\")\n",
    "\n",
    "# For all other genomes, we must construct a configuration object.\n",
    "# A helper method supplied to make this easier.\n",
    "genome = IGV.create_genome(\n",
    "    name=\"Human (GRCh38/hg38)\",\n",
    "    fasta_url=\"https://s3.amazonaws.com/igv.broadinstitute.org/genomes/seq/hg38/hg38.fa\",\n",
    "    index_url=\"https://s3.amazonaws.com/igv.broadinstitute.org/genomes/seq/hg38/hg38.fa.fai\",\n",
    "    cytoband_url=\"https://s3.amazonaws.com/igv.broadinstitute.org/annotations/hg38/cytoBandIdeo.txt\",\n",
    ")\n",
    "\n",
    "igv = IGV(genome=genome)\n",
    "\n",
    "display(igv)"
   ]
  }
 ],
 "metadata": {
  "kernelspec": {
   "display_name": "Python 3 (ipykernel)",
   "language": "python",
   "name": "python3"
  },
  "language_info": {
   "codemirror_mode": {
    "name": "ipython",
    "version": 3
   },
   "file_extension": ".py",
   "mimetype": "text/x-python",
   "name": "python",
   "nbconvert_exporter": "python",
   "pygments_lexer": "ipython3",
   "version": "3.10.6"
  },
  "toc-autonumbering": false,
  "toc-showcode": true,
  "toc-showmarkdowntxt": true
 },
 "nbformat": 4,
 "nbformat_minor": 5
}
