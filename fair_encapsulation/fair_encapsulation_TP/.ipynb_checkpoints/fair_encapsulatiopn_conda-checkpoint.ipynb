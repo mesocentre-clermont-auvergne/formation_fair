{
 "cells": [
  {
   "cell_type": "markdown",
   "id": "8f0500cf-7f3f-417c-a17e-0229c165018a",
   "metadata": {
    "tags": []
   },
   "source": [
    "# <div align=\"center\">FAIR - <img src=\"https://docs.conda.io/en/latest/_images/conda_logo.svg\" alt=\"drawing\" width=\"200\"/> practice</div>"
   ]
  },
  {
   "cell_type": "markdown",
   "id": "ab3da3ff-ce92-4815-9936-c038aadc54b6",
   "metadata": {},
   "source": [
    "## **Objectives**\n",
    "____\n",
    "> - Search packages using web interface and conda commands\n",
    "> - Manage environement by creating, exporting environment parameters\n",
    "> - Manage package inside environment using specific versions\n",
    "> - Understand some limitations of conda environments"
   ]
  },
  {
   "cell_type": "markdown",
   "id": "09b1a330-38dc-4de8-b72f-1466f8dff81e",
   "metadata": {
    "tags": []
   },
   "source": [
    "### Search package using conda website or conda command\n",
    "____\n",
    "1. Search samtools package on the anaconda website: https://anaconda.org/\n",
    "\n",
    "2. Search samtool using conda command\n",
    "    - Search in all conda channel\n",
    "    \n",
    "    - Search in each channel: bioconda and conda-forge\n",
    "    \n",
    "    - Search if the package is already  present in your environments\n",
    "3. Search in your environment\n",
    "    \n",
    "    "
   ]
  },
  {
   "cell_type": "markdown",
   "id": "4d77749a-acb4-4003-9daa-61a0f1481a4e",
   "metadata": {
    "tags": []
   },
   "source": [
    "#### Search package solution"
   ]
  },
  {
   "cell_type": "markdown",
   "id": "7da0f1bf-f94d-4965-9a3f-e89a7c0d7a70",
   "metadata": {},
   "source": [
    "<details>\n",
    "  <summary> Package load solution</summary>\n",
    "    \n",
    "    \n",
    "1. https://anaconda.org/bioconda/samtools\n",
    "2.\n",
    "\n",
    "```bash\n",
    "[conda|mamba] search samtools\n",
    "\n",
    "[conda|mamba] search bioconda::samtools\n",
    "[conda|mamba] search bioconda::samtools=1.10\n",
    "[conda|mamba] search conda-forge::samtools\n",
    "```\n",
    "3.\n",
    "```bash\n",
    "[conda|mamba] search --envs samtools\n",
    "```\n",
    "</details>"
   ]
  },
  {
   "cell_type": "markdown",
   "id": "33a22692-a04b-47d6-94da-17675d0c4112",
   "metadata": {
    "tags": []
   },
   "source": [
    "### Create a conda environment\n",
    "____\n",
    "    1. Create a default environment\n",
    "    2. Create an environemnt with python 3.6\n",
    "    3. Create an environment with python 2.7 and the last compatible samtools version\n",
    "    4. Create an environment with python 2.7 and samtools 1.16.1\n",
    "    5. Create an environment from a .yaml file\n",
    "    \n",
    "```bash\n",
    "    environment_file.yml content :\n",
    "\n",
    "name: rnaseq\n",
    "channels:\n",
    "    - defaults\n",
    "    - bioconda\n",
    "    - conda-forge\n",
    "dependencies:\n",
    "    - fastqc=0.11.6\n",
    "    - samtools=1.6\n",
    "```\n",
    "    6. Activate your environment\n",
    "    7. Jump to another environment\n",
    "    8. Deactivate all the environments"
   ]
  },
  {
   "cell_type": "markdown",
   "id": "7aa8e87d-0bbb-4a5d-abac-7901d7560811",
   "metadata": {
    "tags": []
   },
   "source": [
    "#### Conda environment solution"
   ]
  },
  {
   "cell_type": "markdown",
   "id": "1259a78f-9594-40e0-a0c7-e22abbd7739e",
   "metadata": {},
   "source": [
    "<details>\n",
    "  <summary> Conda env solution</summary>\n",
    "    \n",
    "1.\n",
    "```bash\n",
    "[conda|mamba] create -n|--name [choose_env_name]\n",
    "```\n",
    "\n",
    "2.\n",
    "```bash\n",
    "[conda|mamba] create -n|--name [choose_env_name] python=3.6\n",
    "```\n",
    "3.\n",
    "```bash\n",
    "[conda|mamba] create -n|--name [choose_env_name] python=2.7 samtools -c bioconda\n",
    "```\n",
    "4.\n",
    "```bash\n",
    "[conda|mamba] create -n|--name [choose_env_name] python=2.7 samtools=1.16 -c bioconda\n",
    "```\n",
    "5.\n",
    "```bash\n",
    "[conda|mamba] env create -f [environment_file.yml]\n",
    "```\n",
    "6.\n",
    "```bash\n",
    "conda activate [choose_env_name]\n",
    "```\n",
    "7.\n",
    "```bash\n",
    "conda activate [choose_env_name]\n",
    "```\n",
    "8.\n",
    "```bash\n",
    "conda deactivate\n",
    "```\n",
    "</details>"
   ]
  },
  {
   "cell_type": "markdown",
   "id": "930bcece-4649-41c2-8d80-c82e48ca6fbf",
   "metadata": {
    "tags": []
   },
   "source": [
    "### Install conda packages into an environment\n",
    "____\n",
    "    1. Create a first environment and activate it\n",
    "    2. Install these tools : \n",
    "        - samtools\n",
    "        - fastp\n",
    "        - bwa\n",
    "        - shovill\n",
    "    3. List packages of the conda environment\n",
    "    4. Change only the bwa version to 0.6.2 with mamba \n",
    "    5. Create another environment and activate it\n",
    "    6. Install the tools with a specific version\n",
    "        - samtools: 1.11\n",
    "        - fastp: 0.17.0\n",
    "        - bwa: 0.7.17\n",
    "        - shovill: 1.1.0\n",
    "    7. Compare the two environments package versions\n",
    "    \n",
    " **Special issues**\n",
    "\n",
    "    8. Create the same environment as in [6.] but only change bwa version to 0.6.2\n",
    "    9. Try to install Plasflow plasmid annotation tool with python version 3.5.1 then 3.5.2 in a new environment.\n"
   ]
  },
  {
   "cell_type": "markdown",
   "id": "7e6fa204-df09-4bfc-b28e-ddaedcac61bc",
   "metadata": {
    "tags": []
   },
   "source": [
    "#### Conda package solution"
   ]
  },
  {
   "cell_type": "markdown",
   "id": "decb7713-30ca-494e-b626-09ecf74c6e55",
   "metadata": {},
   "source": [
    "<details>\n",
    "  <summary> Conda package solution</summary>\n",
    "    \n",
    "1.\n",
    "```bash\n",
    "[conda|mamba] create -n|--name [choose_env_name]\n",
    "conda activate [choose_env_name]\n",
    "```\n",
    "2.\n",
    "```bash\n",
    "[conda|mamba] install [-c bioconda] samtools fastp bwa shovill\n",
    "```\n",
    "3.\n",
    "```bash\n",
    "[conda|mamba] list\n",
    "```\n",
    "4.\n",
    "```bash\n",
    "mamba install -c bioconda bwa=0.6.2\n",
    "```\n",
    "```bash\n",
    "Package              Version  Build           Channel                    Size\n",
    "─────────────────────────────────────────────────────────────────────────────────\n",
    "  Upgrade:\n",
    "─────────────────────────────────────────────────────────────────────────────────\n",
    "\n",
    "  - ca-certificates  2022.6.15  ha878542_0      conda-forge                    \n",
    "  + ca-certificates  2022.9.24  ha878542_0      conda-forge/linux-64      154kB\n",
    "  - certifi          2022.6.15  py37h89c1867_0  conda-forge                    \n",
    "  + certifi          2022.9.24  pyhd8ed1ab_0    conda-forge/noarch        159kB\n",
    "  - openssl             1.1.1o  h166bdaf_0      conda-forge                    \n",
    "  + openssl             1.1.1q  h166bdaf_0      conda-forge/linux-64        2MB\n",
    "\n",
    "  Downgrade:\n",
    "─────────────────────────────────────────────────────────────────────────────────\n",
    "\n",
    "  - bwa                 0.7.17  h7132678_9      bioconda                       \n",
    "  + bwa                  0.6.2  ha92aebf_2      bioconda/linux-64         334kB\n",
    "  - shovill              1.1.0  hdfd78af_1      bioconda                       \n",
    "  + shovill              0.9.0  1               bioconda/linux-64        Cached\n",
    "\n",
    "  Summary:\n",
    "\n",
    "  Upgrade: 3 packages\n",
    "  Downgrade: 2 packages\n",
    "```\n",
    "\n",
    "5.\n",
    "```bash\n",
    "conda deactivate \n",
    "[conda|mamba] create -n|--name [choose_new_env_name]\n",
    "```\n",
    "6.\n",
    "```bash\n",
    "[conda|mamba] install -c bioconda samtool=1.11 fastp=0.17.0 bwa=0.7.17 shovill=1.1.0\n",
    "```\n",
    "7.\n",
    "```bash\n",
    "[conda|mamba] env export -n|--name [choose_new_env_name] > choose_new_env_name.yml\n",
    "conda compare -n [choose_env_name] ./choose_new_env_name.yml\n",
    "```\n",
    "8.\n",
    "```bash\n",
    "[conda|mamba] install -c bioconda samtool=1.11 fastp=0.17.0 bwa=0.6.2 shovill=1.1.0\n",
    "```\n",
    "```bash\n",
    " Problem: package shovill-1.1.0-0 requires bwa >=0.7.17, but none of the providers can be installed\n",
    "```\n",
    "    \n",
    "9.\n",
    "```bash\n",
    "[conda|mamba] create -n plasflow_env python=3.5.1 plasflow -c bioconda\n",
    "```\n",
    "```bash\n",
    "Encountered problems while solving.\n",
    "Problem: nothing provides r 3.2.2* needed by rpy2-2.7.6-py27r3.2.2_0\n",
    "```\n",
    "```bash\n",
    "[conda|mamba] create -n plasflow_env python=3.5.2 plasflow -c bioconda\n",
    "```\n",
    "</details>\n",
    "\n"
   ]
  },
  {
   "cell_type": "markdown",
   "id": "5ffa1543-46c2-416b-8b17-757d9c3e560d",
   "metadata": {},
   "source": [
    "### Load conda module on HPC2 cluster\n",
    "____\n",
    "\n",
    "1. Load conda already available on the cluster \n",
    "\n",
    "2. Control the conda version \n",
    "\n",
    "3. List available conda environments "
   ]
  },
  {
   "cell_type": "markdown",
   "id": "6dc2d813-6201-4dd1-b7ee-f5b499c249bc",
   "metadata": {},
   "source": [
    "#### Load module solution"
   ]
  },
  {
   "cell_type": "markdown",
   "id": "4a49d0e1-0730-4350-b6a2-c97f2afacc3f",
   "metadata": {},
   "source": [
    "<details>\n",
    "  <summary>Load module solution</summary>\n",
    "\n",
    "1.\n",
    "```bash\n",
    "module load conda/4.12.3\n",
    "```\n",
    "2.\n",
    "```bash\n",
    "conda --version\n",
    "```\n",
    "3.\n",
    "```bash\n",
    "conda env list\n",
    "```\n",
    "</details>\n"
   ]
  },
  {
   "cell_type": "code",
   "execution_count": null,
   "id": "aed8abd5-d0ba-4134-a842-b9e1be96bd6c",
   "metadata": {},
   "outputs": [],
   "source": []
  }
 ],
 "metadata": {
  "kernelspec": {
   "display_name": "Python_jupyter",
   "language": "python",
   "name": "jupyter"
  },
  "language_info": {
   "codemirror_mode": {
    "name": "ipython",
    "version": 3
   },
   "file_extension": ".py",
   "mimetype": "text/x-python",
   "name": "python",
   "nbconvert_exporter": "python",
   "pygments_lexer": "ipython3",
   "version": "3.10.6"
  }
 },
 "nbformat": 4,
 "nbformat_minor": 5
}
