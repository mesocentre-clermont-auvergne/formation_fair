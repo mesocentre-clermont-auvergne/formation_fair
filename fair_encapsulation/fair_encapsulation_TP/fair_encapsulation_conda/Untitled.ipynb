{
 "cells": [
  {
   "cell_type": "code",
   "execution_count": 1,
   "id": "0c2faeb4-5bd7-477b-a46f-67557b16f82b",
   "metadata": {},
   "outputs": [
    {
     "name": "stdout",
     "output_type": "stream",
     "text": [
      "# conda environments:\n",
      "#\n",
      "base                     /home/pierre/miniconda3\n",
      "                         /home/pierre/miniconda3/bin\n",
      "__bakta@1.6.1            /home/pierre/miniconda3/envs/__bakta@1.6.1\n",
      "__bedtools@2.30.0        /home/pierre/miniconda3/envs/__bedtools@2.30.0\n",
      "__plasmidfinder@2.1.6     /home/pierre/miniconda3/envs/__plasmidfinder@2.1.6\n",
      "__python@3.7             /home/pierre/miniconda3/envs/__python@3.7\n",
      "_galaxy_                 /home/pierre/miniconda3/envs/_galaxy_\n",
      "abromics                 /home/pierre/miniconda3/envs/abromics\n",
      "amr                      /home/pierre/miniconda3/envs/amr\n",
      "amrfinderplus            /home/pierre/miniconda3/envs/amrfinderplus\n",
      "annotation               /home/pierre/miniconda3/envs/annotation\n",
      "assembly                 /home/pierre/miniconda3/envs/assembly\n",
      "bakta@1.7                /home/pierre/miniconda3/envs/bakta@1.7\n",
      "bracken                  /home/pierre/miniconda3/envs/bracken\n",
      "busco                    /home/pierre/miniconda3/envs/busco\n",
      "conda_build              /home/pierre/miniconda3/envs/conda_build\n",
      "deeptools                /home/pierre/miniconda3/envs/deeptools\n",
      "ephemeris                /home/pierre/miniconda3/envs/ephemeris\n",
      "galaxy_to_json           /home/pierre/miniconda3/envs/galaxy_to_json\n",
      "galtojson                /home/pierre/miniconda3/envs/galtojson\n",
      "hamronization            /home/pierre/miniconda3/envs/hamronization\n",
      "jupyter               *  /home/pierre/miniconda3/envs/jupyter\n",
      "kraken                   /home/pierre/miniconda3/envs/kraken\n",
      "medaka                   /home/pierre/miniconda3/envs/medaka\n",
      "mulled-v1-5cf059845aba3b45584ee051afaa9bcddd7bc3cf2d485bbde0906cfa31e97a65     /home/pierre/miniconda3/envs/mulled-v1-5cf059845aba3b45584ee051afaa9bcddd7bc3cf2d485bbde0906cfa31e97a65\n",
      "mulled-v1-ca195b12c14e35565e393a2d07f2deac7610d8126cc3460d217504efd11d4347     /home/pierre/miniconda3/envs/mulled-v1-ca195b12c14e35565e393a2d07f2deac7610d8126cc3460d217504efd11d4347\n",
      "mulled-v1-ca969496b3cdb071ae06f98d317b974e3561115475488f3ffdc365e5e6e1c394     /home/pierre/miniconda3/envs/mulled-v1-ca969496b3cdb071ae06f98d317b974e3561115475488f3ffdc365e5e6e1c394\n",
      "planemo                  /home/pierre/miniconda3/envs/planemo\n",
      "plasmid1                 /home/pierre/miniconda3/envs/plasmid1\n",
      "plasmidfinder            /home/pierre/miniconda3/envs/plasmidfinder\n",
      "polish                   /home/pierre/miniconda3/envs/polish\n",
      "pycharm                  /home/pierre/miniconda3/envs/pycharm\n",
      "qc_metric                /home/pierre/miniconda3/envs/qc_metric\n",
      "rcf                      /home/pierre/miniconda3/envs/rcf\n",
      "refseqmasher             /home/pierre/miniconda3/envs/refseqmasher\n",
      "rmd_fair                 /home/pierre/miniconda3/envs/rmd_fair\n",
      "shovill                  /home/pierre/miniconda3/envs/shovill\n",
      "snakemake                /home/pierre/miniconda3/envs/snakemake\n",
      "sphinx_doc               /home/pierre/miniconda3/envs/sphinx_doc\n",
      "sratoolkit               /home/pierre/miniconda3/envs/sratoolkit\n",
      "srst2                    /home/pierre/miniconda3/envs/srst2\n",
      "staramr                  /home/pierre/miniconda3/envs/staramr\n",
      "taxonomy                 /home/pierre/miniconda3/envs/taxonomy\n",
      "test                     /home/pierre/miniconda3/envs/test\n",
      "test2                    /home/pierre/miniconda3/envs/test2\n",
      "trimming                 /home/pierre/miniconda3/envs/trimming\n",
      "xlstest                  /home/pierre/miniconda3/envs/xlstest\n",
      "\n"
     ]
    }
   ],
   "source": [
    "! conda env list"
   ]
  },
  {
   "cell_type": "code",
   "execution_count": null,
   "id": "4a575a37-87de-4d38-8b23-3bd0e390ce80",
   "metadata": {},
   "outputs": [],
   "source": []
  }
 ],
 "metadata": {
  "kernelspec": {
   "display_name": "Python [conda env:jupyter] *",
   "language": "python",
   "name": "conda-env-jupyter-py"
  },
  "language_info": {
   "codemirror_mode": {
    "name": "ipython",
    "version": 3
   },
   "file_extension": ".py",
   "mimetype": "text/x-python",
   "name": "python",
   "nbconvert_exporter": "python",
   "pygments_lexer": "ipython3",
   "version": "3.11.3"
  }
 },
 "nbformat": 4,
 "nbformat_minor": 5
}
