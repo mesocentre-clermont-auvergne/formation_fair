{
 "cells": [
  {
   "cell_type": "markdown",
   "id": "8f0500cf-7f3f-417c-a17e-0229c165018a",
   "metadata": {
    "tags": []
   },
   "source": [
    "# <div align=\"center\">FAIR PRACTICE<img src=\"https://upload.wikimedia.org/wikipedia/commons/thumb/4/4e/Docker_%28container_engine%29_logo.svg/1280px-Docker_%28container_engine%29_logo.svg.png\" alt=\"drawing\" width=\"200\"/> </div>"
   ]
  },
  {
   "cell_type": "markdown",
   "id": "ab3da3ff-ce92-4815-9936-c038aadc54b6",
   "metadata": {},
   "source": [
    "## **Objectives**\n",
    "____\n",
    "> - Use already build image from docker hub\n",
    "> - Build my own image\n",
    "> - Deploy a container and use it "
   ]
  },
  {
   "cell_type": "markdown",
   "id": "09b1a330-38dc-4de8-b72f-1466f8dff81e",
   "metadata": {
    "tags": []
   },
   "source": [
    "### Search docker image using docker hub website or docker command\n",
    "____\n",
    "1. Search fastqc package on the docker hub website: https://hub.docker.com/\n",
    "\n",
    "2. Search fastqc using docker search command\n",
    "    - Search in all docker hub\n",
    "    - Filter with at least 1 star   \n",
    "    \n",
    "3. Give the tag information from fastQC provided by staphb author\n",
    "    "
   ]
  },
  {
   "cell_type": "markdown",
   "id": "4d77749a-acb4-4003-9daa-61a0f1481a4e",
   "metadata": {
    "tags": []
   },
   "source": [
    "#### Docker search solution"
   ]
  },
  {
   "cell_type": "markdown",
   "id": "7da0f1bf-f94d-4965-9a3f-e89a7c0d7a70",
   "metadata": {},
   "source": [
    "<details>\n",
    "  <summary> Docker search solutions </summary>\n",
    "    \n",
    "    \n",
    "1. https://hub.docker.com/search?q=fastqc\n",
    "2.\n",
    "\n",
    "```bash\n",
    "docker search fastqc\n",
    "docker search fastqc --filter=stars=1 OR \n",
    "docker search fastqc -f stars=1\n",
    "```\n",
    "3.\n",
    "\n",
    "```bash\n",
    " - latest\n",
    " - 0.11.9\n",
    " - 0.11.8\n",
    "```\n",
    "</details>"
   ]
  },
  {
   "cell_type": "markdown",
   "id": "33a22692-a04b-47d6-94da-17675d0c4112",
   "metadata": {
    "tags": []
   },
   "source": [
    "### Pull a docker image\n",
    "____\n",
    "    1. Pull the fastqc image from staphb author\n",
    "    2. Pull the fastqc image from biocontainers author\n",
    "    3. List available images on my computer"
   ]
  },
  {
   "cell_type": "markdown",
   "id": "7aa8e87d-0bbb-4a5d-abac-7901d7560811",
   "metadata": {
    "tags": []
   },
   "source": [
    "#### Docker pull solution"
   ]
  },
  {
   "cell_type": "markdown",
   "id": "1259a78f-9594-40e0-a0c7-e22abbd7739e",
   "metadata": {},
   "source": [
    "<details>\n",
    "  <summary> Docker pull solution</summary>\n",
    "    \n",
    "1.\n",
    "```bash\n",
    "docker pull staphb/fastqc\n",
    "```\n",
    "2.\n",
    "```bash\n",
    "docker pull biocontainers/fastqc\n",
    "Using default tag: latest\n",
    "Error response from daemon: manifest for biocontainers/fastqc:latest not found: manifest unknown: manifest unknown\n",
    "```\n",
    "My bad this failed ! look at the tag information :\n",
    "```bash\n",
    "docker pull biocontainers/fastqc:v0.11.9_cv8\n",
    "```\n",
    "3.\n",
    "```bash\n",
    "docker image ls\n",
    "```\n",
    "    \n",
    "</details>"
   ]
  },
  {
   "cell_type": "markdown",
   "id": "930bcece-4649-41c2-8d80-c82e48ca6fbf",
   "metadata": {
    "tags": []
   },
   "source": [
    "### Run a container with my images\n",
    "____\n",
    "\n",
    "1. Run and work with staphb/fastqc tool container on one shot\n",
    "    - Print version of the tool\n",
    "    - Analyse 1 sample from : [SRR13957123_1.fastq.gz](https://raw.githubusercontent.com/StaPH-B/docker-builds/master/tests/SARS-CoV-2/SRR13957123_1.fastq.gz)\n",
    "\n",
    "2. Run staphb/fastqc tool container in background\n",
    "3. Use previous background container to analyse a fastq file\n",
    "    - In direct command line\n",
    "    - Using interactive shell inside the container\n",
    "\n"
   ]
  },
  {
   "cell_type": "markdown",
   "id": "7e6fa204-df09-4bfc-b28e-ddaedcac61bc",
   "metadata": {
    "tags": []
   },
   "source": [
    "#### Run container solution"
   ]
  },
  {
   "cell_type": "markdown",
   "id": "decb7713-30ca-494e-b626-09ecf74c6e55",
   "metadata": {},
   "source": [
    "<details>\n",
    "  <summary> Run container solution </summary>\n",
    "    \n",
    "1.\n",
    "```bash\n",
    "docker run -v [folder/to/mount]:[/path/in/docker] -w [working_dir/in/docker] [container_name] [commands]\n",
    "    -v indicate a volume to mount here we mount the current directory\n",
    "    -w  Working directory inside the container\n",
    "  \n",
    "mkdir fastqc_output    \n",
    "docker run -v $(pwd):/in -w /in staphb/fastqc fastqc SRR13957123_1.fastq.gz --outdir fastqc_output\n",
    "```\n",
    "2.\n",
    "```bash\n",
    "docker run -d -i -t -v $(pwd):/in -w /in --name [container_name] staphb/fastqc /bin/sh\n",
    "    -d Run container in background and print container ID\n",
    "    -i Keep STDIN open even if not attached\n",
    "    -t Allocate a pseudo-TTY\n",
    "    -v indicate a volume to mount --> here we mount the current directory\n",
    "    -w  Working directory inside the container\n",
    "    \n",
    "\n",
    "docker run -dit -v $(pwd):/in -w /in --name fastqc_background staphb/fastqc /bin/sh\n",
    "\n",
    "```\n",
    "3.\n",
    "```bash\n",
    "mkdir fastqc_output  \n",
    "docker exec fastqc_background fastqc SRR13957123_1.fastq.gz --outdir fastqc_output\n",
    "\n",
    "docker exec -it fastqc_background sh\n",
    "mkdir fastqc_output\n",
    "fastqc SRR13957123_1.fastq.gz --outdir fastqc_output \n",
    "```\n",
    "\n",
    "</details>\n",
    "\n"
   ]
  },
  {
   "cell_type": "markdown",
   "id": "5ffa1543-46c2-416b-8b17-757d9c3e560d",
   "metadata": {},
   "source": [
    "### Build my own docker image\n",
    "____"
   ]
  },
  {
   "cell_type": "markdown",
   "id": "cb4b46a5",
   "metadata": {},
   "source": [
    "#### Build a Dockerfile\n",
    "\n",
    "1. Build a `Dockerfile` for fastp trimming tool from the original [github repository](https://github.com/OpenGene/fastp)\n",
    "    - You need a linux base image as ubuntu:bionic\n",
    "    - You need to specify the fastp version\n",
    "    - You need to list all dependencies need\n",
    "2. Build a `Dockerfile` with fastp from conda\n",
    "    - You need a conda environment inside the docker image"
   ]
  },
  {
   "cell_type": "markdown",
   "id": "6dc2d813-6201-4dd1-b7ee-f5b499c249bc",
   "metadata": {},
   "source": [
    "#### Dockerfile solution"
   ]
  },
  {
   "cell_type": "markdown",
   "id": "65445324",
   "metadata": {},
   "source": [
    "<details>\n",
    "  <summary> Build image solution </summary>\n",
    "    \n",
    "1. Dockerfile from the [docker_assembly_raw](https://github.com/mesocentre-clermont-auvergne/formation_fair/tree/main/fair_encapsulation/fair_encapsulation_TP/fair_encapsulation_containers/fair_encapsulation_docker/docker_assembly_raw) folder \n",
    "2. Dockerfile from the [docker_assembly_conda](https://github.com/mesocentre-clermont-auvergne/formation_fair/blob/main/fair_encapsulation/fair_encapsulation_TP/fair_encapsulation_containers/fair_encapsulation_docker/docker_assembly_conda/Dockerfile) folder\n",
    "\n",
    "</details>\n",
    "\n"
   ]
  },
  {
   "cell_type": "code",
   "execution_count": null,
   "id": "5949498d",
   "metadata": {},
   "outputs": [],
   "source": []
  }
 ],
 "metadata": {
  "kernelspec": {
   "display_name": "Python_jupyter",
   "language": "python",
   "name": "jupyter"
  },
  "language_info": {
   "codemirror_mode": {
    "name": "ipython",
    "version": 3
   },
   "file_extension": ".py",
   "mimetype": "text/x-python",
   "name": "python",
   "nbconvert_exporter": "python",
   "pygments_lexer": "ipython3",
   "version": "3.10.6"
  }
 },
 "nbformat": 4,
 "nbformat_minor": 5
}
